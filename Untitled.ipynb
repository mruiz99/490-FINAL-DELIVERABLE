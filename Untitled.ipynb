{
 "cells": [
  {
   "cell_type": "code",
   "execution_count": 93,
   "id": "english-generator",
   "metadata": {},
   "outputs": [],
   "source": [
    "import pandas as pd\n",
    "import numpy as np\n",
    "import datetime\n",
    "import sys\n",
    "import matplotlib.pyplot as plt\n",
    "import seaborn as sns"
   ]
  },
  {
   "cell_type": "code",
   "execution_count": null,
   "id": "engaging-sleep",
   "metadata": {},
   "outputs": [],
   "source": []
  },
  {
   "cell_type": "code",
   "execution_count": 107,
   "id": "colored-layer",
   "metadata": {},
   "outputs": [],
   "source": [
    "janfeb19=pd.read_csv(\"2019PGJANFEB.csv\")\n",
    "janfeb20=pd.read_csv(\"2020PGJANFEB.csv\")\n",
    "marmay19=pd.read_csv(\"2019PGMARMAY.csv\")\n",
    "marmay20=pd.read_csv(\"2020PGMARMAY.csv\")\n",
    "augjan19=pd.read_csv(\"2019PGAUGJAN.csv\")\n",
    "augjan20=pd.read_csv(\"2020PGAUGJAN.csv\")"
   ]
  },
  {
   "cell_type": "code",
   "execution_count": null,
   "id": "likely-tampa",
   "metadata": {},
   "outputs": [],
   "source": []
  },
  {
   "cell_type": "code",
   "execution_count": 108,
   "id": "harmful-webmaster",
   "metadata": {},
   "outputs": [],
   "source": [
    "janfebPG=pd.concat([janfeb19,janfeb20])\n",
    "marmayPG=pd.concat([marmay19,marmay20])\n",
    "augjanPG=pd.concat([augjan19,augjan20])\n"
   ]
  },
  {
   "cell_type": "code",
   "execution_count": 109,
   "id": "distributed-indicator",
   "metadata": {},
   "outputs": [],
   "source": [
    "janfeb19mo=pd.read_csv(\"2019MOCOJANFEB.csv\")\n",
    "janfeb20mo=pd.read_csv(\"2020MOCOJANFEB.csv\")\n",
    "marmay19mo=pd.read_csv(\"2019MOCOMARMAY.csv\")\n",
    "marmay20mo=pd.read_csv(\"2020MOCOMARMAY.csv\")\n",
    "augjan19mo=pd.read_csv(\"2019MOCOAUGJAN.csv\")\n",
    "augjan20mo=pd.read_csv(\"2020MOCOAUGJAN.csv\")\n"
   ]
  },
  {
   "cell_type": "code",
   "execution_count": 110,
   "id": "exterior-conducting",
   "metadata": {},
   "outputs": [],
   "source": [
    "janfebMOCO=pd.concat([janfeb19mo,janfeb20mo])\n",
    "marmayMOCO=pd.concat([marmay19mo,marmay20mo])\n",
    "augjanMOCO=pd.concat([augjan19mo,augjan20mo])"
   ]
  },
  {
   "cell_type": "code",
   "execution_count": null,
   "id": "governing-manual",
   "metadata": {},
   "outputs": [],
   "source": []
  },
  {
   "cell_type": "code",
   "execution_count": null,
   "id": "computational-picking",
   "metadata": {},
   "outputs": [],
   "source": [
    "def County:\n",
    "    \n",
    "    def __init__(self, county):\n",
    "        self.county=county\n",
    "        self.counties=[\"pg\",\"moco\"]\n",
    "        if county == self.counties[0]:\n",
    "            pass\n",
    "        elif county == self.counties[1]:\n",
    "            pass\n",
    "        else:\n",
    "            pass\n",
    "\n",
    "    def loadMonths(self, county):\n",
    "        if county == self.county[0]:\n",
    "            pass\n",
    "        if county == self.county[1]:\n",
    "            pass\n",
    "\n",
    "def deliverables:\n",
    "    \n",
    "    def __init__(self):\n",
    "        pass\n",
    "    \n",
    "    def first():\n",
    "        pass\n",
    "    "
   ]
  },
  {
   "cell_type": "code",
   "execution_count": null,
   "id": "thirty-adrian",
   "metadata": {},
   "outputs": [],
   "source": []
  },
  {
   "cell_type": "code",
   "execution_count": null,
   "id": "guilty-sustainability",
   "metadata": {},
   "outputs": [],
   "source": []
  },
  {
   "cell_type": "code",
   "execution_count": null,
   "id": "experienced-guarantee",
   "metadata": {},
   "outputs": [],
   "source": []
  }
 ],
 "metadata": {
  "kernelspec": {
   "display_name": "Python 3",
   "language": "python",
   "name": "python3"
  },
  "language_info": {
   "codemirror_mode": {
    "name": "ipython",
    "version": 3
   },
   "file_extension": ".py",
   "mimetype": "text/x-python",
   "name": "python",
   "nbconvert_exporter": "python",
   "pygments_lexer": "ipython3",
   "version": "3.9.1"
  }
 },
 "nbformat": 4,
 "nbformat_minor": 5
}
