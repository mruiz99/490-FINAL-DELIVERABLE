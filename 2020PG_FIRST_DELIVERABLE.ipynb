{
 "cells": [
  {
   "cell_type": "code",
   "execution_count": 14,
   "id": "governing-elder",
   "metadata": {},
   "outputs": [],
   "source": [
    "import pandas as pd\n",
    "import numpy as np\n",
    "import datetime\n",
    "import matplotlib.pyplot as plt\n",
    "import seaborn as sns\n",
    "\n",
    "\n"
   ]
  },
  {
   "cell_type": "code",
   "execution_count": 15,
   "id": "royal-florist",
   "metadata": {},
   "outputs": [],
   "source": [
    "janfeb=pd.read_csv(\"2019MOCOJANFEB.csv\")\n",
    "marmay=pd.read_csv(\"2019MOCOMARMAY.csv\")\n",
    "augjan=pd.read_csv(\"2019MOCOAUGJAN.csv\")"
   ]
  },
  {
   "cell_type": "code",
   "execution_count": 16,
   "id": "allied-opening",
   "metadata": {},
   "outputs": [
    {
     "output_type": "execute_result",
     "data": {
      "text/plain": [
       "\"\\njanfeb=janfeb[(janfeb['route']=='Route 13') | (janfeb['route']=='Route 16') | \\n       (janfeb['route']=='Route 17 (Route 1 Ride)') | (janfeb['route']=='Route 26') |\\n      (janfeb['route']=='Route 30') | (janfeb['route']=='Route 32') |\\n      (janfeb['route']=='Route 33') | (janfeb['route']=='Route 35') |\\n      (janfeb['route']=='Route 36') | (janfeb['route']=='Route 28') |\\n      (janfeb['route']=='Route 34') | (janfeb['route']=='Route 51 Loop A') |\\n      (janfeb['route']=='Route 51 Loop B') | (janfeb['route']=='Route 51 Loop X')]\\n\\nmarmay=marmay[(marmay['route']=='Route 13') | (marmay['route']=='Route 16') | \\n       (marmay['route']=='Route 17 (Route 1 Ride)') | (marmay['route']=='Route 26') |\\n      (marmay['route']=='Route 30') | (marmay['route']=='Route 32') |\\n      (marmay['route']=='Route 33') | (marmay['route']=='Route 35') |\\n      (marmay['route']=='Route 36') | (marmay['route']=='Route 28') |\\n      (marmay['route']=='Route 34') | (marmay['route']=='Route 51 Loop A') |\\n      (marmay['route']=='Route 51 Loop B') | (marmay['route']=='Route 51 Loop X')]\\n\\naugjan=augjan[(augjan['route']=='Route 13') | (augjan['route']=='Route 16') | \\n       (augjan['route']=='Route 17 (Route 1 Ride)') | (augjan['route']=='Route 26') |\\n      (augjan['route']=='Route 30') | (augjan['route']=='Route 32') |\\n      (augjan['route']=='Route 33') | (augjan['route']=='Route 35') |\\n      (augjan['route']=='Route 36') | (augjan['route']=='Route 28') |\\n      (augjan['route']=='Route 34') | (augjan['route']=='Route 51 Loop A') |\\n      (augjan['route']=='Route 51 Loop B') | (augjan['route']=='Route 51 Loop X')]\\n\""
      ]
     },
     "metadata": {},
     "execution_count": 16
    }
   ],
   "source": [
    "\"\"\"\n",
    "janfeb=janfeb[(janfeb['route']=='Route 13') | (janfeb['route']=='Route 16') | \n",
    "       (janfeb['route']=='Route 17 (Route 1 Ride)') | (janfeb['route']=='Route 26') |\n",
    "      (janfeb['route']=='Route 30') | (janfeb['route']=='Route 32') |\n",
    "      (janfeb['route']=='Route 33') | (janfeb['route']=='Route 35') |\n",
    "      (janfeb['route']=='Route 36') | (janfeb['route']=='Route 28') |\n",
    "      (janfeb['route']=='Route 34') | (janfeb['route']=='Route 51 Loop A') |\n",
    "      (janfeb['route']=='Route 51 Loop B') | (janfeb['route']=='Route 51 Loop X')]\n",
    "\n",
    "marmay=marmay[(marmay['route']=='Route 13') | (marmay['route']=='Route 16') | \n",
    "       (marmay['route']=='Route 17 (Route 1 Ride)') | (marmay['route']=='Route 26') |\n",
    "      (marmay['route']=='Route 30') | (marmay['route']=='Route 32') |\n",
    "      (marmay['route']=='Route 33') | (marmay['route']=='Route 35') |\n",
    "      (marmay['route']=='Route 36') | (marmay['route']=='Route 28') |\n",
    "      (marmay['route']=='Route 34') | (marmay['route']=='Route 51 Loop A') |\n",
    "      (marmay['route']=='Route 51 Loop B') | (marmay['route']=='Route 51 Loop X')]\n",
    "\n",
    "augjan=augjan[(augjan['route']=='Route 13') | (augjan['route']=='Route 16') | \n",
    "       (augjan['route']=='Route 17 (Route 1 Ride)') | (augjan['route']=='Route 26') |\n",
    "      (augjan['route']=='Route 30') | (augjan['route']=='Route 32') |\n",
    "      (augjan['route']=='Route 33') | (augjan['route']=='Route 35') |\n",
    "      (augjan['route']=='Route 36') | (augjan['route']=='Route 28') |\n",
    "      (augjan['route']=='Route 34') | (augjan['route']=='Route 51 Loop A') |\n",
    "      (augjan['route']=='Route 51 Loop B') | (augjan['route']=='Route 51 Loop X')]\n",
    "\"\"\""
   ]
  },
  {
   "cell_type": "code",
   "execution_count": 17,
   "id": "binding-trademark",
   "metadata": {},
   "outputs": [],
   "source": [
    "#janfeb.to_csv(\"2020janfeb3.csv\",encoding=\"utf-8\")\n",
    "#marmay.to_csv(\"2020marmay3.csv\",encoding=\"utf-8\")\n",
    "#augjan.to_csv(\"2020augjan3.csv\",encoding=\"utf-8\")\n"
   ]
  },
  {
   "cell_type": "code",
   "execution_count": 18,
   "id": "wanted-quilt",
   "metadata": {},
   "outputs": [],
   "source": [
    "monthlist=[\"JAN\",\"FEB\",\"MAR\",\"APR\",\"MAY\",\"AUG\",\"SEP\",\"OCT\",\"NOV\",\"DEC\",\"JAN'21\"]"
   ]
  },
  {
   "cell_type": "code",
   "execution_count": 19,
   "metadata": {},
   "outputs": [
    {
     "output_type": "execute_result",
     "data": {
      "text/plain": [
       "       route_id  stop_id                               stops  block_id  \\\n",
       "0            46        0                             UNKNOWN      2001   \n",
       "1            46        0                             UNKNOWN      2001   \n",
       "2            46        0                             UNKNOWN      2001   \n",
       "3            46        0                             UNKNOWN      2001   \n",
       "4            46        0                             UNKNOWN      2001   \n",
       "...         ...      ...                                 ...       ...   \n",
       "79012       100    15182  GERMANTOWN TRANSIT CENTER  & BAY B      2256   \n",
       "79013       100    15182  GERMANTOWN TRANSIT CENTER  & BAY B      2256   \n",
       "79014       100    15182  GERMANTOWN TRANSIT CENTER  & BAY B      2256   \n",
       "79015       100    15182  GERMANTOWN TRANSIT CENTER  & BAY B      2256   \n",
       "79016       100    15182  GERMANTOWN TRANSIT CENTER  & BAY B      2256   \n",
       "\n",
       "       vehicle_id  run_id   op_id   dates     times  boardings  alightings  \\\n",
       "0          5741.0     201   900.0   Jan 1  10:28:01        0.0         0.0   \n",
       "1          5741.0     201   900.0   Jan 1  11:22:48        0.0         0.0   \n",
       "2          5741.0     201   900.0   Jan 1  12:00:49        1.0         1.0   \n",
       "3          4095.0     201  2304.0   Jan 6  05:02:58        0.0         0.0   \n",
       "4          4095.0     201  2304.0   Jan 6  06:02:09        0.0         0.0   \n",
       "...           ...     ...     ...     ...       ...        ...         ...   \n",
       "79012      4106.0     272  3053.0  Feb 25  17:46:21        6.0        20.0   \n",
       "79013      4092.0     272  3053.0  Feb 26  16:28:00        0.0        13.0   \n",
       "79014      4092.0     272  3053.0  Feb 26  17:45:41       12.0        19.0   \n",
       "79015      4054.0     272  2838.0  Feb 27  16:28:43        0.0        16.0   \n",
       "79016      4054.0     272  2838.0  Feb 27  17:42:25        9.0        21.0   \n",
       "\n",
       "       hour  month  year  \n",
       "0        10      1    19  \n",
       "1        11      1    19  \n",
       "2        12      1    19  \n",
       "3         5      1    19  \n",
       "4         6      1    19  \n",
       "...     ...    ...   ...  \n",
       "79012    17      2    19  \n",
       "79013    16      2    19  \n",
       "79014    17      2    19  \n",
       "79015    16      2    19  \n",
       "79016    17      2    19  \n",
       "\n",
       "[79017 rows x 14 columns]"
      ],
      "text/html": "<div>\n<style scoped>\n    .dataframe tbody tr th:only-of-type {\n        vertical-align: middle;\n    }\n\n    .dataframe tbody tr th {\n        vertical-align: top;\n    }\n\n    .dataframe thead th {\n        text-align: right;\n    }\n</style>\n<table border=\"1\" class=\"dataframe\">\n  <thead>\n    <tr style=\"text-align: right;\">\n      <th></th>\n      <th>route_id</th>\n      <th>stop_id</th>\n      <th>stops</th>\n      <th>block_id</th>\n      <th>vehicle_id</th>\n      <th>run_id</th>\n      <th>op_id</th>\n      <th>dates</th>\n      <th>times</th>\n      <th>boardings</th>\n      <th>alightings</th>\n      <th>hour</th>\n      <th>month</th>\n      <th>year</th>\n    </tr>\n  </thead>\n  <tbody>\n    <tr>\n      <th>0</th>\n      <td>46</td>\n      <td>0</td>\n      <td>UNKNOWN</td>\n      <td>2001</td>\n      <td>5741.0</td>\n      <td>201</td>\n      <td>900.0</td>\n      <td>Jan 1</td>\n      <td>10:28:01</td>\n      <td>0.0</td>\n      <td>0.0</td>\n      <td>10</td>\n      <td>1</td>\n      <td>19</td>\n    </tr>\n    <tr>\n      <th>1</th>\n      <td>46</td>\n      <td>0</td>\n      <td>UNKNOWN</td>\n      <td>2001</td>\n      <td>5741.0</td>\n      <td>201</td>\n      <td>900.0</td>\n      <td>Jan 1</td>\n      <td>11:22:48</td>\n      <td>0.0</td>\n      <td>0.0</td>\n      <td>11</td>\n      <td>1</td>\n      <td>19</td>\n    </tr>\n    <tr>\n      <th>2</th>\n      <td>46</td>\n      <td>0</td>\n      <td>UNKNOWN</td>\n      <td>2001</td>\n      <td>5741.0</td>\n      <td>201</td>\n      <td>900.0</td>\n      <td>Jan 1</td>\n      <td>12:00:49</td>\n      <td>1.0</td>\n      <td>1.0</td>\n      <td>12</td>\n      <td>1</td>\n      <td>19</td>\n    </tr>\n    <tr>\n      <th>3</th>\n      <td>46</td>\n      <td>0</td>\n      <td>UNKNOWN</td>\n      <td>2001</td>\n      <td>4095.0</td>\n      <td>201</td>\n      <td>2304.0</td>\n      <td>Jan 6</td>\n      <td>05:02:58</td>\n      <td>0.0</td>\n      <td>0.0</td>\n      <td>5</td>\n      <td>1</td>\n      <td>19</td>\n    </tr>\n    <tr>\n      <th>4</th>\n      <td>46</td>\n      <td>0</td>\n      <td>UNKNOWN</td>\n      <td>2001</td>\n      <td>4095.0</td>\n      <td>201</td>\n      <td>2304.0</td>\n      <td>Jan 6</td>\n      <td>06:02:09</td>\n      <td>0.0</td>\n      <td>0.0</td>\n      <td>6</td>\n      <td>1</td>\n      <td>19</td>\n    </tr>\n    <tr>\n      <th>...</th>\n      <td>...</td>\n      <td>...</td>\n      <td>...</td>\n      <td>...</td>\n      <td>...</td>\n      <td>...</td>\n      <td>...</td>\n      <td>...</td>\n      <td>...</td>\n      <td>...</td>\n      <td>...</td>\n      <td>...</td>\n      <td>...</td>\n      <td>...</td>\n    </tr>\n    <tr>\n      <th>79012</th>\n      <td>100</td>\n      <td>15182</td>\n      <td>GERMANTOWN TRANSIT CENTER  &amp; BAY B</td>\n      <td>2256</td>\n      <td>4106.0</td>\n      <td>272</td>\n      <td>3053.0</td>\n      <td>Feb 25</td>\n      <td>17:46:21</td>\n      <td>6.0</td>\n      <td>20.0</td>\n      <td>17</td>\n      <td>2</td>\n      <td>19</td>\n    </tr>\n    <tr>\n      <th>79013</th>\n      <td>100</td>\n      <td>15182</td>\n      <td>GERMANTOWN TRANSIT CENTER  &amp; BAY B</td>\n      <td>2256</td>\n      <td>4092.0</td>\n      <td>272</td>\n      <td>3053.0</td>\n      <td>Feb 26</td>\n      <td>16:28:00</td>\n      <td>0.0</td>\n      <td>13.0</td>\n      <td>16</td>\n      <td>2</td>\n      <td>19</td>\n    </tr>\n    <tr>\n      <th>79014</th>\n      <td>100</td>\n      <td>15182</td>\n      <td>GERMANTOWN TRANSIT CENTER  &amp; BAY B</td>\n      <td>2256</td>\n      <td>4092.0</td>\n      <td>272</td>\n      <td>3053.0</td>\n      <td>Feb 26</td>\n      <td>17:45:41</td>\n      <td>12.0</td>\n      <td>19.0</td>\n      <td>17</td>\n      <td>2</td>\n      <td>19</td>\n    </tr>\n    <tr>\n      <th>79015</th>\n      <td>100</td>\n      <td>15182</td>\n      <td>GERMANTOWN TRANSIT CENTER  &amp; BAY B</td>\n      <td>2256</td>\n      <td>4054.0</td>\n      <td>272</td>\n      <td>2838.0</td>\n      <td>Feb 27</td>\n      <td>16:28:43</td>\n      <td>0.0</td>\n      <td>16.0</td>\n      <td>16</td>\n      <td>2</td>\n      <td>19</td>\n    </tr>\n    <tr>\n      <th>79016</th>\n      <td>100</td>\n      <td>15182</td>\n      <td>GERMANTOWN TRANSIT CENTER  &amp; BAY B</td>\n      <td>2256</td>\n      <td>4054.0</td>\n      <td>272</td>\n      <td>2838.0</td>\n      <td>Feb 27</td>\n      <td>17:42:25</td>\n      <td>9.0</td>\n      <td>21.0</td>\n      <td>17</td>\n      <td>2</td>\n      <td>19</td>\n    </tr>\n  </tbody>\n</table>\n<p>79017 rows × 14 columns</p>\n</div>"
     },
     "metadata": {},
     "execution_count": 19
    }
   ],
   "source": [
    "janfeb"
   ]
  },
  {
   "cell_type": "code",
   "execution_count": 20,
   "id": "certain-words",
   "metadata": {},
   "outputs": [
    {
     "output_type": "display_data",
     "data": {
      "text/plain": "<Figure size 1440x720 with 2 Axes>",
      "image/svg+xml": "<?xml version=\"1.0\" encoding=\"utf-8\" standalone=\"no\"?>\n<!DOCTYPE svg PUBLIC \"-//W3C//DTD SVG 1.1//EN\"\n  \"http://www.w3.org/Graphics/SVG/1.1/DTD/svg11.dtd\">\n<!-- Created with matplotlib (https://matplotlib.org/) -->\n<svg height=\"589.04455pt\" version=\"1.1\" viewBox=\"0 0 1182.890625 589.04455\" width=\"1182.890625pt\" xmlns=\"http://www.w3.org/2000/svg\" xmlns:xlink=\"http://www.w3.org/1999/xlink\">\n <defs>\n  <style type=\"text/css\">\n*{stroke-linecap:butt;stroke-linejoin:round;}\n  </style>\n </defs>\n <g id=\"figure_1\">\n  <g id=\"patch_1\">\n   <path d=\"M 0 589.04455 \nL 1182.890625 589.04455 \nL 1182.890625 0 \nL 0 0 \nz\n\" style=\"fill:none;\"/>\n  </g>\n  <g id=\"axes_1\">\n   <g id=\"patch_2\">\n    <path d=\"M 59.690625 254.979209 \nL 1175.690625 254.979209 \nL 1175.690625 7.8883 \nL 59.690625 7.8883 \nz\n\" style=\"fill:#ffffff;\"/>\n   </g>\n   <g id=\"patch_3\">\n    <path clip-path=\"url(#p45cbe735a0)\" d=\"M 96.890625 254.979209 \nL 394.490625 254.979209 \nL 394.490625 71.948906 \nL 96.890625 71.948906 \nz\n\" style=\"fill:#3274a1;\"/>\n   </g>\n   <g id=\"patch_4\">\n    <path clip-path=\"url(#p45cbe735a0)\" d=\"M 468.890625 254.979209 \nL 766.490625 254.979209 \nL 766.490625 149.130233 \nL 468.890625 149.130233 \nz\n\" style=\"fill:#e1812c;\"/>\n   </g>\n   <g id=\"patch_5\">\n    <path clip-path=\"url(#p45cbe735a0)\" d=\"M 840.890625 254.979209 \nL 1138.490625 254.979209 \nL 1138.490625 219.016558 \nL 840.890625 219.016558 \nz\n\" style=\"fill:#3a923a;\"/>\n   </g>\n   <g id=\"matplotlib.axis_1\">\n    <g id=\"xtick_1\">\n     <g id=\"line2d_1\">\n      <defs>\n       <path d=\"M 0 0 \nL 0 3.5 \n\" id=\"m3c91498f6c\" style=\"stroke:#000000;stroke-width:0.8;\"/>\n      </defs>\n      <g>\n       <use style=\"stroke:#000000;stroke-width:0.8;\" x=\"245.690625\" xlink:href=\"#m3c91498f6c\" y=\"254.979209\"/>\n      </g>\n     </g>\n     <g id=\"text_1\">\n      <!-- 46 -->\n      <defs>\n       <path d=\"M 37.796875 64.3125 \nL 12.890625 25.390625 \nL 37.796875 25.390625 \nz\nM 35.203125 72.90625 \nL 47.609375 72.90625 \nL 47.609375 25.390625 \nL 58.015625 25.390625 \nL 58.015625 17.1875 \nL 47.609375 17.1875 \nL 47.609375 0 \nL 37.796875 0 \nL 37.796875 17.1875 \nL 4.890625 17.1875 \nL 4.890625 26.703125 \nz\n\" id=\"DejaVuSans-52\"/>\n       <path d=\"M 33.015625 40.375 \nQ 26.375 40.375 22.484375 35.828125 \nQ 18.609375 31.296875 18.609375 23.390625 \nQ 18.609375 15.53125 22.484375 10.953125 \nQ 26.375 6.390625 33.015625 6.390625 \nQ 39.65625 6.390625 43.53125 10.953125 \nQ 47.40625 15.53125 47.40625 23.390625 \nQ 47.40625 31.296875 43.53125 35.828125 \nQ 39.65625 40.375 33.015625 40.375 \nz\nM 52.59375 71.296875 \nL 52.59375 62.3125 \nQ 48.875 64.0625 45.09375 64.984375 \nQ 41.3125 65.921875 37.59375 65.921875 \nQ 27.828125 65.921875 22.671875 59.328125 \nQ 17.53125 52.734375 16.796875 39.40625 \nQ 19.671875 43.65625 24.015625 45.921875 \nQ 28.375 48.1875 33.59375 48.1875 \nQ 44.578125 48.1875 50.953125 41.515625 \nQ 57.328125 34.859375 57.328125 23.390625 \nQ 57.328125 12.15625 50.6875 5.359375 \nQ 44.046875 -1.421875 33.015625 -1.421875 \nQ 20.359375 -1.421875 13.671875 8.265625 \nQ 6.984375 17.96875 6.984375 36.375 \nQ 6.984375 53.65625 15.1875 63.9375 \nQ 23.390625 74.21875 37.203125 74.21875 \nQ 40.921875 74.21875 44.703125 73.484375 \nQ 48.484375 72.75 52.59375 71.296875 \nz\n\" id=\"DejaVuSans-54\"/>\n      </defs>\n      <g transform=\"translate(239.328125 269.577646)scale(0.1 -0.1)\">\n       <use xlink:href=\"#DejaVuSans-52\"/>\n       <use x=\"63.623047\" xlink:href=\"#DejaVuSans-54\"/>\n      </g>\n     </g>\n    </g>\n    <g id=\"xtick_2\">\n     <g id=\"line2d_2\">\n      <g>\n       <use style=\"stroke:#000000;stroke-width:0.8;\" x=\"617.690625\" xlink:href=\"#m3c91498f6c\" y=\"254.979209\"/>\n      </g>\n     </g>\n     <g id=\"text_2\">\n      <!-- 55 -->\n      <defs>\n       <path d=\"M 10.796875 72.90625 \nL 49.515625 72.90625 \nL 49.515625 64.59375 \nL 19.828125 64.59375 \nL 19.828125 46.734375 \nQ 21.96875 47.46875 24.109375 47.828125 \nQ 26.265625 48.1875 28.421875 48.1875 \nQ 40.625 48.1875 47.75 41.5 \nQ 54.890625 34.8125 54.890625 23.390625 \nQ 54.890625 11.625 47.5625 5.09375 \nQ 40.234375 -1.421875 26.90625 -1.421875 \nQ 22.3125 -1.421875 17.546875 -0.640625 \nQ 12.796875 0.140625 7.71875 1.703125 \nL 7.71875 11.625 \nQ 12.109375 9.234375 16.796875 8.0625 \nQ 21.484375 6.890625 26.703125 6.890625 \nQ 35.15625 6.890625 40.078125 11.328125 \nQ 45.015625 15.765625 45.015625 23.390625 \nQ 45.015625 31 40.078125 35.4375 \nQ 35.15625 39.890625 26.703125 39.890625 \nQ 22.75 39.890625 18.8125 39.015625 \nQ 14.890625 38.140625 10.796875 36.28125 \nz\n\" id=\"DejaVuSans-53\"/>\n      </defs>\n      <g transform=\"translate(611.328125 269.577646)scale(0.1 -0.1)\">\n       <use xlink:href=\"#DejaVuSans-53\"/>\n       <use x=\"63.623047\" xlink:href=\"#DejaVuSans-53\"/>\n      </g>\n     </g>\n    </g>\n    <g id=\"xtick_3\">\n     <g id=\"line2d_3\">\n      <g>\n       <use style=\"stroke:#000000;stroke-width:0.8;\" x=\"989.690625\" xlink:href=\"#m3c91498f6c\" y=\"254.979209\"/>\n      </g>\n     </g>\n     <g id=\"text_3\">\n      <!-- 100 -->\n      <defs>\n       <path d=\"M 12.40625 8.296875 \nL 28.515625 8.296875 \nL 28.515625 63.921875 \nL 10.984375 60.40625 \nL 10.984375 69.390625 \nL 28.421875 72.90625 \nL 38.28125 72.90625 \nL 38.28125 8.296875 \nL 54.390625 8.296875 \nL 54.390625 0 \nL 12.40625 0 \nz\n\" id=\"DejaVuSans-49\"/>\n       <path d=\"M 31.78125 66.40625 \nQ 24.171875 66.40625 20.328125 58.90625 \nQ 16.5 51.421875 16.5 36.375 \nQ 16.5 21.390625 20.328125 13.890625 \nQ 24.171875 6.390625 31.78125 6.390625 \nQ 39.453125 6.390625 43.28125 13.890625 \nQ 47.125 21.390625 47.125 36.375 \nQ 47.125 51.421875 43.28125 58.90625 \nQ 39.453125 66.40625 31.78125 66.40625 \nz\nM 31.78125 74.21875 \nQ 44.046875 74.21875 50.515625 64.515625 \nQ 56.984375 54.828125 56.984375 36.375 \nQ 56.984375 17.96875 50.515625 8.265625 \nQ 44.046875 -1.421875 31.78125 -1.421875 \nQ 19.53125 -1.421875 13.0625 8.265625 \nQ 6.59375 17.96875 6.59375 36.375 \nQ 6.59375 54.828125 13.0625 64.515625 \nQ 19.53125 74.21875 31.78125 74.21875 \nz\n\" id=\"DejaVuSans-48\"/>\n      </defs>\n      <g transform=\"translate(980.146875 269.577646)scale(0.1 -0.1)\">\n       <use xlink:href=\"#DejaVuSans-49\"/>\n       <use x=\"63.623047\" xlink:href=\"#DejaVuSans-48\"/>\n       <use x=\"127.246094\" xlink:href=\"#DejaVuSans-48\"/>\n      </g>\n     </g>\n    </g>\n    <g id=\"text_4\">\n     <!-- route_id -->\n     <defs>\n      <path d=\"M 41.109375 46.296875 \nQ 39.59375 47.171875 37.8125 47.578125 \nQ 36.03125 48 33.890625 48 \nQ 26.265625 48 22.1875 43.046875 \nQ 18.109375 38.09375 18.109375 28.8125 \nL 18.109375 0 \nL 9.078125 0 \nL 9.078125 54.6875 \nL 18.109375 54.6875 \nL 18.109375 46.1875 \nQ 20.953125 51.171875 25.484375 53.578125 \nQ 30.03125 56 36.53125 56 \nQ 37.453125 56 38.578125 55.875 \nQ 39.703125 55.765625 41.0625 55.515625 \nz\n\" id=\"DejaVuSans-114\"/>\n      <path d=\"M 30.609375 48.390625 \nQ 23.390625 48.390625 19.1875 42.75 \nQ 14.984375 37.109375 14.984375 27.296875 \nQ 14.984375 17.484375 19.15625 11.84375 \nQ 23.34375 6.203125 30.609375 6.203125 \nQ 37.796875 6.203125 41.984375 11.859375 \nQ 46.1875 17.53125 46.1875 27.296875 \nQ 46.1875 37.015625 41.984375 42.703125 \nQ 37.796875 48.390625 30.609375 48.390625 \nz\nM 30.609375 56 \nQ 42.328125 56 49.015625 48.375 \nQ 55.71875 40.765625 55.71875 27.296875 \nQ 55.71875 13.875 49.015625 6.21875 \nQ 42.328125 -1.421875 30.609375 -1.421875 \nQ 18.84375 -1.421875 12.171875 6.21875 \nQ 5.515625 13.875 5.515625 27.296875 \nQ 5.515625 40.765625 12.171875 48.375 \nQ 18.84375 56 30.609375 56 \nz\n\" id=\"DejaVuSans-111\"/>\n      <path d=\"M 8.5 21.578125 \nL 8.5 54.6875 \nL 17.484375 54.6875 \nL 17.484375 21.921875 \nQ 17.484375 14.15625 20.5 10.265625 \nQ 23.53125 6.390625 29.59375 6.390625 \nQ 36.859375 6.390625 41.078125 11.03125 \nQ 45.3125 15.671875 45.3125 23.6875 \nL 45.3125 54.6875 \nL 54.296875 54.6875 \nL 54.296875 0 \nL 45.3125 0 \nL 45.3125 8.40625 \nQ 42.046875 3.421875 37.71875 1 \nQ 33.40625 -1.421875 27.6875 -1.421875 \nQ 18.265625 -1.421875 13.375 4.4375 \nQ 8.5 10.296875 8.5 21.578125 \nz\nM 31.109375 56 \nz\n\" id=\"DejaVuSans-117\"/>\n      <path d=\"M 18.3125 70.21875 \nL 18.3125 54.6875 \nL 36.8125 54.6875 \nL 36.8125 47.703125 \nL 18.3125 47.703125 \nL 18.3125 18.015625 \nQ 18.3125 11.328125 20.140625 9.421875 \nQ 21.96875 7.515625 27.59375 7.515625 \nL 36.8125 7.515625 \nL 36.8125 0 \nL 27.59375 0 \nQ 17.1875 0 13.234375 3.875 \nQ 9.28125 7.765625 9.28125 18.015625 \nL 9.28125 47.703125 \nL 2.6875 47.703125 \nL 2.6875 54.6875 \nL 9.28125 54.6875 \nL 9.28125 70.21875 \nz\n\" id=\"DejaVuSans-116\"/>\n      <path d=\"M 56.203125 29.59375 \nL 56.203125 25.203125 \nL 14.890625 25.203125 \nQ 15.484375 15.921875 20.484375 11.0625 \nQ 25.484375 6.203125 34.421875 6.203125 \nQ 39.59375 6.203125 44.453125 7.46875 \nQ 49.3125 8.734375 54.109375 11.28125 \nL 54.109375 2.78125 \nQ 49.265625 0.734375 44.1875 -0.34375 \nQ 39.109375 -1.421875 33.890625 -1.421875 \nQ 20.796875 -1.421875 13.15625 6.1875 \nQ 5.515625 13.8125 5.515625 26.8125 \nQ 5.515625 40.234375 12.765625 48.109375 \nQ 20.015625 56 32.328125 56 \nQ 43.359375 56 49.78125 48.890625 \nQ 56.203125 41.796875 56.203125 29.59375 \nz\nM 47.21875 32.234375 \nQ 47.125 39.59375 43.09375 43.984375 \nQ 39.0625 48.390625 32.421875 48.390625 \nQ 24.90625 48.390625 20.390625 44.140625 \nQ 15.875 39.890625 15.1875 32.171875 \nz\n\" id=\"DejaVuSans-101\"/>\n      <path d=\"M 50.984375 -16.609375 \nL 50.984375 -23.578125 \nL -0.984375 -23.578125 \nL -0.984375 -16.609375 \nz\n\" id=\"DejaVuSans-95\"/>\n      <path d=\"M 9.421875 54.6875 \nL 18.40625 54.6875 \nL 18.40625 0 \nL 9.421875 0 \nz\nM 9.421875 75.984375 \nL 18.40625 75.984375 \nL 18.40625 64.59375 \nL 9.421875 64.59375 \nz\n\" id=\"DejaVuSans-105\"/>\n      <path d=\"M 45.40625 46.390625 \nL 45.40625 75.984375 \nL 54.390625 75.984375 \nL 54.390625 0 \nL 45.40625 0 \nL 45.40625 8.203125 \nQ 42.578125 3.328125 38.25 0.953125 \nQ 33.9375 -1.421875 27.875 -1.421875 \nQ 17.96875 -1.421875 11.734375 6.484375 \nQ 5.515625 14.40625 5.515625 27.296875 \nQ 5.515625 40.1875 11.734375 48.09375 \nQ 17.96875 56 27.875 56 \nQ 33.9375 56 38.25 53.625 \nQ 42.578125 51.265625 45.40625 46.390625 \nz\nM 14.796875 27.296875 \nQ 14.796875 17.390625 18.875 11.75 \nQ 22.953125 6.109375 30.078125 6.109375 \nQ 37.203125 6.109375 41.296875 11.75 \nQ 45.40625 17.390625 45.40625 27.296875 \nQ 45.40625 37.203125 41.296875 42.84375 \nQ 37.203125 48.484375 30.078125 48.484375 \nQ 22.953125 48.484375 18.875 42.84375 \nQ 14.796875 37.203125 14.796875 27.296875 \nz\n\" id=\"DejaVuSans-100\"/>\n     </defs>\n     <g transform=\"translate(597.308594 283.255771)scale(0.1 -0.1)\">\n      <use xlink:href=\"#DejaVuSans-114\"/>\n      <use x=\"41.082031\" xlink:href=\"#DejaVuSans-111\"/>\n      <use x=\"102.263672\" xlink:href=\"#DejaVuSans-117\"/>\n      <use x=\"165.642578\" xlink:href=\"#DejaVuSans-116\"/>\n      <use x=\"204.851562\" xlink:href=\"#DejaVuSans-101\"/>\n      <use x=\"266.375\" xlink:href=\"#DejaVuSans-95\"/>\n      <use x=\"316.375\" xlink:href=\"#DejaVuSans-105\"/>\n      <use x=\"344.158203\" xlink:href=\"#DejaVuSans-100\"/>\n     </g>\n    </g>\n   </g>\n   <g id=\"matplotlib.axis_2\">\n    <g id=\"ytick_1\">\n     <g id=\"line2d_4\">\n      <defs>\n       <path d=\"M 0 0 \nL -3.5 0 \n\" id=\"m2da71af7bc\" style=\"stroke:#000000;stroke-width:0.8;\"/>\n      </defs>\n      <g>\n       <use style=\"stroke:#000000;stroke-width:0.8;\" x=\"59.690625\" xlink:href=\"#m2da71af7bc\" y=\"254.979209\"/>\n      </g>\n     </g>\n     <g id=\"text_5\">\n      <!-- 0 -->\n      <g transform=\"translate(46.328125 258.778427)scale(0.1 -0.1)\">\n       <use xlink:href=\"#DejaVuSans-48\"/>\n      </g>\n     </g>\n    </g>\n    <g id=\"ytick_2\">\n     <g id=\"line2d_5\">\n      <g>\n       <use style=\"stroke:#000000;stroke-width:0.8;\" x=\"59.690625\" xlink:href=\"#m2da71af7bc\" y=\"220.124924\"/>\n      </g>\n     </g>\n     <g id=\"text_6\">\n      <!-- 10000 -->\n      <g transform=\"translate(20.878125 223.924143)scale(0.1 -0.1)\">\n       <use xlink:href=\"#DejaVuSans-49\"/>\n       <use x=\"63.623047\" xlink:href=\"#DejaVuSans-48\"/>\n       <use x=\"127.246094\" xlink:href=\"#DejaVuSans-48\"/>\n       <use x=\"190.869141\" xlink:href=\"#DejaVuSans-48\"/>\n       <use x=\"254.492188\" xlink:href=\"#DejaVuSans-48\"/>\n      </g>\n     </g>\n    </g>\n    <g id=\"ytick_3\">\n     <g id=\"line2d_6\">\n      <g>\n       <use style=\"stroke:#000000;stroke-width:0.8;\" x=\"59.690625\" xlink:href=\"#m2da71af7bc\" y=\"185.27064\"/>\n      </g>\n     </g>\n     <g id=\"text_7\">\n      <!-- 20000 -->\n      <defs>\n       <path d=\"M 19.1875 8.296875 \nL 53.609375 8.296875 \nL 53.609375 0 \nL 7.328125 0 \nL 7.328125 8.296875 \nQ 12.9375 14.109375 22.625 23.890625 \nQ 32.328125 33.6875 34.8125 36.53125 \nQ 39.546875 41.84375 41.421875 45.53125 \nQ 43.3125 49.21875 43.3125 52.78125 \nQ 43.3125 58.59375 39.234375 62.25 \nQ 35.15625 65.921875 28.609375 65.921875 \nQ 23.96875 65.921875 18.8125 64.3125 \nQ 13.671875 62.703125 7.8125 59.421875 \nL 7.8125 69.390625 \nQ 13.765625 71.78125 18.9375 73 \nQ 24.125 74.21875 28.421875 74.21875 \nQ 39.75 74.21875 46.484375 68.546875 \nQ 53.21875 62.890625 53.21875 53.421875 \nQ 53.21875 48.921875 51.53125 44.890625 \nQ 49.859375 40.875 45.40625 35.40625 \nQ 44.1875 33.984375 37.640625 27.21875 \nQ 31.109375 20.453125 19.1875 8.296875 \nz\n\" id=\"DejaVuSans-50\"/>\n      </defs>\n      <g transform=\"translate(20.878125 189.069859)scale(0.1 -0.1)\">\n       <use xlink:href=\"#DejaVuSans-50\"/>\n       <use x=\"63.623047\" xlink:href=\"#DejaVuSans-48\"/>\n       <use x=\"127.246094\" xlink:href=\"#DejaVuSans-48\"/>\n       <use x=\"190.869141\" xlink:href=\"#DejaVuSans-48\"/>\n       <use x=\"254.492188\" xlink:href=\"#DejaVuSans-48\"/>\n      </g>\n     </g>\n    </g>\n    <g id=\"ytick_4\">\n     <g id=\"line2d_7\">\n      <g>\n       <use style=\"stroke:#000000;stroke-width:0.8;\" x=\"59.690625\" xlink:href=\"#m2da71af7bc\" y=\"150.416356\"/>\n      </g>\n     </g>\n     <g id=\"text_8\">\n      <!-- 30000 -->\n      <defs>\n       <path d=\"M 40.578125 39.3125 \nQ 47.65625 37.796875 51.625 33 \nQ 55.609375 28.21875 55.609375 21.1875 \nQ 55.609375 10.40625 48.1875 4.484375 \nQ 40.765625 -1.421875 27.09375 -1.421875 \nQ 22.515625 -1.421875 17.65625 -0.515625 \nQ 12.796875 0.390625 7.625 2.203125 \nL 7.625 11.71875 \nQ 11.71875 9.328125 16.59375 8.109375 \nQ 21.484375 6.890625 26.8125 6.890625 \nQ 36.078125 6.890625 40.9375 10.546875 \nQ 45.796875 14.203125 45.796875 21.1875 \nQ 45.796875 27.640625 41.28125 31.265625 \nQ 36.765625 34.90625 28.71875 34.90625 \nL 20.21875 34.90625 \nL 20.21875 43.015625 \nL 29.109375 43.015625 \nQ 36.375 43.015625 40.234375 45.921875 \nQ 44.09375 48.828125 44.09375 54.296875 \nQ 44.09375 59.90625 40.109375 62.90625 \nQ 36.140625 65.921875 28.71875 65.921875 \nQ 24.65625 65.921875 20.015625 65.03125 \nQ 15.375 64.15625 9.8125 62.3125 \nL 9.8125 71.09375 \nQ 15.4375 72.65625 20.34375 73.4375 \nQ 25.25 74.21875 29.59375 74.21875 \nQ 40.828125 74.21875 47.359375 69.109375 \nQ 53.90625 64.015625 53.90625 55.328125 \nQ 53.90625 49.265625 50.4375 45.09375 \nQ 46.96875 40.921875 40.578125 39.3125 \nz\n\" id=\"DejaVuSans-51\"/>\n      </defs>\n      <g transform=\"translate(20.878125 154.215575)scale(0.1 -0.1)\">\n       <use xlink:href=\"#DejaVuSans-51\"/>\n       <use x=\"63.623047\" xlink:href=\"#DejaVuSans-48\"/>\n       <use x=\"127.246094\" xlink:href=\"#DejaVuSans-48\"/>\n       <use x=\"190.869141\" xlink:href=\"#DejaVuSans-48\"/>\n       <use x=\"254.492188\" xlink:href=\"#DejaVuSans-48\"/>\n      </g>\n     </g>\n    </g>\n    <g id=\"ytick_5\">\n     <g id=\"line2d_8\">\n      <g>\n       <use style=\"stroke:#000000;stroke-width:0.8;\" x=\"59.690625\" xlink:href=\"#m2da71af7bc\" y=\"115.562072\"/>\n      </g>\n     </g>\n     <g id=\"text_9\">\n      <!-- 40000 -->\n      <g transform=\"translate(20.878125 119.36129)scale(0.1 -0.1)\">\n       <use xlink:href=\"#DejaVuSans-52\"/>\n       <use x=\"63.623047\" xlink:href=\"#DejaVuSans-48\"/>\n       <use x=\"127.246094\" xlink:href=\"#DejaVuSans-48\"/>\n       <use x=\"190.869141\" xlink:href=\"#DejaVuSans-48\"/>\n       <use x=\"254.492188\" xlink:href=\"#DejaVuSans-48\"/>\n      </g>\n     </g>\n    </g>\n    <g id=\"ytick_6\">\n     <g id=\"line2d_9\">\n      <g>\n       <use style=\"stroke:#000000;stroke-width:0.8;\" x=\"59.690625\" xlink:href=\"#m2da71af7bc\" y=\"80.707787\"/>\n      </g>\n     </g>\n     <g id=\"text_10\">\n      <!-- 50000 -->\n      <g transform=\"translate(20.878125 84.507006)scale(0.1 -0.1)\">\n       <use xlink:href=\"#DejaVuSans-53\"/>\n       <use x=\"63.623047\" xlink:href=\"#DejaVuSans-48\"/>\n       <use x=\"127.246094\" xlink:href=\"#DejaVuSans-48\"/>\n       <use x=\"190.869141\" xlink:href=\"#DejaVuSans-48\"/>\n       <use x=\"254.492188\" xlink:href=\"#DejaVuSans-48\"/>\n      </g>\n     </g>\n    </g>\n    <g id=\"ytick_7\">\n     <g id=\"line2d_10\">\n      <g>\n       <use style=\"stroke:#000000;stroke-width:0.8;\" x=\"59.690625\" xlink:href=\"#m2da71af7bc\" y=\"45.853503\"/>\n      </g>\n     </g>\n     <g id=\"text_11\">\n      <!-- 60000 -->\n      <g transform=\"translate(20.878125 49.652722)scale(0.1 -0.1)\">\n       <use xlink:href=\"#DejaVuSans-54\"/>\n       <use x=\"63.623047\" xlink:href=\"#DejaVuSans-48\"/>\n       <use x=\"127.246094\" xlink:href=\"#DejaVuSans-48\"/>\n       <use x=\"190.869141\" xlink:href=\"#DejaVuSans-48\"/>\n       <use x=\"254.492188\" xlink:href=\"#DejaVuSans-48\"/>\n      </g>\n     </g>\n    </g>\n    <g id=\"ytick_8\">\n     <g id=\"line2d_11\">\n      <g>\n       <use style=\"stroke:#000000;stroke-width:0.8;\" x=\"59.690625\" xlink:href=\"#m2da71af7bc\" y=\"10.999219\"/>\n      </g>\n     </g>\n     <g id=\"text_12\">\n      <!-- 70000 -->\n      <defs>\n       <path d=\"M 8.203125 72.90625 \nL 55.078125 72.90625 \nL 55.078125 68.703125 \nL 28.609375 0 \nL 18.3125 0 \nL 43.21875 64.59375 \nL 8.203125 64.59375 \nz\n\" id=\"DejaVuSans-55\"/>\n      </defs>\n      <g transform=\"translate(20.878125 14.798437)scale(0.1 -0.1)\">\n       <use xlink:href=\"#DejaVuSans-55\"/>\n       <use x=\"63.623047\" xlink:href=\"#DejaVuSans-48\"/>\n       <use x=\"127.246094\" xlink:href=\"#DejaVuSans-48\"/>\n       <use x=\"190.869141\" xlink:href=\"#DejaVuSans-48\"/>\n       <use x=\"254.492188\" xlink:href=\"#DejaVuSans-48\"/>\n      </g>\n     </g>\n    </g>\n    <g id=\"text_13\">\n     <!-- boardings -->\n     <defs>\n      <path d=\"M 48.6875 27.296875 \nQ 48.6875 37.203125 44.609375 42.84375 \nQ 40.53125 48.484375 33.40625 48.484375 \nQ 26.265625 48.484375 22.1875 42.84375 \nQ 18.109375 37.203125 18.109375 27.296875 \nQ 18.109375 17.390625 22.1875 11.75 \nQ 26.265625 6.109375 33.40625 6.109375 \nQ 40.53125 6.109375 44.609375 11.75 \nQ 48.6875 17.390625 48.6875 27.296875 \nz\nM 18.109375 46.390625 \nQ 20.953125 51.265625 25.265625 53.625 \nQ 29.59375 56 35.59375 56 \nQ 45.5625 56 51.78125 48.09375 \nQ 58.015625 40.1875 58.015625 27.296875 \nQ 58.015625 14.40625 51.78125 6.484375 \nQ 45.5625 -1.421875 35.59375 -1.421875 \nQ 29.59375 -1.421875 25.265625 0.953125 \nQ 20.953125 3.328125 18.109375 8.203125 \nL 18.109375 0 \nL 9.078125 0 \nL 9.078125 75.984375 \nL 18.109375 75.984375 \nz\n\" id=\"DejaVuSans-98\"/>\n      <path d=\"M 34.28125 27.484375 \nQ 23.390625 27.484375 19.1875 25 \nQ 14.984375 22.515625 14.984375 16.5 \nQ 14.984375 11.71875 18.140625 8.90625 \nQ 21.296875 6.109375 26.703125 6.109375 \nQ 34.1875 6.109375 38.703125 11.40625 \nQ 43.21875 16.703125 43.21875 25.484375 \nL 43.21875 27.484375 \nz\nM 52.203125 31.203125 \nL 52.203125 0 \nL 43.21875 0 \nL 43.21875 8.296875 \nQ 40.140625 3.328125 35.546875 0.953125 \nQ 30.953125 -1.421875 24.3125 -1.421875 \nQ 15.921875 -1.421875 10.953125 3.296875 \nQ 6 8.015625 6 15.921875 \nQ 6 25.140625 12.171875 29.828125 \nQ 18.359375 34.515625 30.609375 34.515625 \nL 43.21875 34.515625 \nL 43.21875 35.40625 \nQ 43.21875 41.609375 39.140625 45 \nQ 35.0625 48.390625 27.6875 48.390625 \nQ 23 48.390625 18.546875 47.265625 \nQ 14.109375 46.140625 10.015625 43.890625 \nL 10.015625 52.203125 \nQ 14.9375 54.109375 19.578125 55.046875 \nQ 24.21875 56 28.609375 56 \nQ 40.484375 56 46.34375 49.84375 \nQ 52.203125 43.703125 52.203125 31.203125 \nz\n\" id=\"DejaVuSans-97\"/>\n      <path d=\"M 54.890625 33.015625 \nL 54.890625 0 \nL 45.90625 0 \nL 45.90625 32.71875 \nQ 45.90625 40.484375 42.875 44.328125 \nQ 39.84375 48.1875 33.796875 48.1875 \nQ 26.515625 48.1875 22.3125 43.546875 \nQ 18.109375 38.921875 18.109375 30.90625 \nL 18.109375 0 \nL 9.078125 0 \nL 9.078125 54.6875 \nL 18.109375 54.6875 \nL 18.109375 46.1875 \nQ 21.34375 51.125 25.703125 53.5625 \nQ 30.078125 56 35.796875 56 \nQ 45.21875 56 50.046875 50.171875 \nQ 54.890625 44.34375 54.890625 33.015625 \nz\n\" id=\"DejaVuSans-110\"/>\n      <path d=\"M 45.40625 27.984375 \nQ 45.40625 37.75 41.375 43.109375 \nQ 37.359375 48.484375 30.078125 48.484375 \nQ 22.859375 48.484375 18.828125 43.109375 \nQ 14.796875 37.75 14.796875 27.984375 \nQ 14.796875 18.265625 18.828125 12.890625 \nQ 22.859375 7.515625 30.078125 7.515625 \nQ 37.359375 7.515625 41.375 12.890625 \nQ 45.40625 18.265625 45.40625 27.984375 \nz\nM 54.390625 6.78125 \nQ 54.390625 -7.171875 48.1875 -13.984375 \nQ 42 -20.796875 29.203125 -20.796875 \nQ 24.46875 -20.796875 20.265625 -20.09375 \nQ 16.0625 -19.390625 12.109375 -17.921875 \nL 12.109375 -9.1875 \nQ 16.0625 -11.328125 19.921875 -12.34375 \nQ 23.78125 -13.375 27.78125 -13.375 \nQ 36.625 -13.375 41.015625 -8.765625 \nQ 45.40625 -4.15625 45.40625 5.171875 \nL 45.40625 9.625 \nQ 42.625 4.78125 38.28125 2.390625 \nQ 33.9375 0 27.875 0 \nQ 17.828125 0 11.671875 7.65625 \nQ 5.515625 15.328125 5.515625 27.984375 \nQ 5.515625 40.671875 11.671875 48.328125 \nQ 17.828125 56 27.875 56 \nQ 33.9375 56 38.28125 53.609375 \nQ 42.625 51.21875 45.40625 46.390625 \nL 45.40625 54.6875 \nL 54.390625 54.6875 \nz\n\" id=\"DejaVuSans-103\"/>\n      <path d=\"M 44.28125 53.078125 \nL 44.28125 44.578125 \nQ 40.484375 46.53125 36.375 47.5 \nQ 32.28125 48.484375 27.875 48.484375 \nQ 21.1875 48.484375 17.84375 46.4375 \nQ 14.5 44.390625 14.5 40.28125 \nQ 14.5 37.15625 16.890625 35.375 \nQ 19.28125 33.59375 26.515625 31.984375 \nL 29.59375 31.296875 \nQ 39.15625 29.25 43.1875 25.515625 \nQ 47.21875 21.78125 47.21875 15.09375 \nQ 47.21875 7.46875 41.1875 3.015625 \nQ 35.15625 -1.421875 24.609375 -1.421875 \nQ 20.21875 -1.421875 15.453125 -0.5625 \nQ 10.6875 0.296875 5.421875 2 \nL 5.421875 11.28125 \nQ 10.40625 8.6875 15.234375 7.390625 \nQ 20.0625 6.109375 24.8125 6.109375 \nQ 31.15625 6.109375 34.5625 8.28125 \nQ 37.984375 10.453125 37.984375 14.40625 \nQ 37.984375 18.0625 35.515625 20.015625 \nQ 33.0625 21.96875 24.703125 23.78125 \nL 21.578125 24.515625 \nQ 13.234375 26.265625 9.515625 29.90625 \nQ 5.8125 33.546875 5.8125 39.890625 \nQ 5.8125 47.609375 11.28125 51.796875 \nQ 16.75 56 26.8125 56 \nQ 31.78125 56 36.171875 55.265625 \nQ 40.578125 54.546875 44.28125 53.078125 \nz\n\" id=\"DejaVuSans-115\"/>\n     </defs>\n     <g transform=\"translate(14.798438 156.297035)rotate(-90)scale(0.1 -0.1)\">\n      <use xlink:href=\"#DejaVuSans-98\"/>\n      <use x=\"63.476562\" xlink:href=\"#DejaVuSans-111\"/>\n      <use x=\"124.658203\" xlink:href=\"#DejaVuSans-97\"/>\n      <use x=\"185.9375\" xlink:href=\"#DejaVuSans-114\"/>\n      <use x=\"227.035156\" xlink:href=\"#DejaVuSans-100\"/>\n      <use x=\"290.511719\" xlink:href=\"#DejaVuSans-105\"/>\n      <use x=\"318.294922\" xlink:href=\"#DejaVuSans-110\"/>\n      <use x=\"381.673828\" xlink:href=\"#DejaVuSans-103\"/>\n      <use x=\"445.150391\" xlink:href=\"#DejaVuSans-115\"/>\n     </g>\n    </g>\n   </g>\n   <g id=\"line2d_12\">\n    <path clip-path=\"url(#p45cbe735a0)\" d=\"M 0 0 \n\" style=\"fill:none;stroke:#424242;stroke-linecap:square;stroke-width:2.7;\"/>\n   </g>\n   <g id=\"line2d_13\">\n    <path clip-path=\"url(#p45cbe735a0)\" d=\"M 0 0 \n\" style=\"fill:none;stroke:#424242;stroke-linecap:square;stroke-width:2.7;\"/>\n   </g>\n   <g id=\"line2d_14\">\n    <path clip-path=\"url(#p45cbe735a0)\" d=\"M 0 0 \n\" style=\"fill:none;stroke:#424242;stroke-linecap:square;stroke-width:2.7;\"/>\n   </g>\n   <g id=\"patch_6\">\n    <path d=\"M 59.690625 254.979209 \nL 59.690625 7.8883 \n\" style=\"fill:none;stroke:#000000;stroke-linecap:square;stroke-linejoin:miter;stroke-width:0.8;\"/>\n   </g>\n   <g id=\"patch_7\">\n    <path d=\"M 1175.690625 254.979209 \nL 1175.690625 7.8883 \n\" style=\"fill:none;stroke:#000000;stroke-linecap:square;stroke-linejoin:miter;stroke-width:0.8;\"/>\n   </g>\n   <g id=\"patch_8\">\n    <path d=\"M 59.690625 254.979209 \nL 1175.690625 254.979209 \n\" style=\"fill:none;stroke:#000000;stroke-linecap:square;stroke-linejoin:miter;stroke-width:0.8;\"/>\n   </g>\n   <g id=\"patch_9\">\n    <path d=\"M 59.690625 7.8883 \nL 1175.690625 7.8883 \n\" style=\"fill:none;stroke:#000000;stroke-linecap:square;stroke-linejoin:miter;stroke-width:0.8;\"/>\n   </g>\n  </g>\n  <g id=\"axes_2\">\n   <g id=\"patch_10\">\n    <path d=\"M 59.690625 551.4883 \nL 1175.690625 551.4883 \nL 1175.690625 304.397391 \nL 59.690625 304.397391 \nz\n\" style=\"fill:#ffffff;\"/>\n   </g>\n   <g id=\"patch_11\">\n    <path clip-path=\"url(#pa3209e744c)\" d=\"M 115.490625 551.4883 \nL 561.890625 551.4883 \nL 561.890625 368.457997 \nL 115.490625 368.457997 \nz\n\" style=\"fill:#3274a1;\"/>\n   </g>\n   <g id=\"patch_12\">\n    <path clip-path=\"url(#pa3209e744c)\" d=\"M 673.490625 551.4883 \nL 1119.890625 551.4883 \nL 1119.890625 368.583639 \nL 673.490625 368.583639 \nz\n\" style=\"fill:#e1812c;\"/>\n   </g>\n   <g id=\"matplotlib.axis_3\">\n    <g id=\"xtick_4\">\n     <g id=\"line2d_15\">\n      <g>\n       <use style=\"stroke:#000000;stroke-width:0.8;\" x=\"338.690625\" xlink:href=\"#m3c91498f6c\" y=\"551.4883\"/>\n      </g>\n     </g>\n     <g id=\"text_14\">\n      <!-- JANUARY -->\n      <defs>\n       <path d=\"M 9.8125 72.90625 \nL 19.671875 72.90625 \nL 19.671875 5.078125 \nQ 19.671875 -8.109375 14.671875 -14.0625 \nQ 9.671875 -20.015625 -1.421875 -20.015625 \nL -5.171875 -20.015625 \nL -5.171875 -11.71875 \nL -2.09375 -11.71875 \nQ 4.4375 -11.71875 7.125 -8.046875 \nQ 9.8125 -4.390625 9.8125 5.078125 \nz\n\" id=\"DejaVuSans-74\"/>\n       <path d=\"M 34.1875 63.1875 \nL 20.796875 26.90625 \nL 47.609375 26.90625 \nz\nM 28.609375 72.90625 \nL 39.796875 72.90625 \nL 67.578125 0 \nL 57.328125 0 \nL 50.6875 18.703125 \nL 17.828125 18.703125 \nL 11.1875 0 \nL 0.78125 0 \nz\n\" id=\"DejaVuSans-65\"/>\n       <path d=\"M 9.8125 72.90625 \nL 23.09375 72.90625 \nL 55.421875 11.921875 \nL 55.421875 72.90625 \nL 64.984375 72.90625 \nL 64.984375 0 \nL 51.703125 0 \nL 19.390625 60.984375 \nL 19.390625 0 \nL 9.8125 0 \nz\n\" id=\"DejaVuSans-78\"/>\n       <path d=\"M 8.6875 72.90625 \nL 18.609375 72.90625 \nL 18.609375 28.609375 \nQ 18.609375 16.890625 22.84375 11.734375 \nQ 27.09375 6.59375 36.625 6.59375 \nQ 46.09375 6.59375 50.34375 11.734375 \nQ 54.59375 16.890625 54.59375 28.609375 \nL 54.59375 72.90625 \nL 64.5 72.90625 \nL 64.5 27.390625 \nQ 64.5 13.140625 57.4375 5.859375 \nQ 50.390625 -1.421875 36.625 -1.421875 \nQ 22.796875 -1.421875 15.734375 5.859375 \nQ 8.6875 13.140625 8.6875 27.390625 \nz\n\" id=\"DejaVuSans-85\"/>\n       <path d=\"M 44.390625 34.1875 \nQ 47.5625 33.109375 50.5625 29.59375 \nQ 53.5625 26.078125 56.59375 19.921875 \nL 66.609375 0 \nL 56 0 \nL 46.6875 18.703125 \nQ 43.0625 26.03125 39.671875 28.421875 \nQ 36.28125 30.8125 30.421875 30.8125 \nL 19.671875 30.8125 \nL 19.671875 0 \nL 9.8125 0 \nL 9.8125 72.90625 \nL 32.078125 72.90625 \nQ 44.578125 72.90625 50.734375 67.671875 \nQ 56.890625 62.453125 56.890625 51.90625 \nQ 56.890625 45.015625 53.6875 40.46875 \nQ 50.484375 35.9375 44.390625 34.1875 \nz\nM 19.671875 64.796875 \nL 19.671875 38.921875 \nL 32.078125 38.921875 \nQ 39.203125 38.921875 42.84375 42.21875 \nQ 46.484375 45.515625 46.484375 51.90625 \nQ 46.484375 58.296875 42.84375 61.546875 \nQ 39.203125 64.796875 32.078125 64.796875 \nz\n\" id=\"DejaVuSans-82\"/>\n       <path d=\"M -0.203125 72.90625 \nL 10.40625 72.90625 \nL 30.609375 42.921875 \nL 50.6875 72.90625 \nL 61.28125 72.90625 \nL 35.5 34.71875 \nL 35.5 0 \nL 25.59375 0 \nL 25.59375 34.71875 \nz\n\" id=\"DejaVuSans-89\"/>\n      </defs>\n      <g transform=\"translate(316.452344 566.086737)scale(0.1 -0.1)\">\n       <use xlink:href=\"#DejaVuSans-74\"/>\n       <use x=\"29.476562\" xlink:href=\"#DejaVuSans-65\"/>\n       <use x=\"97.884766\" xlink:href=\"#DejaVuSans-78\"/>\n       <use x=\"172.689453\" xlink:href=\"#DejaVuSans-85\"/>\n       <use x=\"245.882812\" xlink:href=\"#DejaVuSans-65\"/>\n       <use x=\"314.291016\" xlink:href=\"#DejaVuSans-82\"/>\n       <use x=\"383.679688\" xlink:href=\"#DejaVuSans-89\"/>\n      </g>\n     </g>\n    </g>\n    <g id=\"xtick_5\">\n     <g id=\"line2d_16\">\n      <g>\n       <use style=\"stroke:#000000;stroke-width:0.8;\" x=\"896.690625\" xlink:href=\"#m3c91498f6c\" y=\"551.4883\"/>\n      </g>\n     </g>\n     <g id=\"text_15\">\n      <!-- FEBRUARY -->\n      <defs>\n       <path d=\"M 9.8125 72.90625 \nL 51.703125 72.90625 \nL 51.703125 64.59375 \nL 19.671875 64.59375 \nL 19.671875 43.109375 \nL 48.578125 43.109375 \nL 48.578125 34.8125 \nL 19.671875 34.8125 \nL 19.671875 0 \nL 9.8125 0 \nz\n\" id=\"DejaVuSans-70\"/>\n       <path d=\"M 9.8125 72.90625 \nL 55.90625 72.90625 \nL 55.90625 64.59375 \nL 19.671875 64.59375 \nL 19.671875 43.015625 \nL 54.390625 43.015625 \nL 54.390625 34.71875 \nL 19.671875 34.71875 \nL 19.671875 8.296875 \nL 56.78125 8.296875 \nL 56.78125 0 \nL 9.8125 0 \nz\n\" id=\"DejaVuSans-69\"/>\n       <path d=\"M 19.671875 34.8125 \nL 19.671875 8.109375 \nL 35.5 8.109375 \nQ 43.453125 8.109375 47.28125 11.40625 \nQ 51.125 14.703125 51.125 21.484375 \nQ 51.125 28.328125 47.28125 31.5625 \nQ 43.453125 34.8125 35.5 34.8125 \nz\nM 19.671875 64.796875 \nL 19.671875 42.828125 \nL 34.28125 42.828125 \nQ 41.5 42.828125 45.03125 45.53125 \nQ 48.578125 48.25 48.578125 53.8125 \nQ 48.578125 59.328125 45.03125 62.0625 \nQ 41.5 64.796875 34.28125 64.796875 \nz\nM 9.8125 72.90625 \nL 35.015625 72.90625 \nQ 46.296875 72.90625 52.390625 68.21875 \nQ 58.5 63.53125 58.5 54.890625 \nQ 58.5 48.1875 55.375 44.234375 \nQ 52.25 40.28125 46.1875 39.3125 \nQ 53.46875 37.75 57.5 32.78125 \nQ 61.53125 27.828125 61.53125 20.40625 \nQ 61.53125 10.640625 54.890625 5.3125 \nQ 48.25 0 35.984375 0 \nL 9.8125 0 \nz\n\" id=\"DejaVuSans-66\"/>\n      </defs>\n      <g transform=\"translate(870.147656 566.086737)scale(0.1 -0.1)\">\n       <use xlink:href=\"#DejaVuSans-70\"/>\n       <use x=\"57.519531\" xlink:href=\"#DejaVuSans-69\"/>\n       <use x=\"120.703125\" xlink:href=\"#DejaVuSans-66\"/>\n       <use x=\"189.306641\" xlink:href=\"#DejaVuSans-82\"/>\n       <use x=\"258.789062\" xlink:href=\"#DejaVuSans-85\"/>\n       <use x=\"331.982422\" xlink:href=\"#DejaVuSans-65\"/>\n       <use x=\"400.390625\" xlink:href=\"#DejaVuSans-82\"/>\n       <use x=\"469.779297\" xlink:href=\"#DejaVuSans-89\"/>\n      </g>\n     </g>\n    </g>\n    <g id=\"text_16\">\n     <!-- month -->\n     <defs>\n      <path d=\"M 52 44.1875 \nQ 55.375 50.25 60.0625 53.125 \nQ 64.75 56 71.09375 56 \nQ 79.640625 56 84.28125 50.015625 \nQ 88.921875 44.046875 88.921875 33.015625 \nL 88.921875 0 \nL 79.890625 0 \nL 79.890625 32.71875 \nQ 79.890625 40.578125 77.09375 44.375 \nQ 74.3125 48.1875 68.609375 48.1875 \nQ 61.625 48.1875 57.5625 43.546875 \nQ 53.515625 38.921875 53.515625 30.90625 \nL 53.515625 0 \nL 44.484375 0 \nL 44.484375 32.71875 \nQ 44.484375 40.625 41.703125 44.40625 \nQ 38.921875 48.1875 33.109375 48.1875 \nQ 26.21875 48.1875 22.15625 43.53125 \nQ 18.109375 38.875 18.109375 30.90625 \nL 18.109375 0 \nL 9.078125 0 \nL 9.078125 54.6875 \nL 18.109375 54.6875 \nL 18.109375 46.1875 \nQ 21.1875 51.21875 25.484375 53.609375 \nQ 29.78125 56 35.6875 56 \nQ 41.65625 56 45.828125 52.96875 \nQ 50 49.953125 52 44.1875 \nz\n\" id=\"DejaVuSans-109\"/>\n      <path d=\"M 54.890625 33.015625 \nL 54.890625 0 \nL 45.90625 0 \nL 45.90625 32.71875 \nQ 45.90625 40.484375 42.875 44.328125 \nQ 39.84375 48.1875 33.796875 48.1875 \nQ 26.515625 48.1875 22.3125 43.546875 \nQ 18.109375 38.921875 18.109375 30.90625 \nL 18.109375 0 \nL 9.078125 0 \nL 9.078125 75.984375 \nL 18.109375 75.984375 \nL 18.109375 46.1875 \nQ 21.34375 51.125 25.703125 53.5625 \nQ 30.078125 56 35.796875 56 \nQ 45.21875 56 50.046875 50.171875 \nQ 54.890625 44.34375 54.890625 33.015625 \nz\n\" id=\"DejaVuSans-104\"/>\n     </defs>\n     <g transform=\"translate(601.463281 579.764862)scale(0.1 -0.1)\">\n      <use xlink:href=\"#DejaVuSans-109\"/>\n      <use x=\"97.412109\" xlink:href=\"#DejaVuSans-111\"/>\n      <use x=\"158.59375\" xlink:href=\"#DejaVuSans-110\"/>\n      <use x=\"221.972656\" xlink:href=\"#DejaVuSans-116\"/>\n      <use x=\"261.181641\" xlink:href=\"#DejaVuSans-104\"/>\n     </g>\n    </g>\n   </g>\n   <g id=\"matplotlib.axis_4\">\n    <g id=\"ytick_9\">\n     <g id=\"line2d_17\">\n      <g>\n       <use style=\"stroke:#000000;stroke-width:0.8;\" x=\"59.690625\" xlink:href=\"#m2da71af7bc\" y=\"551.4883\"/>\n      </g>\n     </g>\n     <g id=\"text_17\">\n      <!-- 0 -->\n      <g transform=\"translate(46.328125 555.287518)scale(0.1 -0.1)\">\n       <use xlink:href=\"#DejaVuSans-48\"/>\n      </g>\n     </g>\n    </g>\n    <g id=\"ytick_10\">\n     <g id=\"line2d_18\">\n      <g>\n       <use style=\"stroke:#000000;stroke-width:0.8;\" x=\"59.690625\" xlink:href=\"#m2da71af7bc\" y=\"512.224892\"/>\n      </g>\n     </g>\n     <g id=\"text_18\">\n      <!-- 10000 -->\n      <g transform=\"translate(20.878125 516.02411)scale(0.1 -0.1)\">\n       <use xlink:href=\"#DejaVuSans-49\"/>\n       <use x=\"63.623047\" xlink:href=\"#DejaVuSans-48\"/>\n       <use x=\"127.246094\" xlink:href=\"#DejaVuSans-48\"/>\n       <use x=\"190.869141\" xlink:href=\"#DejaVuSans-48\"/>\n       <use x=\"254.492188\" xlink:href=\"#DejaVuSans-48\"/>\n      </g>\n     </g>\n    </g>\n    <g id=\"ytick_11\">\n     <g id=\"line2d_19\">\n      <g>\n       <use style=\"stroke:#000000;stroke-width:0.8;\" x=\"59.690625\" xlink:href=\"#m2da71af7bc\" y=\"472.961483\"/>\n      </g>\n     </g>\n     <g id=\"text_19\">\n      <!-- 20000 -->\n      <g transform=\"translate(20.878125 476.760702)scale(0.1 -0.1)\">\n       <use xlink:href=\"#DejaVuSans-50\"/>\n       <use x=\"63.623047\" xlink:href=\"#DejaVuSans-48\"/>\n       <use x=\"127.246094\" xlink:href=\"#DejaVuSans-48\"/>\n       <use x=\"190.869141\" xlink:href=\"#DejaVuSans-48\"/>\n       <use x=\"254.492188\" xlink:href=\"#DejaVuSans-48\"/>\n      </g>\n     </g>\n    </g>\n    <g id=\"ytick_12\">\n     <g id=\"line2d_20\">\n      <g>\n       <use style=\"stroke:#000000;stroke-width:0.8;\" x=\"59.690625\" xlink:href=\"#m2da71af7bc\" y=\"433.698075\"/>\n      </g>\n     </g>\n     <g id=\"text_20\">\n      <!-- 30000 -->\n      <g transform=\"translate(20.878125 437.497294)scale(0.1 -0.1)\">\n       <use xlink:href=\"#DejaVuSans-51\"/>\n       <use x=\"63.623047\" xlink:href=\"#DejaVuSans-48\"/>\n       <use x=\"127.246094\" xlink:href=\"#DejaVuSans-48\"/>\n       <use x=\"190.869141\" xlink:href=\"#DejaVuSans-48\"/>\n       <use x=\"254.492188\" xlink:href=\"#DejaVuSans-48\"/>\n      </g>\n     </g>\n    </g>\n    <g id=\"ytick_13\">\n     <g id=\"line2d_21\">\n      <g>\n       <use style=\"stroke:#000000;stroke-width:0.8;\" x=\"59.690625\" xlink:href=\"#m2da71af7bc\" y=\"394.434667\"/>\n      </g>\n     </g>\n     <g id=\"text_21\">\n      <!-- 40000 -->\n      <g transform=\"translate(20.878125 398.233886)scale(0.1 -0.1)\">\n       <use xlink:href=\"#DejaVuSans-52\"/>\n       <use x=\"63.623047\" xlink:href=\"#DejaVuSans-48\"/>\n       <use x=\"127.246094\" xlink:href=\"#DejaVuSans-48\"/>\n       <use x=\"190.869141\" xlink:href=\"#DejaVuSans-48\"/>\n       <use x=\"254.492188\" xlink:href=\"#DejaVuSans-48\"/>\n      </g>\n     </g>\n    </g>\n    <g id=\"ytick_14\">\n     <g id=\"line2d_22\">\n      <g>\n       <use style=\"stroke:#000000;stroke-width:0.8;\" x=\"59.690625\" xlink:href=\"#m2da71af7bc\" y=\"355.171259\"/>\n      </g>\n     </g>\n     <g id=\"text_22\">\n      <!-- 50000 -->\n      <g transform=\"translate(20.878125 358.970478)scale(0.1 -0.1)\">\n       <use xlink:href=\"#DejaVuSans-53\"/>\n       <use x=\"63.623047\" xlink:href=\"#DejaVuSans-48\"/>\n       <use x=\"127.246094\" xlink:href=\"#DejaVuSans-48\"/>\n       <use x=\"190.869141\" xlink:href=\"#DejaVuSans-48\"/>\n       <use x=\"254.492188\" xlink:href=\"#DejaVuSans-48\"/>\n      </g>\n     </g>\n    </g>\n    <g id=\"ytick_15\">\n     <g id=\"line2d_23\">\n      <g>\n       <use style=\"stroke:#000000;stroke-width:0.8;\" x=\"59.690625\" xlink:href=\"#m2da71af7bc\" y=\"315.907851\"/>\n      </g>\n     </g>\n     <g id=\"text_23\">\n      <!-- 60000 -->\n      <g transform=\"translate(20.878125 319.70707)scale(0.1 -0.1)\">\n       <use xlink:href=\"#DejaVuSans-54\"/>\n       <use x=\"63.623047\" xlink:href=\"#DejaVuSans-48\"/>\n       <use x=\"127.246094\" xlink:href=\"#DejaVuSans-48\"/>\n       <use x=\"190.869141\" xlink:href=\"#DejaVuSans-48\"/>\n       <use x=\"254.492188\" xlink:href=\"#DejaVuSans-48\"/>\n      </g>\n     </g>\n    </g>\n    <g id=\"text_24\">\n     <!-- bymonth -->\n     <defs>\n      <path d=\"M 32.171875 -5.078125 \nQ 28.375 -14.84375 24.75 -17.8125 \nQ 21.140625 -20.796875 15.09375 -20.796875 \nL 7.90625 -20.796875 \nL 7.90625 -13.28125 \nL 13.1875 -13.28125 \nQ 16.890625 -13.28125 18.9375 -11.515625 \nQ 21 -9.765625 23.484375 -3.21875 \nL 25.09375 0.875 \nL 2.984375 54.6875 \nL 12.5 54.6875 \nL 29.59375 11.921875 \nL 46.6875 54.6875 \nL 56.203125 54.6875 \nz\n\" id=\"DejaVuSans-121\"/>\n     </defs>\n     <g transform=\"translate(14.798438 450.303783)rotate(-90)scale(0.1 -0.1)\">\n      <use xlink:href=\"#DejaVuSans-98\"/>\n      <use x=\"63.476562\" xlink:href=\"#DejaVuSans-121\"/>\n      <use x=\"122.65625\" xlink:href=\"#DejaVuSans-109\"/>\n      <use x=\"220.068359\" xlink:href=\"#DejaVuSans-111\"/>\n      <use x=\"281.25\" xlink:href=\"#DejaVuSans-110\"/>\n      <use x=\"344.628906\" xlink:href=\"#DejaVuSans-116\"/>\n      <use x=\"383.837891\" xlink:href=\"#DejaVuSans-104\"/>\n     </g>\n    </g>\n   </g>\n   <g id=\"line2d_24\">\n    <path clip-path=\"url(#pa3209e744c)\" d=\"M 0 0 \n\" style=\"fill:none;stroke:#424242;stroke-linecap:square;stroke-width:2.7;\"/>\n   </g>\n   <g id=\"line2d_25\">\n    <path clip-path=\"url(#pa3209e744c)\" d=\"M 0 0 \n\" style=\"fill:none;stroke:#424242;stroke-linecap:square;stroke-width:2.7;\"/>\n   </g>\n   <g id=\"patch_13\">\n    <path d=\"M 59.690625 551.4883 \nL 59.690625 304.397391 \n\" style=\"fill:none;stroke:#000000;stroke-linecap:square;stroke-linejoin:miter;stroke-width:0.8;\"/>\n   </g>\n   <g id=\"patch_14\">\n    <path d=\"M 1175.690625 551.4883 \nL 1175.690625 304.397391 \n\" style=\"fill:none;stroke:#000000;stroke-linecap:square;stroke-linejoin:miter;stroke-width:0.8;\"/>\n   </g>\n   <g id=\"patch_15\">\n    <path d=\"M 59.690625 551.4883 \nL 1175.690625 551.4883 \n\" style=\"fill:none;stroke:#000000;stroke-linecap:square;stroke-linejoin:miter;stroke-width:0.8;\"/>\n   </g>\n   <g id=\"patch_16\">\n    <path d=\"M 59.690625 304.397391 \nL 1175.690625 304.397391 \n\" style=\"fill:none;stroke:#000000;stroke-linecap:square;stroke-linejoin:miter;stroke-width:0.8;\"/>\n   </g>\n  </g>\n </g>\n <defs>\n  <clipPath id=\"p45cbe735a0\">\n   <rect height=\"247.090909\" width=\"1116\" x=\"59.690625\" y=\"7.8883\"/>\n  </clipPath>\n  <clipPath id=\"pa3209e744c\">\n   <rect height=\"247.090909\" width=\"1116\" x=\"59.690625\" y=\"304.397391\"/>\n  </clipPath>\n </defs>\n</svg>\n",
      "image/png": "[encoded data removed]"
     },
     "metadata": {
      "needs_background": "light"
     }
    }
   ],
   "source": [
    "# POPULAR ROUTES/SEGMENTS JAN-FEB\n",
    "monthlist = [\"JANUARY\", \"FEBRUARY\"]\n",
    "routes=round(janfeb.groupby('route_id')[['boardings','alightings']].agg('sum').reset_index(),2)\n",
    "routesordered=routes.nlargest(len(routes),'boardings').reset_index()\n",
    "routesordered=routesordered.drop(labels='index',axis=1)\n",
    "routesordered # to_csv to make record\n",
    "topfive = routesordered.iloc[0:]\n",
    "\n",
    "bymonth=round(janfeb.groupby('month')[['boardings','alightings']].agg('sum').reset_index(),2)\n",
    "bymonth # to_csv to make record\n",
    "\n",
    "df=pd.DataFrame({\"bymonth\":bymonth['boardings'],\"month\":monthlist[0:2]})\n",
    "\n",
    "fig, axes = plt.subplots(2, figsize=(20,10))\n",
    "sns.barplot(ax=axes[0],data=topfive, x='route_id',y=\"boardings\")\n",
    "axes[0].set_ylim(0,topfive['boardings'].max()+(topfive['boardings'].max()*0.35))\n",
    "sns.barplot(ax=axes[1],data=df,x='month',y='bymonth')\n",
    "axes[1].set_ylim(0,bymonth['boardings'].max()+(bymonth['boardings'].max()*0.35))\n",
    "plt.show()"
   ]
  },
  {
   "cell_type": "code",
   "execution_count": 31,
   "id": "phantom-phase",
   "metadata": {},
   "outputs": [
    {
     "output_type": "display_data",
     "data": {
      "text/plain": "<Figure size 432x288 with 1 Axes>",
      "image/svg+xml": "<?xml version=\"1.0\" encoding=\"utf-8\" standalone=\"no\"?>\n<!DOCTYPE svg PUBLIC \"-//W3C//DTD SVG 1.1//EN\"\n  \"http://www.w3.org/Graphics/SVG/1.1/DTD/svg11.dtd\">\n<!-- Created with matplotlib (https://matplotlib.org/) -->\n<svg height=\"262.19625pt\" version=\"1.1\" viewBox=\"0 0 585.734375 262.19625\" width=\"585.734375pt\" xmlns=\"http://www.w3.org/2000/svg\" xmlns:xlink=\"http://www.w3.org/1999/xlink\">\n <defs>\n  <style type=\"text/css\">\n*{stroke-linecap:butt;stroke-linejoin:round;}\n  </style>\n </defs>\n <g id=\"figure_1\">\n  <g id=\"patch_1\">\n   <path d=\"M 0 262.19625 \nL 585.734375 262.19625 \nL 585.734375 0 \nL 0 0 \nz\n\" style=\"fill:none;\"/>\n  </g>\n  <g id=\"axes_1\">\n   <g id=\"patch_2\">\n    <path d=\"M 243.734375 224.64 \nL 578.534375 224.64 \nL 578.534375 7.2 \nL 243.734375 7.2 \nz\n\" style=\"fill:#ffffff;\"/>\n   </g>\n   <g id=\"patch_3\">\n    <path clip-path=\"url(#p5e8f49c818)\" d=\"M 243.734375 9.3744 \nL 562.591518 9.3744 \nL 562.591518 26.7696 \nL 243.734375 26.7696 \nz\n\" style=\"fill:#3274a1;\"/>\n   </g>\n   <g id=\"patch_4\">\n    <path clip-path=\"url(#p5e8f49c818)\" d=\"M 243.734375 31.1184 \nL 433.503 31.1184 \nL 433.503 48.5136 \nL 243.734375 48.5136 \nz\n\" style=\"fill:#e1812c;\"/>\n   </g>\n   <g id=\"patch_5\">\n    <path clip-path=\"url(#p5e8f49c818)\" d=\"M 243.734375 52.8624 \nL 433.05927 52.8624 \nL 433.05927 70.2576 \nL 243.734375 70.2576 \nz\n\" style=\"fill:#3a923a;\"/>\n   </g>\n   <g id=\"patch_6\">\n    <path clip-path=\"url(#p5e8f49c818)\" d=\"M 243.734375 74.6064 \nL 432.430652 74.6064 \nL 432.430652 92.0016 \nL 243.734375 92.0016 \nz\n\" style=\"fill:#c03d3e;\"/>\n   </g>\n   <g id=\"patch_7\">\n    <path clip-path=\"url(#p5e8f49c818)\" d=\"M 243.734375 96.3504 \nL 418.748971 96.3504 \nL 418.748971 113.7456 \nL 243.734375 113.7456 \nz\n\" style=\"fill:#9372b2;\"/>\n   </g>\n   <g id=\"patch_8\">\n    <path clip-path=\"url(#p5e8f49c818)\" d=\"M 243.734375 118.0944 \nL 414.163758 118.0944 \nL 414.163758 135.4896 \nL 243.734375 135.4896 \nz\n\" style=\"fill:#845b53;\"/>\n   </g>\n   <g id=\"patch_9\">\n    <path clip-path=\"url(#p5e8f49c818)\" d=\"M 243.734375 139.8384 \nL 393.530303 139.8384 \nL 393.530303 157.2336 \nL 243.734375 157.2336 \nz\n\" style=\"fill:#d684bd;\"/>\n   </g>\n   <g id=\"patch_10\">\n    <path clip-path=\"url(#p5e8f49c818)\" d=\"M 243.734375 161.5824 \nL 381.290744 161.5824 \nL 381.290744 178.9776 \nL 243.734375 178.9776 \nz\n\" style=\"fill:#7f7f7f;\"/>\n   </g>\n   <g id=\"patch_11\">\n    <path clip-path=\"url(#p5e8f49c818)\" d=\"M 243.734375 183.3264 \nL 334.403251 183.3264 \nL 334.403251 200.7216 \nL 243.734375 200.7216 \nz\n\" style=\"fill:#a9aa35;\"/>\n   </g>\n   <g id=\"patch_12\">\n    <path clip-path=\"url(#p5e8f49c818)\" d=\"M 243.734375 205.0704 \nL 305.375899 205.0704 \nL 305.375899 222.4656 \nL 243.734375 222.4656 \nz\n\" style=\"fill:#2eabb8;\"/>\n   </g>\n   <g id=\"matplotlib.axis_1\">\n    <g id=\"xtick_1\">\n     <g id=\"line2d_1\">\n      <defs>\n       <path d=\"M 0 0 \nL 0 3.5 \n\" id=\"m223e96d3a9\" style=\"stroke:#000000;stroke-width:0.8;\"/>\n      </defs>\n      <g>\n       <use style=\"stroke:#000000;stroke-width:0.8;\" x=\"243.734375\" xlink:href=\"#m223e96d3a9\" y=\"224.64\"/>\n      </g>\n     </g>\n     <g id=\"text_1\">\n      <!-- 0 -->\n      <defs>\n       <path d=\"M 31.78125 66.40625 \nQ 24.171875 66.40625 20.328125 58.90625 \nQ 16.5 51.421875 16.5 36.375 \nQ 16.5 21.390625 20.328125 13.890625 \nQ 24.171875 6.390625 31.78125 6.390625 \nQ 39.453125 6.390625 43.28125 13.890625 \nQ 47.125 21.390625 47.125 36.375 \nQ 47.125 51.421875 43.28125 58.90625 \nQ 39.453125 66.40625 31.78125 66.40625 \nz\nM 31.78125 74.21875 \nQ 44.046875 74.21875 50.515625 64.515625 \nQ 56.984375 54.828125 56.984375 36.375 \nQ 56.984375 17.96875 50.515625 8.265625 \nQ 44.046875 -1.421875 31.78125 -1.421875 \nQ 19.53125 -1.421875 13.0625 8.265625 \nQ 6.59375 17.96875 6.59375 36.375 \nQ 6.59375 54.828125 13.0625 64.515625 \nQ 19.53125 74.21875 31.78125 74.21875 \nz\n\" id=\"DejaVuSans-48\"/>\n      </defs>\n      <g transform=\"translate(240.553125 239.238437)scale(0.1 -0.1)\">\n       <use xlink:href=\"#DejaVuSans-48\"/>\n      </g>\n     </g>\n    </g>\n    <g id=\"xtick_2\">\n     <g id=\"line2d_2\">\n      <g>\n       <use style=\"stroke:#000000;stroke-width:0.8;\" x=\"317.689412\" xlink:href=\"#m223e96d3a9\" y=\"224.64\"/>\n      </g>\n     </g>\n     <g id=\"text_2\">\n      <!-- 2000 -->\n      <defs>\n       <path d=\"M 19.1875 8.296875 \nL 53.609375 8.296875 \nL 53.609375 0 \nL 7.328125 0 \nL 7.328125 8.296875 \nQ 12.9375 14.109375 22.625 23.890625 \nQ 32.328125 33.6875 34.8125 36.53125 \nQ 39.546875 41.84375 41.421875 45.53125 \nQ 43.3125 49.21875 43.3125 52.78125 \nQ 43.3125 58.59375 39.234375 62.25 \nQ 35.15625 65.921875 28.609375 65.921875 \nQ 23.96875 65.921875 18.8125 64.3125 \nQ 13.671875 62.703125 7.8125 59.421875 \nL 7.8125 69.390625 \nQ 13.765625 71.78125 18.9375 73 \nQ 24.125 74.21875 28.421875 74.21875 \nQ 39.75 74.21875 46.484375 68.546875 \nQ 53.21875 62.890625 53.21875 53.421875 \nQ 53.21875 48.921875 51.53125 44.890625 \nQ 49.859375 40.875 45.40625 35.40625 \nQ 44.1875 33.984375 37.640625 27.21875 \nQ 31.109375 20.453125 19.1875 8.296875 \nz\n\" id=\"DejaVuSans-50\"/>\n      </defs>\n      <g transform=\"translate(304.964412 239.238437)scale(0.1 -0.1)\">\n       <use xlink:href=\"#DejaVuSans-50\"/>\n       <use x=\"63.623047\" xlink:href=\"#DejaVuSans-48\"/>\n       <use x=\"127.246094\" xlink:href=\"#DejaVuSans-48\"/>\n       <use x=\"190.869141\" xlink:href=\"#DejaVuSans-48\"/>\n      </g>\n     </g>\n    </g>\n    <g id=\"xtick_3\">\n     <g id=\"line2d_3\">\n      <g>\n       <use style=\"stroke:#000000;stroke-width:0.8;\" x=\"391.644449\" xlink:href=\"#m223e96d3a9\" y=\"224.64\"/>\n      </g>\n     </g>\n     <g id=\"text_3\">\n      <!-- 4000 -->\n      <defs>\n       <path d=\"M 37.796875 64.3125 \nL 12.890625 25.390625 \nL 37.796875 25.390625 \nz\nM 35.203125 72.90625 \nL 47.609375 72.90625 \nL 47.609375 25.390625 \nL 58.015625 25.390625 \nL 58.015625 17.1875 \nL 47.609375 17.1875 \nL 47.609375 0 \nL 37.796875 0 \nL 37.796875 17.1875 \nL 4.890625 17.1875 \nL 4.890625 26.703125 \nz\n\" id=\"DejaVuSans-52\"/>\n      </defs>\n      <g transform=\"translate(378.919449 239.238437)scale(0.1 -0.1)\">\n       <use xlink:href=\"#DejaVuSans-52\"/>\n       <use x=\"63.623047\" xlink:href=\"#DejaVuSans-48\"/>\n       <use x=\"127.246094\" xlink:href=\"#DejaVuSans-48\"/>\n       <use x=\"190.869141\" xlink:href=\"#DejaVuSans-48\"/>\n      </g>\n     </g>\n    </g>\n    <g id=\"xtick_4\">\n     <g id=\"line2d_4\">\n      <g>\n       <use style=\"stroke:#000000;stroke-width:0.8;\" x=\"465.599487\" xlink:href=\"#m223e96d3a9\" y=\"224.64\"/>\n      </g>\n     </g>\n     <g id=\"text_4\">\n      <!-- 6000 -->\n      <defs>\n       <path d=\"M 33.015625 40.375 \nQ 26.375 40.375 22.484375 35.828125 \nQ 18.609375 31.296875 18.609375 23.390625 \nQ 18.609375 15.53125 22.484375 10.953125 \nQ 26.375 6.390625 33.015625 6.390625 \nQ 39.65625 6.390625 43.53125 10.953125 \nQ 47.40625 15.53125 47.40625 23.390625 \nQ 47.40625 31.296875 43.53125 35.828125 \nQ 39.65625 40.375 33.015625 40.375 \nz\nM 52.59375 71.296875 \nL 52.59375 62.3125 \nQ 48.875 64.0625 45.09375 64.984375 \nQ 41.3125 65.921875 37.59375 65.921875 \nQ 27.828125 65.921875 22.671875 59.328125 \nQ 17.53125 52.734375 16.796875 39.40625 \nQ 19.671875 43.65625 24.015625 45.921875 \nQ 28.375 48.1875 33.59375 48.1875 \nQ 44.578125 48.1875 50.953125 41.515625 \nQ 57.328125 34.859375 57.328125 23.390625 \nQ 57.328125 12.15625 50.6875 5.359375 \nQ 44.046875 -1.421875 33.015625 -1.421875 \nQ 20.359375 -1.421875 13.671875 8.265625 \nQ 6.984375 17.96875 6.984375 36.375 \nQ 6.984375 53.65625 15.1875 63.9375 \nQ 23.390625 74.21875 37.203125 74.21875 \nQ 40.921875 74.21875 44.703125 73.484375 \nQ 48.484375 72.75 52.59375 71.296875 \nz\n\" id=\"DejaVuSans-54\"/>\n      </defs>\n      <g transform=\"translate(452.874487 239.238437)scale(0.1 -0.1)\">\n       <use xlink:href=\"#DejaVuSans-54\"/>\n       <use x=\"63.623047\" xlink:href=\"#DejaVuSans-48\"/>\n       <use x=\"127.246094\" xlink:href=\"#DejaVuSans-48\"/>\n       <use x=\"190.869141\" xlink:href=\"#DejaVuSans-48\"/>\n      </g>\n     </g>\n    </g>\n    <g id=\"xtick_5\">\n     <g id=\"line2d_5\">\n      <g>\n       <use style=\"stroke:#000000;stroke-width:0.8;\" x=\"539.554524\" xlink:href=\"#m223e96d3a9\" y=\"224.64\"/>\n      </g>\n     </g>\n     <g id=\"text_5\">\n      <!-- 8000 -->\n      <defs>\n       <path d=\"M 31.78125 34.625 \nQ 24.75 34.625 20.71875 30.859375 \nQ 16.703125 27.09375 16.703125 20.515625 \nQ 16.703125 13.921875 20.71875 10.15625 \nQ 24.75 6.390625 31.78125 6.390625 \nQ 38.8125 6.390625 42.859375 10.171875 \nQ 46.921875 13.96875 46.921875 20.515625 \nQ 46.921875 27.09375 42.890625 30.859375 \nQ 38.875 34.625 31.78125 34.625 \nz\nM 21.921875 38.8125 \nQ 15.578125 40.375 12.03125 44.71875 \nQ 8.5 49.078125 8.5 55.328125 \nQ 8.5 64.0625 14.71875 69.140625 \nQ 20.953125 74.21875 31.78125 74.21875 \nQ 42.671875 74.21875 48.875 69.140625 \nQ 55.078125 64.0625 55.078125 55.328125 \nQ 55.078125 49.078125 51.53125 44.71875 \nQ 48 40.375 41.703125 38.8125 \nQ 48.828125 37.15625 52.796875 32.3125 \nQ 56.78125 27.484375 56.78125 20.515625 \nQ 56.78125 9.90625 50.3125 4.234375 \nQ 43.84375 -1.421875 31.78125 -1.421875 \nQ 19.734375 -1.421875 13.25 4.234375 \nQ 6.78125 9.90625 6.78125 20.515625 \nQ 6.78125 27.484375 10.78125 32.3125 \nQ 14.796875 37.15625 21.921875 38.8125 \nz\nM 18.3125 54.390625 \nQ 18.3125 48.734375 21.84375 45.5625 \nQ 25.390625 42.390625 31.78125 42.390625 \nQ 38.140625 42.390625 41.71875 45.5625 \nQ 45.3125 48.734375 45.3125 54.390625 \nQ 45.3125 60.0625 41.71875 63.234375 \nQ 38.140625 66.40625 31.78125 66.40625 \nQ 25.390625 66.40625 21.84375 63.234375 \nQ 18.3125 60.0625 18.3125 54.390625 \nz\n\" id=\"DejaVuSans-56\"/>\n      </defs>\n      <g transform=\"translate(526.829524 239.238437)scale(0.1 -0.1)\">\n       <use xlink:href=\"#DejaVuSans-56\"/>\n       <use x=\"63.623047\" xlink:href=\"#DejaVuSans-48\"/>\n       <use x=\"127.246094\" xlink:href=\"#DejaVuSans-48\"/>\n       <use x=\"190.869141\" xlink:href=\"#DejaVuSans-48\"/>\n      </g>\n     </g>\n    </g>\n    <g id=\"text_6\">\n     <!-- boardings -->\n     <defs>\n      <path d=\"M 48.6875 27.296875 \nQ 48.6875 37.203125 44.609375 42.84375 \nQ 40.53125 48.484375 33.40625 48.484375 \nQ 26.265625 48.484375 22.1875 42.84375 \nQ 18.109375 37.203125 18.109375 27.296875 \nQ 18.109375 17.390625 22.1875 11.75 \nQ 26.265625 6.109375 33.40625 6.109375 \nQ 40.53125 6.109375 44.609375 11.75 \nQ 48.6875 17.390625 48.6875 27.296875 \nz\nM 18.109375 46.390625 \nQ 20.953125 51.265625 25.265625 53.625 \nQ 29.59375 56 35.59375 56 \nQ 45.5625 56 51.78125 48.09375 \nQ 58.015625 40.1875 58.015625 27.296875 \nQ 58.015625 14.40625 51.78125 6.484375 \nQ 45.5625 -1.421875 35.59375 -1.421875 \nQ 29.59375 -1.421875 25.265625 0.953125 \nQ 20.953125 3.328125 18.109375 8.203125 \nL 18.109375 0 \nL 9.078125 0 \nL 9.078125 75.984375 \nL 18.109375 75.984375 \nz\n\" id=\"DejaVuSans-98\"/>\n      <path d=\"M 30.609375 48.390625 \nQ 23.390625 48.390625 19.1875 42.75 \nQ 14.984375 37.109375 14.984375 27.296875 \nQ 14.984375 17.484375 19.15625 11.84375 \nQ 23.34375 6.203125 30.609375 6.203125 \nQ 37.796875 6.203125 41.984375 11.859375 \nQ 46.1875 17.53125 46.1875 27.296875 \nQ 46.1875 37.015625 41.984375 42.703125 \nQ 37.796875 48.390625 30.609375 48.390625 \nz\nM 30.609375 56 \nQ 42.328125 56 49.015625 48.375 \nQ 55.71875 40.765625 55.71875 27.296875 \nQ 55.71875 13.875 49.015625 6.21875 \nQ 42.328125 -1.421875 30.609375 -1.421875 \nQ 18.84375 -1.421875 12.171875 6.21875 \nQ 5.515625 13.875 5.515625 27.296875 \nQ 5.515625 40.765625 12.171875 48.375 \nQ 18.84375 56 30.609375 56 \nz\n\" id=\"DejaVuSans-111\"/>\n      <path d=\"M 34.28125 27.484375 \nQ 23.390625 27.484375 19.1875 25 \nQ 14.984375 22.515625 14.984375 16.5 \nQ 14.984375 11.71875 18.140625 8.90625 \nQ 21.296875 6.109375 26.703125 6.109375 \nQ 34.1875 6.109375 38.703125 11.40625 \nQ 43.21875 16.703125 43.21875 25.484375 \nL 43.21875 27.484375 \nz\nM 52.203125 31.203125 \nL 52.203125 0 \nL 43.21875 0 \nL 43.21875 8.296875 \nQ 40.140625 3.328125 35.546875 0.953125 \nQ 30.953125 -1.421875 24.3125 -1.421875 \nQ 15.921875 -1.421875 10.953125 3.296875 \nQ 6 8.015625 6 15.921875 \nQ 6 25.140625 12.171875 29.828125 \nQ 18.359375 34.515625 30.609375 34.515625 \nL 43.21875 34.515625 \nL 43.21875 35.40625 \nQ 43.21875 41.609375 39.140625 45 \nQ 35.0625 48.390625 27.6875 48.390625 \nQ 23 48.390625 18.546875 47.265625 \nQ 14.109375 46.140625 10.015625 43.890625 \nL 10.015625 52.203125 \nQ 14.9375 54.109375 19.578125 55.046875 \nQ 24.21875 56 28.609375 56 \nQ 40.484375 56 46.34375 49.84375 \nQ 52.203125 43.703125 52.203125 31.203125 \nz\n\" id=\"DejaVuSans-97\"/>\n      <path d=\"M 41.109375 46.296875 \nQ 39.59375 47.171875 37.8125 47.578125 \nQ 36.03125 48 33.890625 48 \nQ 26.265625 48 22.1875 43.046875 \nQ 18.109375 38.09375 18.109375 28.8125 \nL 18.109375 0 \nL 9.078125 0 \nL 9.078125 54.6875 \nL 18.109375 54.6875 \nL 18.109375 46.1875 \nQ 20.953125 51.171875 25.484375 53.578125 \nQ 30.03125 56 36.53125 56 \nQ 37.453125 56 38.578125 55.875 \nQ 39.703125 55.765625 41.0625 55.515625 \nz\n\" id=\"DejaVuSans-114\"/>\n      <path d=\"M 45.40625 46.390625 \nL 45.40625 75.984375 \nL 54.390625 75.984375 \nL 54.390625 0 \nL 45.40625 0 \nL 45.40625 8.203125 \nQ 42.578125 3.328125 38.25 0.953125 \nQ 33.9375 -1.421875 27.875 -1.421875 \nQ 17.96875 -1.421875 11.734375 6.484375 \nQ 5.515625 14.40625 5.515625 27.296875 \nQ 5.515625 40.1875 11.734375 48.09375 \nQ 17.96875 56 27.875 56 \nQ 33.9375 56 38.25 53.625 \nQ 42.578125 51.265625 45.40625 46.390625 \nz\nM 14.796875 27.296875 \nQ 14.796875 17.390625 18.875 11.75 \nQ 22.953125 6.109375 30.078125 6.109375 \nQ 37.203125 6.109375 41.296875 11.75 \nQ 45.40625 17.390625 45.40625 27.296875 \nQ 45.40625 37.203125 41.296875 42.84375 \nQ 37.203125 48.484375 30.078125 48.484375 \nQ 22.953125 48.484375 18.875 42.84375 \nQ 14.796875 37.203125 14.796875 27.296875 \nz\n\" id=\"DejaVuSans-100\"/>\n      <path d=\"M 9.421875 54.6875 \nL 18.40625 54.6875 \nL 18.40625 0 \nL 9.421875 0 \nz\nM 9.421875 75.984375 \nL 18.40625 75.984375 \nL 18.40625 64.59375 \nL 9.421875 64.59375 \nz\n\" id=\"DejaVuSans-105\"/>\n      <path d=\"M 54.890625 33.015625 \nL 54.890625 0 \nL 45.90625 0 \nL 45.90625 32.71875 \nQ 45.90625 40.484375 42.875 44.328125 \nQ 39.84375 48.1875 33.796875 48.1875 \nQ 26.515625 48.1875 22.3125 43.546875 \nQ 18.109375 38.921875 18.109375 30.90625 \nL 18.109375 0 \nL 9.078125 0 \nL 9.078125 54.6875 \nL 18.109375 54.6875 \nL 18.109375 46.1875 \nQ 21.34375 51.125 25.703125 53.5625 \nQ 30.078125 56 35.796875 56 \nQ 45.21875 56 50.046875 50.171875 \nQ 54.890625 44.34375 54.890625 33.015625 \nz\n\" id=\"DejaVuSans-110\"/>\n      <path d=\"M 45.40625 27.984375 \nQ 45.40625 37.75 41.375 43.109375 \nQ 37.359375 48.484375 30.078125 48.484375 \nQ 22.859375 48.484375 18.828125 43.109375 \nQ 14.796875 37.75 14.796875 27.984375 \nQ 14.796875 18.265625 18.828125 12.890625 \nQ 22.859375 7.515625 30.078125 7.515625 \nQ 37.359375 7.515625 41.375 12.890625 \nQ 45.40625 18.265625 45.40625 27.984375 \nz\nM 54.390625 6.78125 \nQ 54.390625 -7.171875 48.1875 -13.984375 \nQ 42 -20.796875 29.203125 -20.796875 \nQ 24.46875 -20.796875 20.265625 -20.09375 \nQ 16.0625 -19.390625 12.109375 -17.921875 \nL 12.109375 -9.1875 \nQ 16.0625 -11.328125 19.921875 -12.34375 \nQ 23.78125 -13.375 27.78125 -13.375 \nQ 36.625 -13.375 41.015625 -8.765625 \nQ 45.40625 -4.15625 45.40625 5.171875 \nL 45.40625 9.625 \nQ 42.625 4.78125 38.28125 2.390625 \nQ 33.9375 0 27.875 0 \nQ 17.828125 0 11.671875 7.65625 \nQ 5.515625 15.328125 5.515625 27.984375 \nQ 5.515625 40.671875 11.671875 48.328125 \nQ 17.828125 56 27.875 56 \nQ 33.9375 56 38.28125 53.609375 \nQ 42.625 51.21875 45.40625 46.390625 \nL 45.40625 54.6875 \nL 54.390625 54.6875 \nz\n\" id=\"DejaVuSans-103\"/>\n      <path d=\"M 44.28125 53.078125 \nL 44.28125 44.578125 \nQ 40.484375 46.53125 36.375 47.5 \nQ 32.28125 48.484375 27.875 48.484375 \nQ 21.1875 48.484375 17.84375 46.4375 \nQ 14.5 44.390625 14.5 40.28125 \nQ 14.5 37.15625 16.890625 35.375 \nQ 19.28125 33.59375 26.515625 31.984375 \nL 29.59375 31.296875 \nQ 39.15625 29.25 43.1875 25.515625 \nQ 47.21875 21.78125 47.21875 15.09375 \nQ 47.21875 7.46875 41.1875 3.015625 \nQ 35.15625 -1.421875 24.609375 -1.421875 \nQ 20.21875 -1.421875 15.453125 -0.5625 \nQ 10.6875 0.296875 5.421875 2 \nL 5.421875 11.28125 \nQ 10.40625 8.6875 15.234375 7.390625 \nQ 20.0625 6.109375 24.8125 6.109375 \nQ 31.15625 6.109375 34.5625 8.28125 \nQ 37.984375 10.453125 37.984375 14.40625 \nQ 37.984375 18.0625 35.515625 20.015625 \nQ 33.0625 21.96875 24.703125 23.78125 \nL 21.578125 24.515625 \nQ 13.234375 26.265625 9.515625 29.90625 \nQ 5.8125 33.546875 5.8125 39.890625 \nQ 5.8125 47.609375 11.28125 51.796875 \nQ 16.75 56 26.8125 56 \nQ 31.78125 56 36.171875 55.265625 \nQ 40.578125 54.546875 44.28125 53.078125 \nz\n\" id=\"DejaVuSans-115\"/>\n     </defs>\n     <g transform=\"translate(386.271094 252.916562)scale(0.1 -0.1)\">\n      <use xlink:href=\"#DejaVuSans-98\"/>\n      <use x=\"63.476562\" xlink:href=\"#DejaVuSans-111\"/>\n      <use x=\"124.658203\" xlink:href=\"#DejaVuSans-97\"/>\n      <use x=\"185.9375\" xlink:href=\"#DejaVuSans-114\"/>\n      <use x=\"227.035156\" xlink:href=\"#DejaVuSans-100\"/>\n      <use x=\"290.511719\" xlink:href=\"#DejaVuSans-105\"/>\n      <use x=\"318.294922\" xlink:href=\"#DejaVuSans-110\"/>\n      <use x=\"381.673828\" xlink:href=\"#DejaVuSans-103\"/>\n      <use x=\"445.150391\" xlink:href=\"#DejaVuSans-115\"/>\n     </g>\n    </g>\n   </g>\n   <g id=\"matplotlib.axis_2\">\n    <g id=\"ytick_1\">\n     <g id=\"line2d_6\">\n      <defs>\n       <path d=\"M 0 0 \nL -3.5 0 \n\" id=\"m183120efee\" style=\"stroke:#000000;stroke-width:0.8;\"/>\n      </defs>\n      <g>\n       <use style=\"stroke:#000000;stroke-width:0.8;\" x=\"243.734375\" xlink:href=\"#m183120efee\" y=\"18.072\"/>\n      </g>\n     </g>\n     <g id=\"text_7\">\n      <!-- ROCKVILLE STATION  &amp; BAY A - WEST -->\n      <defs>\n       <path d=\"M 44.390625 34.1875 \nQ 47.5625 33.109375 50.5625 29.59375 \nQ 53.5625 26.078125 56.59375 19.921875 \nL 66.609375 0 \nL 56 0 \nL 46.6875 18.703125 \nQ 43.0625 26.03125 39.671875 28.421875 \nQ 36.28125 30.8125 30.421875 30.8125 \nL 19.671875 30.8125 \nL 19.671875 0 \nL 9.8125 0 \nL 9.8125 72.90625 \nL 32.078125 72.90625 \nQ 44.578125 72.90625 50.734375 67.671875 \nQ 56.890625 62.453125 56.890625 51.90625 \nQ 56.890625 45.015625 53.6875 40.46875 \nQ 50.484375 35.9375 44.390625 34.1875 \nz\nM 19.671875 64.796875 \nL 19.671875 38.921875 \nL 32.078125 38.921875 \nQ 39.203125 38.921875 42.84375 42.21875 \nQ 46.484375 45.515625 46.484375 51.90625 \nQ 46.484375 58.296875 42.84375 61.546875 \nQ 39.203125 64.796875 32.078125 64.796875 \nz\n\" id=\"DejaVuSans-82\"/>\n       <path d=\"M 39.40625 66.21875 \nQ 28.65625 66.21875 22.328125 58.203125 \nQ 16.015625 50.203125 16.015625 36.375 \nQ 16.015625 22.609375 22.328125 14.59375 \nQ 28.65625 6.59375 39.40625 6.59375 \nQ 50.140625 6.59375 56.421875 14.59375 \nQ 62.703125 22.609375 62.703125 36.375 \nQ 62.703125 50.203125 56.421875 58.203125 \nQ 50.140625 66.21875 39.40625 66.21875 \nz\nM 39.40625 74.21875 \nQ 54.734375 74.21875 63.90625 63.9375 \nQ 73.09375 53.65625 73.09375 36.375 \nQ 73.09375 19.140625 63.90625 8.859375 \nQ 54.734375 -1.421875 39.40625 -1.421875 \nQ 24.03125 -1.421875 14.8125 8.828125 \nQ 5.609375 19.09375 5.609375 36.375 \nQ 5.609375 53.65625 14.8125 63.9375 \nQ 24.03125 74.21875 39.40625 74.21875 \nz\n\" id=\"DejaVuSans-79\"/>\n       <path d=\"M 64.40625 67.28125 \nL 64.40625 56.890625 \nQ 59.421875 61.53125 53.78125 63.8125 \nQ 48.140625 66.109375 41.796875 66.109375 \nQ 29.296875 66.109375 22.65625 58.46875 \nQ 16.015625 50.828125 16.015625 36.375 \nQ 16.015625 21.96875 22.65625 14.328125 \nQ 29.296875 6.6875 41.796875 6.6875 \nQ 48.140625 6.6875 53.78125 8.984375 \nQ 59.421875 11.28125 64.40625 15.921875 \nL 64.40625 5.609375 \nQ 59.234375 2.09375 53.4375 0.328125 \nQ 47.65625 -1.421875 41.21875 -1.421875 \nQ 24.65625 -1.421875 15.125 8.703125 \nQ 5.609375 18.84375 5.609375 36.375 \nQ 5.609375 53.953125 15.125 64.078125 \nQ 24.65625 74.21875 41.21875 74.21875 \nQ 47.75 74.21875 53.53125 72.484375 \nQ 59.328125 70.75 64.40625 67.28125 \nz\n\" id=\"DejaVuSans-67\"/>\n       <path d=\"M 9.8125 72.90625 \nL 19.671875 72.90625 \nL 19.671875 42.09375 \nL 52.390625 72.90625 \nL 65.09375 72.90625 \nL 28.90625 38.921875 \nL 67.671875 0 \nL 54.6875 0 \nL 19.671875 35.109375 \nL 19.671875 0 \nL 9.8125 0 \nz\n\" id=\"DejaVuSans-75\"/>\n       <path d=\"M 28.609375 0 \nL 0.78125 72.90625 \nL 11.078125 72.90625 \nL 34.1875 11.53125 \nL 57.328125 72.90625 \nL 67.578125 72.90625 \nL 39.796875 0 \nz\n\" id=\"DejaVuSans-86\"/>\n       <path d=\"M 9.8125 72.90625 \nL 19.671875 72.90625 \nL 19.671875 0 \nL 9.8125 0 \nz\n\" id=\"DejaVuSans-73\"/>\n       <path d=\"M 9.8125 72.90625 \nL 19.671875 72.90625 \nL 19.671875 8.296875 \nL 55.171875 8.296875 \nL 55.171875 0 \nL 9.8125 0 \nz\n\" id=\"DejaVuSans-76\"/>\n       <path d=\"M 9.8125 72.90625 \nL 55.90625 72.90625 \nL 55.90625 64.59375 \nL 19.671875 64.59375 \nL 19.671875 43.015625 \nL 54.390625 43.015625 \nL 54.390625 34.71875 \nL 19.671875 34.71875 \nL 19.671875 8.296875 \nL 56.78125 8.296875 \nL 56.78125 0 \nL 9.8125 0 \nz\n\" id=\"DejaVuSans-69\"/>\n       <path id=\"DejaVuSans-32\"/>\n       <path d=\"M 53.515625 70.515625 \nL 53.515625 60.890625 \nQ 47.90625 63.578125 42.921875 64.890625 \nQ 37.9375 66.21875 33.296875 66.21875 \nQ 25.25 66.21875 20.875 63.09375 \nQ 16.5 59.96875 16.5 54.203125 \nQ 16.5 49.359375 19.40625 46.890625 \nQ 22.3125 44.4375 30.421875 42.921875 \nL 36.375 41.703125 \nQ 47.40625 39.59375 52.65625 34.296875 \nQ 57.90625 29 57.90625 20.125 \nQ 57.90625 9.515625 50.796875 4.046875 \nQ 43.703125 -1.421875 29.984375 -1.421875 \nQ 24.8125 -1.421875 18.96875 -0.25 \nQ 13.140625 0.921875 6.890625 3.21875 \nL 6.890625 13.375 \nQ 12.890625 10.015625 18.65625 8.296875 \nQ 24.421875 6.59375 29.984375 6.59375 \nQ 38.421875 6.59375 43.015625 9.90625 \nQ 47.609375 13.234375 47.609375 19.390625 \nQ 47.609375 24.75 44.3125 27.78125 \nQ 41.015625 30.8125 33.5 32.328125 \nL 27.484375 33.5 \nQ 16.453125 35.6875 11.515625 40.375 \nQ 6.59375 45.0625 6.59375 53.421875 \nQ 6.59375 63.09375 13.40625 68.65625 \nQ 20.21875 74.21875 32.171875 74.21875 \nQ 37.3125 74.21875 42.625 73.28125 \nQ 47.953125 72.359375 53.515625 70.515625 \nz\n\" id=\"DejaVuSans-83\"/>\n       <path d=\"M -0.296875 72.90625 \nL 61.375 72.90625 \nL 61.375 64.59375 \nL 35.5 64.59375 \nL 35.5 0 \nL 25.59375 0 \nL 25.59375 64.59375 \nL -0.296875 64.59375 \nz\n\" id=\"DejaVuSans-84\"/>\n       <path d=\"M 34.1875 63.1875 \nL 20.796875 26.90625 \nL 47.609375 26.90625 \nz\nM 28.609375 72.90625 \nL 39.796875 72.90625 \nL 67.578125 0 \nL 57.328125 0 \nL 50.6875 18.703125 \nL 17.828125 18.703125 \nL 11.1875 0 \nL 0.78125 0 \nz\n\" id=\"DejaVuSans-65\"/>\n       <path d=\"M 9.8125 72.90625 \nL 23.09375 72.90625 \nL 55.421875 11.921875 \nL 55.421875 72.90625 \nL 64.984375 72.90625 \nL 64.984375 0 \nL 51.703125 0 \nL 19.390625 60.984375 \nL 19.390625 0 \nL 9.8125 0 \nz\n\" id=\"DejaVuSans-78\"/>\n       <path d=\"M 24.3125 39.203125 \nQ 19.875 35.25 17.796875 31.3125 \nQ 15.71875 27.390625 15.71875 23.09375 \nQ 15.71875 15.96875 20.890625 11.234375 \nQ 26.078125 6.5 33.890625 6.5 \nQ 38.53125 6.5 42.578125 8.03125 \nQ 46.625 9.578125 50.203125 12.703125 \nz\nM 31.203125 44.671875 \nL 56 19.28125 \nQ 58.890625 23.640625 60.5 28.59375 \nQ 62.109375 33.546875 62.40625 39.109375 \nL 71.484375 39.109375 \nQ 70.90625 32.671875 68.359375 26.359375 \nQ 65.828125 20.0625 61.28125 13.921875 \nL 74.90625 0 \nL 62.59375 0 \nL 55.609375 7.171875 \nQ 50.53125 2.828125 44.96875 0.703125 \nQ 39.40625 -1.421875 33.015625 -1.421875 \nQ 21.234375 -1.421875 13.765625 5.296875 \nQ 6.296875 12.015625 6.296875 22.515625 \nQ 6.296875 28.765625 9.5625 34.25 \nQ 12.84375 39.75 19.390625 44.578125 \nQ 17.046875 47.65625 15.8125 50.703125 \nQ 14.59375 53.765625 14.59375 56.6875 \nQ 14.59375 64.59375 20.015625 69.40625 \nQ 25.4375 74.21875 34.421875 74.21875 \nQ 38.484375 74.21875 42.5 73.34375 \nQ 46.53125 72.46875 50.6875 70.703125 \nL 50.6875 61.8125 \nQ 46.4375 64.109375 42.578125 65.296875 \nQ 38.71875 66.5 35.40625 66.5 \nQ 30.28125 66.5 27.078125 63.78125 \nQ 23.875 61.078125 23.875 56.78125 \nQ 23.875 54.296875 25.3125 51.78125 \nQ 26.765625 49.265625 31.203125 44.671875 \nz\n\" id=\"DejaVuSans-38\"/>\n       <path d=\"M 19.671875 34.8125 \nL 19.671875 8.109375 \nL 35.5 8.109375 \nQ 43.453125 8.109375 47.28125 11.40625 \nQ 51.125 14.703125 51.125 21.484375 \nQ 51.125 28.328125 47.28125 31.5625 \nQ 43.453125 34.8125 35.5 34.8125 \nz\nM 19.671875 64.796875 \nL 19.671875 42.828125 \nL 34.28125 42.828125 \nQ 41.5 42.828125 45.03125 45.53125 \nQ 48.578125 48.25 48.578125 53.8125 \nQ 48.578125 59.328125 45.03125 62.0625 \nQ 41.5 64.796875 34.28125 64.796875 \nz\nM 9.8125 72.90625 \nL 35.015625 72.90625 \nQ 46.296875 72.90625 52.390625 68.21875 \nQ 58.5 63.53125 58.5 54.890625 \nQ 58.5 48.1875 55.375 44.234375 \nQ 52.25 40.28125 46.1875 39.3125 \nQ 53.46875 37.75 57.5 32.78125 \nQ 61.53125 27.828125 61.53125 20.40625 \nQ 61.53125 10.640625 54.890625 5.3125 \nQ 48.25 0 35.984375 0 \nL 9.8125 0 \nz\n\" id=\"DejaVuSans-66\"/>\n       <path d=\"M -0.203125 72.90625 \nL 10.40625 72.90625 \nL 30.609375 42.921875 \nL 50.6875 72.90625 \nL 61.28125 72.90625 \nL 35.5 34.71875 \nL 35.5 0 \nL 25.59375 0 \nL 25.59375 34.71875 \nz\n\" id=\"DejaVuSans-89\"/>\n       <path d=\"M 4.890625 31.390625 \nL 31.203125 31.390625 \nL 31.203125 23.390625 \nL 4.890625 23.390625 \nz\n\" id=\"DejaVuSans-45\"/>\n       <path d=\"M 3.328125 72.90625 \nL 13.28125 72.90625 \nL 28.609375 11.28125 \nL 43.890625 72.90625 \nL 54.984375 72.90625 \nL 70.3125 11.28125 \nL 85.59375 72.90625 \nL 95.609375 72.90625 \nL 77.296875 0 \nL 64.890625 0 \nL 49.515625 63.28125 \nL 33.984375 0 \nL 21.578125 0 \nz\n\" id=\"DejaVuSans-87\"/>\n      </defs>\n      <g transform=\"translate(48.479687 21.871219)scale(0.1 -0.1)\">\n       <use xlink:href=\"#DejaVuSans-82\"/>\n       <use x=\"69.482422\" xlink:href=\"#DejaVuSans-79\"/>\n       <use x=\"148.193359\" xlink:href=\"#DejaVuSans-67\"/>\n       <use x=\"218.017578\" xlink:href=\"#DejaVuSans-75\"/>\n       <use x=\"283.59375\" xlink:href=\"#DejaVuSans-86\"/>\n       <use x=\"352.001953\" xlink:href=\"#DejaVuSans-73\"/>\n       <use x=\"381.494141\" xlink:href=\"#DejaVuSans-76\"/>\n       <use x=\"437.207031\" xlink:href=\"#DejaVuSans-76\"/>\n       <use x=\"492.919922\" xlink:href=\"#DejaVuSans-69\"/>\n       <use x=\"556.103516\" xlink:href=\"#DejaVuSans-32\"/>\n       <use x=\"587.890625\" xlink:href=\"#DejaVuSans-83\"/>\n       <use x=\"651.367188\" xlink:href=\"#DejaVuSans-84\"/>\n       <use x=\"712.341797\" xlink:href=\"#DejaVuSans-65\"/>\n       <use x=\"780.640625\" xlink:href=\"#DejaVuSans-84\"/>\n       <use x=\"841.724609\" xlink:href=\"#DejaVuSans-73\"/>\n       <use x=\"871.216797\" xlink:href=\"#DejaVuSans-79\"/>\n       <use x=\"949.927734\" xlink:href=\"#DejaVuSans-78\"/>\n       <use x=\"1024.732422\" xlink:href=\"#DejaVuSans-32\"/>\n       <use x=\"1056.519531\" xlink:href=\"#DejaVuSans-32\"/>\n       <use x=\"1088.306641\" xlink:href=\"#DejaVuSans-38\"/>\n       <use x=\"1166.285156\" xlink:href=\"#DejaVuSans-32\"/>\n       <use x=\"1198.072266\" xlink:href=\"#DejaVuSans-66\"/>\n       <use x=\"1266.675781\" xlink:href=\"#DejaVuSans-65\"/>\n       <use x=\"1334.974609\" xlink:href=\"#DejaVuSans-89\"/>\n       <use x=\"1396.058594\" xlink:href=\"#DejaVuSans-32\"/>\n       <use x=\"1427.845703\" xlink:href=\"#DejaVuSans-65\"/>\n       <use x=\"1496.253906\" xlink:href=\"#DejaVuSans-32\"/>\n       <use x=\"1528.041016\" xlink:href=\"#DejaVuSans-45\"/>\n       <use x=\"1564.125\" xlink:href=\"#DejaVuSans-32\"/>\n       <use x=\"1595.912109\" xlink:href=\"#DejaVuSans-87\"/>\n       <use x=\"1694.789062\" xlink:href=\"#DejaVuSans-69\"/>\n       <use x=\"1757.972656\" xlink:href=\"#DejaVuSans-83\"/>\n       <use x=\"1821.449219\" xlink:href=\"#DejaVuSans-84\"/>\n      </g>\n     </g>\n    </g>\n    <g id=\"ytick_2\">\n     <g id=\"line2d_7\">\n      <g>\n       <use style=\"stroke:#000000;stroke-width:0.8;\" x=\"243.734375\" xlink:href=\"#m183120efee\" y=\"39.816\"/>\n      </g>\n     </g>\n     <g id=\"text_8\">\n      <!-- SHADY GROVE STATION  &amp; BAY C - EAST -->\n      <defs>\n       <path d=\"M 9.8125 72.90625 \nL 19.671875 72.90625 \nL 19.671875 43.015625 \nL 55.515625 43.015625 \nL 55.515625 72.90625 \nL 65.375 72.90625 \nL 65.375 0 \nL 55.515625 0 \nL 55.515625 34.71875 \nL 19.671875 34.71875 \nL 19.671875 0 \nL 9.8125 0 \nz\n\" id=\"DejaVuSans-72\"/>\n       <path d=\"M 19.671875 64.796875 \nL 19.671875 8.109375 \nL 31.59375 8.109375 \nQ 46.6875 8.109375 53.6875 14.9375 \nQ 60.6875 21.78125 60.6875 36.53125 \nQ 60.6875 51.171875 53.6875 57.984375 \nQ 46.6875 64.796875 31.59375 64.796875 \nz\nM 9.8125 72.90625 \nL 30.078125 72.90625 \nQ 51.265625 72.90625 61.171875 64.09375 \nQ 71.09375 55.28125 71.09375 36.53125 \nQ 71.09375 17.671875 61.125 8.828125 \nQ 51.171875 0 30.078125 0 \nL 9.8125 0 \nz\n\" id=\"DejaVuSans-68\"/>\n       <path d=\"M 59.515625 10.40625 \nL 59.515625 29.984375 \nL 43.40625 29.984375 \nL 43.40625 38.09375 \nL 69.28125 38.09375 \nL 69.28125 6.78125 \nQ 63.578125 2.734375 56.6875 0.65625 \nQ 49.8125 -1.421875 42 -1.421875 \nQ 24.90625 -1.421875 15.25 8.5625 \nQ 5.609375 18.5625 5.609375 36.375 \nQ 5.609375 54.25 15.25 64.234375 \nQ 24.90625 74.21875 42 74.21875 \nQ 49.125 74.21875 55.546875 72.453125 \nQ 61.96875 70.703125 67.390625 67.28125 \nL 67.390625 56.78125 \nQ 61.921875 61.421875 55.765625 63.765625 \nQ 49.609375 66.109375 42.828125 66.109375 \nQ 29.4375 66.109375 22.71875 58.640625 \nQ 16.015625 51.171875 16.015625 36.375 \nQ 16.015625 21.625 22.71875 14.15625 \nQ 29.4375 6.6875 42.828125 6.6875 \nQ 48.046875 6.6875 52.140625 7.59375 \nQ 56.25 8.5 59.515625 10.40625 \nz\n\" id=\"DejaVuSans-71\"/>\n      </defs>\n      <g transform=\"translate(33.584375 43.615219)scale(0.1 -0.1)\">\n       <use xlink:href=\"#DejaVuSans-83\"/>\n       <use x=\"63.476562\" xlink:href=\"#DejaVuSans-72\"/>\n       <use x=\"138.671875\" xlink:href=\"#DejaVuSans-65\"/>\n       <use x=\"207.080078\" xlink:href=\"#DejaVuSans-68\"/>\n       <use x=\"284.003906\" xlink:href=\"#DejaVuSans-89\"/>\n       <use x=\"345.087891\" xlink:href=\"#DejaVuSans-32\"/>\n       <use x=\"376.875\" xlink:href=\"#DejaVuSans-71\"/>\n       <use x=\"454.365234\" xlink:href=\"#DejaVuSans-82\"/>\n       <use x=\"523.847656\" xlink:href=\"#DejaVuSans-79\"/>\n       <use x=\"602.542969\" xlink:href=\"#DejaVuSans-86\"/>\n       <use x=\"670.951172\" xlink:href=\"#DejaVuSans-69\"/>\n       <use x=\"734.134766\" xlink:href=\"#DejaVuSans-32\"/>\n       <use x=\"765.921875\" xlink:href=\"#DejaVuSans-83\"/>\n       <use x=\"829.398438\" xlink:href=\"#DejaVuSans-84\"/>\n       <use x=\"890.373047\" xlink:href=\"#DejaVuSans-65\"/>\n       <use x=\"958.671875\" xlink:href=\"#DejaVuSans-84\"/>\n       <use x=\"1019.755859\" xlink:href=\"#DejaVuSans-73\"/>\n       <use x=\"1049.248047\" xlink:href=\"#DejaVuSans-79\"/>\n       <use x=\"1127.958984\" xlink:href=\"#DejaVuSans-78\"/>\n       <use x=\"1202.763672\" xlink:href=\"#DejaVuSans-32\"/>\n       <use x=\"1234.550781\" xlink:href=\"#DejaVuSans-32\"/>\n       <use x=\"1266.337891\" xlink:href=\"#DejaVuSans-38\"/>\n       <use x=\"1344.316406\" xlink:href=\"#DejaVuSans-32\"/>\n       <use x=\"1376.103516\" xlink:href=\"#DejaVuSans-66\"/>\n       <use x=\"1444.707031\" xlink:href=\"#DejaVuSans-65\"/>\n       <use x=\"1513.005859\" xlink:href=\"#DejaVuSans-89\"/>\n       <use x=\"1574.089844\" xlink:href=\"#DejaVuSans-32\"/>\n       <use x=\"1605.876953\" xlink:href=\"#DejaVuSans-67\"/>\n       <use x=\"1675.701172\" xlink:href=\"#DejaVuSans-32\"/>\n       <use x=\"1707.488281\" xlink:href=\"#DejaVuSans-45\"/>\n       <use x=\"1743.572266\" xlink:href=\"#DejaVuSans-32\"/>\n       <use x=\"1775.359375\" xlink:href=\"#DejaVuSans-69\"/>\n       <use x=\"1838.542969\" xlink:href=\"#DejaVuSans-65\"/>\n       <use x=\"1906.951172\" xlink:href=\"#DejaVuSans-83\"/>\n       <use x=\"1970.427734\" xlink:href=\"#DejaVuSans-84\"/>\n      </g>\n     </g>\n    </g>\n    <g id=\"ytick_3\">\n     <g id=\"line2d_8\">\n      <g>\n       <use style=\"stroke:#000000;stroke-width:0.8;\" x=\"243.734375\" xlink:href=\"#m183120efee\" y=\"61.56\"/>\n      </g>\n     </g>\n     <g id=\"text_9\">\n      <!-- GERMANTOWN TRANSIT CENTER  &amp; BAY B -->\n      <defs>\n       <path d=\"M 9.8125 72.90625 \nL 24.515625 72.90625 \nL 43.109375 23.296875 \nL 61.8125 72.90625 \nL 76.515625 72.90625 \nL 76.515625 0 \nL 66.890625 0 \nL 66.890625 64.015625 \nL 48.09375 14.015625 \nL 38.1875 14.015625 \nL 19.390625 64.015625 \nL 19.390625 0 \nL 9.8125 0 \nz\n\" id=\"DejaVuSans-77\"/>\n      </defs>\n      <g transform=\"translate(24.957812 65.359219)scale(0.1 -0.1)\">\n       <use xlink:href=\"#DejaVuSans-71\"/>\n       <use x=\"77.490234\" xlink:href=\"#DejaVuSans-69\"/>\n       <use x=\"140.673828\" xlink:href=\"#DejaVuSans-82\"/>\n       <use x=\"210.15625\" xlink:href=\"#DejaVuSans-77\"/>\n       <use x=\"296.435547\" xlink:href=\"#DejaVuSans-65\"/>\n       <use x=\"364.84375\" xlink:href=\"#DejaVuSans-78\"/>\n       <use x=\"439.648438\" xlink:href=\"#DejaVuSans-84\"/>\n       <use x=\"500.732422\" xlink:href=\"#DejaVuSans-79\"/>\n       <use x=\"579.443359\" xlink:href=\"#DejaVuSans-87\"/>\n       <use x=\"678.320312\" xlink:href=\"#DejaVuSans-78\"/>\n       <use x=\"753.125\" xlink:href=\"#DejaVuSans-32\"/>\n       <use x=\"784.912109\" xlink:href=\"#DejaVuSans-84\"/>\n       <use x=\"845.996094\" xlink:href=\"#DejaVuSans-82\"/>\n       <use x=\"915.416016\" xlink:href=\"#DejaVuSans-65\"/>\n       <use x=\"983.824219\" xlink:href=\"#DejaVuSans-78\"/>\n       <use x=\"1058.628906\" xlink:href=\"#DejaVuSans-83\"/>\n       <use x=\"1122.105469\" xlink:href=\"#DejaVuSans-73\"/>\n       <use x=\"1151.597656\" xlink:href=\"#DejaVuSans-84\"/>\n       <use x=\"1212.681641\" xlink:href=\"#DejaVuSans-32\"/>\n       <use x=\"1244.46875\" xlink:href=\"#DejaVuSans-67\"/>\n       <use x=\"1314.292969\" xlink:href=\"#DejaVuSans-69\"/>\n       <use x=\"1377.476562\" xlink:href=\"#DejaVuSans-78\"/>\n       <use x=\"1452.28125\" xlink:href=\"#DejaVuSans-84\"/>\n       <use x=\"1513.365234\" xlink:href=\"#DejaVuSans-69\"/>\n       <use x=\"1576.548828\" xlink:href=\"#DejaVuSans-82\"/>\n       <use x=\"1646.03125\" xlink:href=\"#DejaVuSans-32\"/>\n       <use x=\"1677.818359\" xlink:href=\"#DejaVuSans-32\"/>\n       <use x=\"1709.605469\" xlink:href=\"#DejaVuSans-38\"/>\n       <use x=\"1787.583984\" xlink:href=\"#DejaVuSans-32\"/>\n       <use x=\"1819.371094\" xlink:href=\"#DejaVuSans-66\"/>\n       <use x=\"1887.974609\" xlink:href=\"#DejaVuSans-65\"/>\n       <use x=\"1956.273438\" xlink:href=\"#DejaVuSans-89\"/>\n       <use x=\"2017.357422\" xlink:href=\"#DejaVuSans-32\"/>\n       <use x=\"2049.144531\" xlink:href=\"#DejaVuSans-66\"/>\n      </g>\n     </g>\n    </g>\n    <g id=\"ytick_4\">\n     <g id=\"line2d_9\">\n      <g>\n       <use style=\"stroke:#000000;stroke-width:0.8;\" x=\"243.734375\" xlink:href=\"#m183120efee\" y=\"83.304\"/>\n      </g>\n     </g>\n     <g id=\"text_10\">\n      <!-- TWINBROOK STATION  &amp; BAY A - WEST -->\n      <g transform=\"translate(41.55625 87.103219)scale(0.1 -0.1)\">\n       <use xlink:href=\"#DejaVuSans-84\"/>\n       <use x=\"61.083984\" xlink:href=\"#DejaVuSans-87\"/>\n       <use x=\"159.960938\" xlink:href=\"#DejaVuSans-73\"/>\n       <use x=\"189.453125\" xlink:href=\"#DejaVuSans-78\"/>\n       <use x=\"264.257812\" xlink:href=\"#DejaVuSans-66\"/>\n       <use x=\"332.861328\" xlink:href=\"#DejaVuSans-82\"/>\n       <use x=\"402.34375\" xlink:href=\"#DejaVuSans-79\"/>\n       <use x=\"481.054688\" xlink:href=\"#DejaVuSans-79\"/>\n       <use x=\"559.765625\" xlink:href=\"#DejaVuSans-75\"/>\n       <use x=\"625.341797\" xlink:href=\"#DejaVuSans-32\"/>\n       <use x=\"657.128906\" xlink:href=\"#DejaVuSans-83\"/>\n       <use x=\"720.605469\" xlink:href=\"#DejaVuSans-84\"/>\n       <use x=\"781.580078\" xlink:href=\"#DejaVuSans-65\"/>\n       <use x=\"849.878906\" xlink:href=\"#DejaVuSans-84\"/>\n       <use x=\"910.962891\" xlink:href=\"#DejaVuSans-73\"/>\n       <use x=\"940.455078\" xlink:href=\"#DejaVuSans-79\"/>\n       <use x=\"1019.166016\" xlink:href=\"#DejaVuSans-78\"/>\n       <use x=\"1093.970703\" xlink:href=\"#DejaVuSans-32\"/>\n       <use x=\"1125.757812\" xlink:href=\"#DejaVuSans-32\"/>\n       <use x=\"1157.544922\" xlink:href=\"#DejaVuSans-38\"/>\n       <use x=\"1235.523438\" xlink:href=\"#DejaVuSans-32\"/>\n       <use x=\"1267.310547\" xlink:href=\"#DejaVuSans-66\"/>\n       <use x=\"1335.914062\" xlink:href=\"#DejaVuSans-65\"/>\n       <use x=\"1404.212891\" xlink:href=\"#DejaVuSans-89\"/>\n       <use x=\"1465.296875\" xlink:href=\"#DejaVuSans-32\"/>\n       <use x=\"1497.083984\" xlink:href=\"#DejaVuSans-65\"/>\n       <use x=\"1565.492188\" xlink:href=\"#DejaVuSans-32\"/>\n       <use x=\"1597.279297\" xlink:href=\"#DejaVuSans-45\"/>\n       <use x=\"1633.363281\" xlink:href=\"#DejaVuSans-32\"/>\n       <use x=\"1665.150391\" xlink:href=\"#DejaVuSans-87\"/>\n       <use x=\"1764.027344\" xlink:href=\"#DejaVuSans-69\"/>\n       <use x=\"1827.210938\" xlink:href=\"#DejaVuSans-83\"/>\n       <use x=\"1890.6875\" xlink:href=\"#DejaVuSans-84\"/>\n      </g>\n     </g>\n    </g>\n    <g id=\"ytick_5\">\n     <g id=\"line2d_10\">\n      <g>\n       <use style=\"stroke:#000000;stroke-width:0.8;\" x=\"243.734375\" xlink:href=\"#m183120efee\" y=\"105.048\"/>\n      </g>\n     </g>\n     <g id=\"text_11\">\n      <!-- MEDICAL CENTER STATION  &amp; BAY D -->\n      <g transform=\"translate(53.532812 108.847219)scale(0.1 -0.1)\">\n       <use xlink:href=\"#DejaVuSans-77\"/>\n       <use x=\"86.279297\" xlink:href=\"#DejaVuSans-69\"/>\n       <use x=\"149.462891\" xlink:href=\"#DejaVuSans-68\"/>\n       <use x=\"226.464844\" xlink:href=\"#DejaVuSans-73\"/>\n       <use x=\"255.957031\" xlink:href=\"#DejaVuSans-67\"/>\n       <use x=\"325.78125\" xlink:href=\"#DejaVuSans-65\"/>\n       <use x=\"394.189453\" xlink:href=\"#DejaVuSans-76\"/>\n       <use x=\"449.902344\" xlink:href=\"#DejaVuSans-32\"/>\n       <use x=\"481.689453\" xlink:href=\"#DejaVuSans-67\"/>\n       <use x=\"551.513672\" xlink:href=\"#DejaVuSans-69\"/>\n       <use x=\"614.697266\" xlink:href=\"#DejaVuSans-78\"/>\n       <use x=\"689.501953\" xlink:href=\"#DejaVuSans-84\"/>\n       <use x=\"750.585938\" xlink:href=\"#DejaVuSans-69\"/>\n       <use x=\"813.769531\" xlink:href=\"#DejaVuSans-82\"/>\n       <use x=\"883.251953\" xlink:href=\"#DejaVuSans-32\"/>\n       <use x=\"915.039062\" xlink:href=\"#DejaVuSans-83\"/>\n       <use x=\"978.515625\" xlink:href=\"#DejaVuSans-84\"/>\n       <use x=\"1039.490234\" xlink:href=\"#DejaVuSans-65\"/>\n       <use x=\"1107.789062\" xlink:href=\"#DejaVuSans-84\"/>\n       <use x=\"1168.873047\" xlink:href=\"#DejaVuSans-73\"/>\n       <use x=\"1198.365234\" xlink:href=\"#DejaVuSans-79\"/>\n       <use x=\"1277.076172\" xlink:href=\"#DejaVuSans-78\"/>\n       <use x=\"1351.880859\" xlink:href=\"#DejaVuSans-32\"/>\n       <use x=\"1383.667969\" xlink:href=\"#DejaVuSans-32\"/>\n       <use x=\"1415.455078\" xlink:href=\"#DejaVuSans-38\"/>\n       <use x=\"1493.433594\" xlink:href=\"#DejaVuSans-32\"/>\n       <use x=\"1525.220703\" xlink:href=\"#DejaVuSans-66\"/>\n       <use x=\"1593.824219\" xlink:href=\"#DejaVuSans-65\"/>\n       <use x=\"1662.123047\" xlink:href=\"#DejaVuSans-89\"/>\n       <use x=\"1723.207031\" xlink:href=\"#DejaVuSans-32\"/>\n       <use x=\"1754.994141\" xlink:href=\"#DejaVuSans-68\"/>\n      </g>\n     </g>\n    </g>\n    <g id=\"ytick_6\">\n     <g id=\"line2d_11\">\n      <g>\n       <use style=\"stroke:#000000;stroke-width:0.8;\" x=\"243.734375\" xlink:href=\"#m183120efee\" y=\"126.792\"/>\n      </g>\n     </g>\n     <g id=\"text_12\">\n      <!-- LAKEFOREST TRANSIT CENTER  &amp; ODENDH -->\n      <defs>\n       <path d=\"M 9.8125 72.90625 \nL 51.703125 72.90625 \nL 51.703125 64.59375 \nL 19.671875 64.59375 \nL 19.671875 43.109375 \nL 48.578125 43.109375 \nL 48.578125 34.8125 \nL 19.671875 34.8125 \nL 19.671875 0 \nL 9.8125 0 \nz\n\" id=\"DejaVuSans-70\"/>\n      </defs>\n      <g transform=\"translate(20.878125 130.591219)scale(0.1 -0.1)\">\n       <use xlink:href=\"#DejaVuSans-76\"/>\n       <use x=\"55.744141\" xlink:href=\"#DejaVuSans-65\"/>\n       <use x=\"124.152344\" xlink:href=\"#DejaVuSans-75\"/>\n       <use x=\"189.728516\" xlink:href=\"#DejaVuSans-69\"/>\n       <use x=\"252.912109\" xlink:href=\"#DejaVuSans-70\"/>\n       <use x=\"310.431641\" xlink:href=\"#DejaVuSans-79\"/>\n       <use x=\"389.142578\" xlink:href=\"#DejaVuSans-82\"/>\n       <use x=\"458.625\" xlink:href=\"#DejaVuSans-69\"/>\n       <use x=\"521.808594\" xlink:href=\"#DejaVuSans-83\"/>\n       <use x=\"585.285156\" xlink:href=\"#DejaVuSans-84\"/>\n       <use x=\"646.369141\" xlink:href=\"#DejaVuSans-32\"/>\n       <use x=\"678.15625\" xlink:href=\"#DejaVuSans-84\"/>\n       <use x=\"739.240234\" xlink:href=\"#DejaVuSans-82\"/>\n       <use x=\"808.660156\" xlink:href=\"#DejaVuSans-65\"/>\n       <use x=\"877.068359\" xlink:href=\"#DejaVuSans-78\"/>\n       <use x=\"951.873047\" xlink:href=\"#DejaVuSans-83\"/>\n       <use x=\"1015.349609\" xlink:href=\"#DejaVuSans-73\"/>\n       <use x=\"1044.841797\" xlink:href=\"#DejaVuSans-84\"/>\n       <use x=\"1105.925781\" xlink:href=\"#DejaVuSans-32\"/>\n       <use x=\"1137.712891\" xlink:href=\"#DejaVuSans-67\"/>\n       <use x=\"1207.537109\" xlink:href=\"#DejaVuSans-69\"/>\n       <use x=\"1270.720703\" xlink:href=\"#DejaVuSans-78\"/>\n       <use x=\"1345.525391\" xlink:href=\"#DejaVuSans-84\"/>\n       <use x=\"1406.609375\" xlink:href=\"#DejaVuSans-69\"/>\n       <use x=\"1469.792969\" xlink:href=\"#DejaVuSans-82\"/>\n       <use x=\"1539.275391\" xlink:href=\"#DejaVuSans-32\"/>\n       <use x=\"1571.0625\" xlink:href=\"#DejaVuSans-32\"/>\n       <use x=\"1602.849609\" xlink:href=\"#DejaVuSans-38\"/>\n       <use x=\"1680.828125\" xlink:href=\"#DejaVuSans-32\"/>\n       <use x=\"1712.615234\" xlink:href=\"#DejaVuSans-79\"/>\n       <use x=\"1791.326172\" xlink:href=\"#DejaVuSans-68\"/>\n       <use x=\"1868.328125\" xlink:href=\"#DejaVuSans-69\"/>\n       <use x=\"1931.511719\" xlink:href=\"#DejaVuSans-78\"/>\n       <use x=\"2006.316406\" xlink:href=\"#DejaVuSans-68\"/>\n       <use x=\"2083.318359\" xlink:href=\"#DejaVuSans-72\"/>\n      </g>\n     </g>\n    </g>\n    <g id=\"ytick_7\">\n     <g id=\"line2d_12\">\n      <g>\n       <use style=\"stroke:#000000;stroke-width:0.8;\" x=\"243.734375\" xlink:href=\"#m183120efee\" y=\"148.536\"/>\n      </g>\n     </g>\n     <g id=\"text_13\">\n      <!-- S CAMPUS DR &amp; CAMPUS DR -->\n      <defs>\n       <path d=\"M 19.671875 64.796875 \nL 19.671875 37.40625 \nL 32.078125 37.40625 \nQ 38.96875 37.40625 42.71875 40.96875 \nQ 46.484375 44.53125 46.484375 51.125 \nQ 46.484375 57.671875 42.71875 61.234375 \nQ 38.96875 64.796875 32.078125 64.796875 \nz\nM 9.8125 72.90625 \nL 32.078125 72.90625 \nQ 44.34375 72.90625 50.609375 67.359375 \nQ 56.890625 61.8125 56.890625 51.125 \nQ 56.890625 40.328125 50.609375 34.8125 \nQ 44.34375 29.296875 32.078125 29.296875 \nL 19.671875 29.296875 \nL 19.671875 0 \nL 9.8125 0 \nz\n\" id=\"DejaVuSans-80\"/>\n       <path d=\"M 8.6875 72.90625 \nL 18.609375 72.90625 \nL 18.609375 28.609375 \nQ 18.609375 16.890625 22.84375 11.734375 \nQ 27.09375 6.59375 36.625 6.59375 \nQ 46.09375 6.59375 50.34375 11.734375 \nQ 54.59375 16.890625 54.59375 28.609375 \nL 54.59375 72.90625 \nL 64.5 72.90625 \nL 64.5 27.390625 \nQ 64.5 13.140625 57.4375 5.859375 \nQ 50.390625 -1.421875 36.625 -1.421875 \nQ 22.796875 -1.421875 15.734375 5.859375 \nQ 8.6875 13.140625 8.6875 27.390625 \nz\n\" id=\"DejaVuSans-85\"/>\n      </defs>\n      <g transform=\"translate(93.103125 152.335219)scale(0.1 -0.1)\">\n       <use xlink:href=\"#DejaVuSans-83\"/>\n       <use x=\"63.476562\" xlink:href=\"#DejaVuSans-32\"/>\n       <use x=\"95.263672\" xlink:href=\"#DejaVuSans-67\"/>\n       <use x=\"165.087891\" xlink:href=\"#DejaVuSans-65\"/>\n       <use x=\"233.496094\" xlink:href=\"#DejaVuSans-77\"/>\n       <use x=\"319.775391\" xlink:href=\"#DejaVuSans-80\"/>\n       <use x=\"380.078125\" xlink:href=\"#DejaVuSans-85\"/>\n       <use x=\"453.271484\" xlink:href=\"#DejaVuSans-83\"/>\n       <use x=\"516.748047\" xlink:href=\"#DejaVuSans-32\"/>\n       <use x=\"548.535156\" xlink:href=\"#DejaVuSans-68\"/>\n       <use x=\"625.537109\" xlink:href=\"#DejaVuSans-82\"/>\n       <use x=\"695.019531\" xlink:href=\"#DejaVuSans-32\"/>\n       <use x=\"726.806641\" xlink:href=\"#DejaVuSans-38\"/>\n       <use x=\"804.785156\" xlink:href=\"#DejaVuSans-32\"/>\n       <use x=\"836.572266\" xlink:href=\"#DejaVuSans-67\"/>\n       <use x=\"906.396484\" xlink:href=\"#DejaVuSans-65\"/>\n       <use x=\"974.804688\" xlink:href=\"#DejaVuSans-77\"/>\n       <use x=\"1061.083984\" xlink:href=\"#DejaVuSans-80\"/>\n       <use x=\"1121.386719\" xlink:href=\"#DejaVuSans-85\"/>\n       <use x=\"1194.580078\" xlink:href=\"#DejaVuSans-83\"/>\n       <use x=\"1258.056641\" xlink:href=\"#DejaVuSans-32\"/>\n       <use x=\"1289.84375\" xlink:href=\"#DejaVuSans-68\"/>\n       <use x=\"1366.845703\" xlink:href=\"#DejaVuSans-82\"/>\n      </g>\n     </g>\n    </g>\n    <g id=\"ytick_8\">\n     <g id=\"line2d_13\">\n      <g>\n       <use style=\"stroke:#000000;stroke-width:0.8;\" x=\"243.734375\" xlink:href=\"#m183120efee\" y=\"170.28\"/>\n      </g>\n     </g>\n     <g id=\"text_14\">\n      <!-- ROCKVILLE PIKE &amp; MARINELLI RD -->\n      <g transform=\"translate(70.84375 174.079219)scale(0.1 -0.1)\">\n       <use xlink:href=\"#DejaVuSans-82\"/>\n       <use x=\"69.482422\" xlink:href=\"#DejaVuSans-79\"/>\n       <use x=\"148.193359\" xlink:href=\"#DejaVuSans-67\"/>\n       <use x=\"218.017578\" xlink:href=\"#DejaVuSans-75\"/>\n       <use x=\"283.59375\" xlink:href=\"#DejaVuSans-86\"/>\n       <use x=\"352.001953\" xlink:href=\"#DejaVuSans-73\"/>\n       <use x=\"381.494141\" xlink:href=\"#DejaVuSans-76\"/>\n       <use x=\"437.207031\" xlink:href=\"#DejaVuSans-76\"/>\n       <use x=\"492.919922\" xlink:href=\"#DejaVuSans-69\"/>\n       <use x=\"556.103516\" xlink:href=\"#DejaVuSans-32\"/>\n       <use x=\"587.890625\" xlink:href=\"#DejaVuSans-80\"/>\n       <use x=\"648.193359\" xlink:href=\"#DejaVuSans-73\"/>\n       <use x=\"677.685547\" xlink:href=\"#DejaVuSans-75\"/>\n       <use x=\"743.261719\" xlink:href=\"#DejaVuSans-69\"/>\n       <use x=\"806.445312\" xlink:href=\"#DejaVuSans-32\"/>\n       <use x=\"838.232422\" xlink:href=\"#DejaVuSans-38\"/>\n       <use x=\"916.210938\" xlink:href=\"#DejaVuSans-32\"/>\n       <use x=\"947.998047\" xlink:href=\"#DejaVuSans-77\"/>\n       <use x=\"1034.277344\" xlink:href=\"#DejaVuSans-65\"/>\n       <use x=\"1102.685547\" xlink:href=\"#DejaVuSans-82\"/>\n       <use x=\"1172.167969\" xlink:href=\"#DejaVuSans-73\"/>\n       <use x=\"1201.660156\" xlink:href=\"#DejaVuSans-78\"/>\n       <use x=\"1276.464844\" xlink:href=\"#DejaVuSans-69\"/>\n       <use x=\"1339.648438\" xlink:href=\"#DejaVuSans-76\"/>\n       <use x=\"1395.361328\" xlink:href=\"#DejaVuSans-76\"/>\n       <use x=\"1451.074219\" xlink:href=\"#DejaVuSans-73\"/>\n       <use x=\"1480.566406\" xlink:href=\"#DejaVuSans-32\"/>\n       <use x=\"1512.353516\" xlink:href=\"#DejaVuSans-82\"/>\n       <use x=\"1581.835938\" xlink:href=\"#DejaVuSans-68\"/>\n      </g>\n     </g>\n    </g>\n    <g id=\"ytick_9\">\n     <g id=\"line2d_14\">\n      <g>\n       <use style=\"stroke:#000000;stroke-width:0.8;\" x=\"243.734375\" xlink:href=\"#m183120efee\" y=\"192.024\"/>\n      </g>\n     </g>\n     <g id=\"text_15\">\n      <!-- ROCKVILLE PIKE &amp; EDMONSTON DR -->\n      <g transform=\"translate(58.295312 195.823219)scale(0.1 -0.1)\">\n       <use xlink:href=\"#DejaVuSans-82\"/>\n       <use x=\"69.482422\" xlink:href=\"#DejaVuSans-79\"/>\n       <use x=\"148.193359\" xlink:href=\"#DejaVuSans-67\"/>\n       <use x=\"218.017578\" xlink:href=\"#DejaVuSans-75\"/>\n       <use x=\"283.59375\" xlink:href=\"#DejaVuSans-86\"/>\n       <use x=\"352.001953\" xlink:href=\"#DejaVuSans-73\"/>\n       <use x=\"381.494141\" xlink:href=\"#DejaVuSans-76\"/>\n       <use x=\"437.207031\" xlink:href=\"#DejaVuSans-76\"/>\n       <use x=\"492.919922\" xlink:href=\"#DejaVuSans-69\"/>\n       <use x=\"556.103516\" xlink:href=\"#DejaVuSans-32\"/>\n       <use x=\"587.890625\" xlink:href=\"#DejaVuSans-80\"/>\n       <use x=\"648.193359\" xlink:href=\"#DejaVuSans-73\"/>\n       <use x=\"677.685547\" xlink:href=\"#DejaVuSans-75\"/>\n       <use x=\"743.261719\" xlink:href=\"#DejaVuSans-69\"/>\n       <use x=\"806.445312\" xlink:href=\"#DejaVuSans-32\"/>\n       <use x=\"838.232422\" xlink:href=\"#DejaVuSans-38\"/>\n       <use x=\"916.210938\" xlink:href=\"#DejaVuSans-32\"/>\n       <use x=\"947.998047\" xlink:href=\"#DejaVuSans-69\"/>\n       <use x=\"1011.181641\" xlink:href=\"#DejaVuSans-68\"/>\n       <use x=\"1088.183594\" xlink:href=\"#DejaVuSans-77\"/>\n       <use x=\"1174.462891\" xlink:href=\"#DejaVuSans-79\"/>\n       <use x=\"1253.173828\" xlink:href=\"#DejaVuSans-78\"/>\n       <use x=\"1327.978516\" xlink:href=\"#DejaVuSans-83\"/>\n       <use x=\"1391.455078\" xlink:href=\"#DejaVuSans-84\"/>\n       <use x=\"1452.539062\" xlink:href=\"#DejaVuSans-79\"/>\n       <use x=\"1531.25\" xlink:href=\"#DejaVuSans-78\"/>\n       <use x=\"1606.054688\" xlink:href=\"#DejaVuSans-32\"/>\n       <use x=\"1637.841797\" xlink:href=\"#DejaVuSans-68\"/>\n       <use x=\"1714.84375\" xlink:href=\"#DejaVuSans-82\"/>\n      </g>\n     </g>\n    </g>\n    <g id=\"ytick_10\">\n     <g id=\"line2d_15\">\n      <g>\n       <use style=\"stroke:#000000;stroke-width:0.8;\" x=\"243.734375\" xlink:href=\"#m183120efee\" y=\"213.768\"/>\n      </g>\n     </g>\n     <g id=\"text_16\">\n      <!-- ROCKVILLE PIKE &amp; HALPINE RD -->\n      <g transform=\"translate(81.392187 217.567219)scale(0.1 -0.1)\">\n       <use xlink:href=\"#DejaVuSans-82\"/>\n       <use x=\"69.482422\" xlink:href=\"#DejaVuSans-79\"/>\n       <use x=\"148.193359\" xlink:href=\"#DejaVuSans-67\"/>\n       <use x=\"218.017578\" xlink:href=\"#DejaVuSans-75\"/>\n       <use x=\"283.59375\" xlink:href=\"#DejaVuSans-86\"/>\n       <use x=\"352.001953\" xlink:href=\"#DejaVuSans-73\"/>\n       <use x=\"381.494141\" xlink:href=\"#DejaVuSans-76\"/>\n       <use x=\"437.207031\" xlink:href=\"#DejaVuSans-76\"/>\n       <use x=\"492.919922\" xlink:href=\"#DejaVuSans-69\"/>\n       <use x=\"556.103516\" xlink:href=\"#DejaVuSans-32\"/>\n       <use x=\"587.890625\" xlink:href=\"#DejaVuSans-80\"/>\n       <use x=\"648.193359\" xlink:href=\"#DejaVuSans-73\"/>\n       <use x=\"677.685547\" xlink:href=\"#DejaVuSans-75\"/>\n       <use x=\"743.261719\" xlink:href=\"#DejaVuSans-69\"/>\n       <use x=\"806.445312\" xlink:href=\"#DejaVuSans-32\"/>\n       <use x=\"838.232422\" xlink:href=\"#DejaVuSans-38\"/>\n       <use x=\"916.210938\" xlink:href=\"#DejaVuSans-32\"/>\n       <use x=\"947.998047\" xlink:href=\"#DejaVuSans-72\"/>\n       <use x=\"1023.193359\" xlink:href=\"#DejaVuSans-65\"/>\n       <use x=\"1091.601562\" xlink:href=\"#DejaVuSans-76\"/>\n       <use x=\"1147.314453\" xlink:href=\"#DejaVuSans-80\"/>\n       <use x=\"1207.617188\" xlink:href=\"#DejaVuSans-73\"/>\n       <use x=\"1237.109375\" xlink:href=\"#DejaVuSans-78\"/>\n       <use x=\"1311.914062\" xlink:href=\"#DejaVuSans-69\"/>\n       <use x=\"1375.097656\" xlink:href=\"#DejaVuSans-32\"/>\n       <use x=\"1406.884766\" xlink:href=\"#DejaVuSans-82\"/>\n       <use x=\"1476.367188\" xlink:href=\"#DejaVuSans-68\"/>\n      </g>\n     </g>\n    </g>\n    <g id=\"text_17\">\n     <!-- stops -->\n     <defs>\n      <path d=\"M 18.3125 70.21875 \nL 18.3125 54.6875 \nL 36.8125 54.6875 \nL 36.8125 47.703125 \nL 18.3125 47.703125 \nL 18.3125 18.015625 \nQ 18.3125 11.328125 20.140625 9.421875 \nQ 21.96875 7.515625 27.59375 7.515625 \nL 36.8125 7.515625 \nL 36.8125 0 \nL 27.59375 0 \nQ 17.1875 0 13.234375 3.875 \nQ 9.28125 7.765625 9.28125 18.015625 \nL 9.28125 47.703125 \nL 2.6875 47.703125 \nL 2.6875 54.6875 \nL 9.28125 54.6875 \nL 9.28125 70.21875 \nz\n\" id=\"DejaVuSans-116\"/>\n      <path d=\"M 18.109375 8.203125 \nL 18.109375 -20.796875 \nL 9.078125 -20.796875 \nL 9.078125 54.6875 \nL 18.109375 54.6875 \nL 18.109375 46.390625 \nQ 20.953125 51.265625 25.265625 53.625 \nQ 29.59375 56 35.59375 56 \nQ 45.5625 56 51.78125 48.09375 \nQ 58.015625 40.1875 58.015625 27.296875 \nQ 58.015625 14.40625 51.78125 6.484375 \nQ 45.5625 -1.421875 35.59375 -1.421875 \nQ 29.59375 -1.421875 25.265625 0.953125 \nQ 20.953125 3.328125 18.109375 8.203125 \nz\nM 48.6875 27.296875 \nQ 48.6875 37.203125 44.609375 42.84375 \nQ 40.53125 48.484375 33.40625 48.484375 \nQ 26.265625 48.484375 22.1875 42.84375 \nQ 18.109375 37.203125 18.109375 27.296875 \nQ 18.109375 17.390625 22.1875 11.75 \nQ 26.265625 6.109375 33.40625 6.109375 \nQ 40.53125 6.109375 44.609375 11.75 \nQ 48.6875 17.390625 48.6875 27.296875 \nz\n\" id=\"DejaVuSans-112\"/>\n     </defs>\n     <g transform=\"translate(14.798437 129.323125)rotate(-90)scale(0.1 -0.1)\">\n      <use xlink:href=\"#DejaVuSans-115\"/>\n      <use x=\"52.099609\" xlink:href=\"#DejaVuSans-116\"/>\n      <use x=\"91.308594\" xlink:href=\"#DejaVuSans-111\"/>\n      <use x=\"152.490234\" xlink:href=\"#DejaVuSans-112\"/>\n      <use x=\"215.966797\" xlink:href=\"#DejaVuSans-115\"/>\n     </g>\n    </g>\n   </g>\n   <g id=\"line2d_16\">\n    <path clip-path=\"url(#p5e8f49c818)\" d=\"M 0 0 \n\" style=\"fill:none;stroke:#424242;stroke-linecap:square;stroke-width:2.7;\"/>\n   </g>\n   <g id=\"line2d_17\">\n    <path clip-path=\"url(#p5e8f49c818)\" d=\"M 0 0 \n\" style=\"fill:none;stroke:#424242;stroke-linecap:square;stroke-width:2.7;\"/>\n   </g>\n   <g id=\"line2d_18\">\n    <path clip-path=\"url(#p5e8f49c818)\" d=\"M 0 0 \n\" style=\"fill:none;stroke:#424242;stroke-linecap:square;stroke-width:2.7;\"/>\n   </g>\n   <g id=\"line2d_19\">\n    <path clip-path=\"url(#p5e8f49c818)\" d=\"M 0 0 \n\" style=\"fill:none;stroke:#424242;stroke-linecap:square;stroke-width:2.7;\"/>\n   </g>\n   <g id=\"line2d_20\">\n    <path clip-path=\"url(#p5e8f49c818)\" d=\"M 0 0 \n\" style=\"fill:none;stroke:#424242;stroke-linecap:square;stroke-width:2.7;\"/>\n   </g>\n   <g id=\"line2d_21\">\n    <path clip-path=\"url(#p5e8f49c818)\" d=\"M 0 0 \n\" style=\"fill:none;stroke:#424242;stroke-linecap:square;stroke-width:2.7;\"/>\n   </g>\n   <g id=\"line2d_22\">\n    <path clip-path=\"url(#p5e8f49c818)\" d=\"M 0 0 \n\" style=\"fill:none;stroke:#424242;stroke-linecap:square;stroke-width:2.7;\"/>\n   </g>\n   <g id=\"line2d_23\">\n    <path clip-path=\"url(#p5e8f49c818)\" d=\"M 0 0 \n\" style=\"fill:none;stroke:#424242;stroke-linecap:square;stroke-width:2.7;\"/>\n   </g>\n   <g id=\"line2d_24\">\n    <path clip-path=\"url(#p5e8f49c818)\" d=\"M 0 0 \n\" style=\"fill:none;stroke:#424242;stroke-linecap:square;stroke-width:2.7;\"/>\n   </g>\n   <g id=\"line2d_25\">\n    <path clip-path=\"url(#p5e8f49c818)\" d=\"M 0 0 \n\" style=\"fill:none;stroke:#424242;stroke-linecap:square;stroke-width:2.7;\"/>\n   </g>\n   <g id=\"patch_13\">\n    <path d=\"M 243.734375 224.64 \nL 243.734375 7.2 \n\" style=\"fill:none;stroke:#000000;stroke-linecap:square;stroke-linejoin:miter;stroke-width:0.8;\"/>\n   </g>\n   <g id=\"patch_14\">\n    <path d=\"M 578.534375 224.64 \nL 578.534375 7.2 \n\" style=\"fill:none;stroke:#000000;stroke-linecap:square;stroke-linejoin:miter;stroke-width:0.8;\"/>\n   </g>\n   <g id=\"patch_15\">\n    <path d=\"M 243.734375 224.64 \nL 578.534375 224.64 \n\" style=\"fill:none;stroke:#000000;stroke-linecap:square;stroke-linejoin:miter;stroke-width:0.8;\"/>\n   </g>\n   <g id=\"patch_16\">\n    <path d=\"M 243.734375 7.2 \nL 578.534375 7.2 \n\" style=\"fill:none;stroke:#000000;stroke-linecap:square;stroke-linejoin:miter;stroke-width:0.8;\"/>\n   </g>\n  </g>\n </g>\n <defs>\n  <clipPath id=\"p5e8f49c818\">\n   <rect height=\"217.44\" width=\"334.8\" x=\"243.734375\" y=\"7.2\"/>\n  </clipPath>\n </defs>\n</svg>\n",
      "image/png": "[encoded data removed]"
     },
     "metadata": {
      "needs_background": "light"
     }
    }
   ],
   "source": [
    "stops=round(janfeb.groupby('stops')[['boardings','alightings']].agg('sum').reset_index(),2)\n",
    "dataa = stops.nlargest(len(stops),'boardings')\n",
    "\n",
    "fig = sns.barplot(data=dataa[0:10], x=\"boardings\", y=\"stops\")\n",
    "plt.show()\n",
    "stops.nlargest(len(stops),'boardings') # to_csv to make record\n",
    "stops.nlargest(len(stops),'alightings') # to_csv to make record"
   ]
  },
  {
   "cell_type": "code",
   "execution_count": null,
   "id": "alleged-fault",
   "metadata": {},
   "outputs": [],
   "source": [
    "stops.nlargest(len(stops),'boardings') # to_csv to make record\n",
    "stops.nlargest(len(stops),'alightings') # to_csv to make record"
   ]
  },
  {
   "cell_type": "code",
   "execution_count": 35,
   "metadata": {},
   "outputs": [
    {
     "output_type": "execute_result",
     "data": {
      "text/plain": [
       "       route_id  stop_id                               stops  block_id  \\\n",
       "0            46        0                             UNKNOWN      2001   \n",
       "1            46        0                             UNKNOWN      2001   \n",
       "2            46        0                             UNKNOWN      2001   \n",
       "3            46        0                             UNKNOWN      2001   \n",
       "4            46        0                             UNKNOWN      2001   \n",
       "...         ...      ...                                 ...       ...   \n",
       "79012       100    15182  GERMANTOWN TRANSIT CENTER  & BAY B      2256   \n",
       "79013       100    15182  GERMANTOWN TRANSIT CENTER  & BAY B      2256   \n",
       "79014       100    15182  GERMANTOWN TRANSIT CENTER  & BAY B      2256   \n",
       "79015       100    15182  GERMANTOWN TRANSIT CENTER  & BAY B      2256   \n",
       "79016       100    15182  GERMANTOWN TRANSIT CENTER  & BAY B      2256   \n",
       "\n",
       "       vehicle_id  run_id   op_id   dates     times  boardings  alightings  \\\n",
       "0          5741.0     201   900.0   Jan 1  10:28:01        0.0         0.0   \n",
       "1          5741.0     201   900.0   Jan 1  11:22:48        0.0         0.0   \n",
       "2          5741.0     201   900.0   Jan 1  12:00:49        1.0         1.0   \n",
       "3          4095.0     201  2304.0   Jan 6  05:02:58        0.0         0.0   \n",
       "4          4095.0     201  2304.0   Jan 6  06:02:09        0.0         0.0   \n",
       "...           ...     ...     ...     ...       ...        ...         ...   \n",
       "79012      4106.0     272  3053.0  Feb 25  17:46:21        6.0        20.0   \n",
       "79013      4092.0     272  3053.0  Feb 26  16:28:00        0.0        13.0   \n",
       "79014      4092.0     272  3053.0  Feb 26  17:45:41       12.0        19.0   \n",
       "79015      4054.0     272  2838.0  Feb 27  16:28:43        0.0        16.0   \n",
       "79016      4054.0     272  2838.0  Feb 27  17:42:25        9.0        21.0   \n",
       "\n",
       "       hour  month  year  \n",
       "0        10      1    19  \n",
       "1        11      1    19  \n",
       "2        12      1    19  \n",
       "3         5      1    19  \n",
       "4         6      1    19  \n",
       "...     ...    ...   ...  \n",
       "79012    17      2    19  \n",
       "79013    16      2    19  \n",
       "79014    17      2    19  \n",
       "79015    16      2    19  \n",
       "79016    17      2    19  \n",
       "\n",
       "[79017 rows x 14 columns]"
      ],
      "text/html": "<div>\n<style scoped>\n    .dataframe tbody tr th:only-of-type {\n        vertical-align: middle;\n    }\n\n    .dataframe tbody tr th {\n        vertical-align: top;\n    }\n\n    .dataframe thead th {\n        text-align: right;\n    }\n</style>\n<table border=\"1\" class=\"dataframe\">\n  <thead>\n    <tr style=\"text-align: right;\">\n      <th></th>\n      <th>route_id</th>\n      <th>stop_id</th>\n      <th>stops</th>\n      <th>block_id</th>\n      <th>vehicle_id</th>\n      <th>run_id</th>\n      <th>op_id</th>\n      <th>dates</th>\n      <th>times</th>\n      <th>boardings</th>\n      <th>alightings</th>\n      <th>hour</th>\n      <th>month</th>\n      <th>year</th>\n    </tr>\n  </thead>\n  <tbody>\n    <tr>\n      <th>0</th>\n      <td>46</td>\n      <td>0</td>\n      <td>UNKNOWN</td>\n      <td>2001</td>\n      <td>5741.0</td>\n      <td>201</td>\n      <td>900.0</td>\n      <td>Jan 1</td>\n      <td>10:28:01</td>\n      <td>0.0</td>\n      <td>0.0</td>\n      <td>10</td>\n      <td>1</td>\n      <td>19</td>\n    </tr>\n    <tr>\n      <th>1</th>\n      <td>46</td>\n      <td>0</td>\n      <td>UNKNOWN</td>\n      <td>2001</td>\n      <td>5741.0</td>\n      <td>201</td>\n      <td>900.0</td>\n      <td>Jan 1</td>\n      <td>11:22:48</td>\n      <td>0.0</td>\n      <td>0.0</td>\n      <td>11</td>\n      <td>1</td>\n      <td>19</td>\n    </tr>\n    <tr>\n      <th>2</th>\n      <td>46</td>\n      <td>0</td>\n      <td>UNKNOWN</td>\n      <td>2001</td>\n      <td>5741.0</td>\n      <td>201</td>\n      <td>900.0</td>\n      <td>Jan 1</td>\n      <td>12:00:49</td>\n      <td>1.0</td>\n      <td>1.0</td>\n      <td>12</td>\n      <td>1</td>\n      <td>19</td>\n    </tr>\n    <tr>\n      <th>3</th>\n      <td>46</td>\n      <td>0</td>\n      <td>UNKNOWN</td>\n      <td>2001</td>\n      <td>4095.0</td>\n      <td>201</td>\n      <td>2304.0</td>\n      <td>Jan 6</td>\n      <td>05:02:58</td>\n      <td>0.0</td>\n      <td>0.0</td>\n      <td>5</td>\n      <td>1</td>\n      <td>19</td>\n    </tr>\n    <tr>\n      <th>4</th>\n      <td>46</td>\n      <td>0</td>\n      <td>UNKNOWN</td>\n      <td>2001</td>\n      <td>4095.0</td>\n      <td>201</td>\n      <td>2304.0</td>\n      <td>Jan 6</td>\n      <td>06:02:09</td>\n      <td>0.0</td>\n      <td>0.0</td>\n      <td>6</td>\n      <td>1</td>\n      <td>19</td>\n    </tr>\n    <tr>\n      <th>...</th>\n      <td>...</td>\n      <td>...</td>\n      <td>...</td>\n      <td>...</td>\n      <td>...</td>\n      <td>...</td>\n      <td>...</td>\n      <td>...</td>\n      <td>...</td>\n      <td>...</td>\n      <td>...</td>\n      <td>...</td>\n      <td>...</td>\n      <td>...</td>\n    </tr>\n    <tr>\n      <th>79012</th>\n      <td>100</td>\n      <td>15182</td>\n      <td>GERMANTOWN TRANSIT CENTER  &amp; BAY B</td>\n      <td>2256</td>\n      <td>4106.0</td>\n      <td>272</td>\n      <td>3053.0</td>\n      <td>Feb 25</td>\n      <td>17:46:21</td>\n      <td>6.0</td>\n      <td>20.0</td>\n      <td>17</td>\n      <td>2</td>\n      <td>19</td>\n    </tr>\n    <tr>\n      <th>79013</th>\n      <td>100</td>\n      <td>15182</td>\n      <td>GERMANTOWN TRANSIT CENTER  &amp; BAY B</td>\n      <td>2256</td>\n      <td>4092.0</td>\n      <td>272</td>\n      <td>3053.0</td>\n      <td>Feb 26</td>\n      <td>16:28:00</td>\n      <td>0.0</td>\n      <td>13.0</td>\n      <td>16</td>\n      <td>2</td>\n      <td>19</td>\n    </tr>\n    <tr>\n      <th>79014</th>\n      <td>100</td>\n      <td>15182</td>\n      <td>GERMANTOWN TRANSIT CENTER  &amp; BAY B</td>\n      <td>2256</td>\n      <td>4092.0</td>\n      <td>272</td>\n      <td>3053.0</td>\n      <td>Feb 26</td>\n      <td>17:45:41</td>\n      <td>12.0</td>\n      <td>19.0</td>\n      <td>17</td>\n      <td>2</td>\n      <td>19</td>\n    </tr>\n    <tr>\n      <th>79015</th>\n      <td>100</td>\n      <td>15182</td>\n      <td>GERMANTOWN TRANSIT CENTER  &amp; BAY B</td>\n      <td>2256</td>\n      <td>4054.0</td>\n      <td>272</td>\n      <td>2838.0</td>\n      <td>Feb 27</td>\n      <td>16:28:43</td>\n      <td>0.0</td>\n      <td>16.0</td>\n      <td>16</td>\n      <td>2</td>\n      <td>19</td>\n    </tr>\n    <tr>\n      <th>79016</th>\n      <td>100</td>\n      <td>15182</td>\n      <td>GERMANTOWN TRANSIT CENTER  &amp; BAY B</td>\n      <td>2256</td>\n      <td>4054.0</td>\n      <td>272</td>\n      <td>2838.0</td>\n      <td>Feb 27</td>\n      <td>17:42:25</td>\n      <td>9.0</td>\n      <td>21.0</td>\n      <td>17</td>\n      <td>2</td>\n      <td>19</td>\n    </tr>\n  </tbody>\n</table>\n<p>79017 rows × 14 columns</p>\n</div>"
     },
     "metadata": {},
     "execution_count": 35
    }
   ],
   "source": [
    "janfeb"
   ]
  },
  {
   "cell_type": "code",
   "execution_count": 37,
   "id": "thermal-cotton",
   "metadata": {},
   "outputs": [
    {
     "output_type": "display_data",
     "data": {
      "text/plain": "<Figure size 1440x1080 with 2 Axes>",
      "image/svg+xml": "<?xml version=\"1.0\" encoding=\"utf-8\" standalone=\"no\"?>\n<!DOCTYPE svg PUBLIC \"-//W3C//DTD SVG 1.1//EN\"\n  \"http://www.w3.org/Graphics/SVG/1.1/DTD/svg11.dtd\">\n<!-- Created with matplotlib (https://matplotlib.org/) -->\n<svg height=\"860.434375pt\" version=\"1.1\" viewBox=\"0 0 1176.528125 860.434375\" width=\"1176.528125pt\" xmlns=\"http://www.w3.org/2000/svg\" xmlns:xlink=\"http://www.w3.org/1999/xlink\">\n <defs>\n  <style type=\"text/css\">\n*{stroke-linecap:butt;stroke-linejoin:round;}\n  </style>\n </defs>\n <g id=\"figure_1\">\n  <g id=\"patch_1\">\n   <path d=\"M 0 860.434375 \nL 1176.528125 860.434375 \nL 1176.528125 0 \nL 0 0 \nz\n\" style=\"fill:none;\"/>\n  </g>\n  <g id=\"axes_1\">\n   <g id=\"patch_2\">\n    <path d=\"M 53.328125 377.836364 \nL 1169.328125 377.836364 \nL 1169.328125 7.2 \nL 53.328125 7.2 \nz\n\" style=\"fill:#ffffff;\"/>\n   </g>\n   <g id=\"patch_3\">\n    <path clip-path=\"url(#p76fa20b2cb)\" d=\"M 58.400852 377.836364 \nL 98.98267 377.836364 \nL 98.98267 370.778094 \nL 58.400852 370.778094 \nz\n\" style=\"fill:#ea96a3;\"/>\n   </g>\n   <g id=\"patch_4\">\n    <path clip-path=\"url(#p76fa20b2cb)\" d=\"M 109.128125 377.836364 \nL 149.709943 377.836364 \nL 149.709943 377.836364 \nL 109.128125 377.836364 \nz\n\" style=\"fill:#e89687;\"/>\n   </g>\n   <g id=\"patch_5\">\n    <path clip-path=\"url(#p76fa20b2cb)\" d=\"M 159.855398 377.836364 \nL 200.437216 377.836364 \nL 200.437216 324.678769 \nL 159.855398 324.678769 \nz\n\" style=\"fill:#dc924e;\"/>\n   </g>\n   <g id=\"patch_6\">\n    <path clip-path=\"url(#p76fa20b2cb)\" d=\"M 210.58267 377.836364 \nL 251.164489 377.836364 \nL 251.164489 204.467612 \nL 210.58267 204.467612 \nz\n\" style=\"fill:#c5994b;\"/>\n   </g>\n   <g id=\"patch_7\">\n    <path clip-path=\"url(#p76fa20b2cb)\" d=\"M 261.309943 377.836364 \nL 301.891761 377.836364 \nL 301.891761 208.033509 \nL 261.309943 208.033509 \nz\n\" style=\"fill:#b39d48;\"/>\n   </g>\n   <g id=\"patch_8\">\n    <path clip-path=\"url(#p76fa20b2cb)\" d=\"M 312.037216 377.836364 \nL 352.619034 377.836364 \nL 352.619034 244.243903 \nL 312.037216 244.243903 \nz\n\" style=\"fill:#a09f45;\"/>\n   </g>\n   <g id=\"patch_9\">\n    <path clip-path=\"url(#p76fa20b2cb)\" d=\"M 362.764489 377.836364 \nL 403.346307 377.836364 \nL 403.346307 269.021371 \nL 362.764489 269.021371 \nz\n\" style=\"fill:#8ea546;\"/>\n   </g>\n   <g id=\"patch_10\">\n    <path clip-path=\"url(#p76fa20b2cb)\" d=\"M 413.491761 377.836364 \nL 454.07358 377.836364 \nL 454.07358 109.144208 \nL 413.491761 109.144208 \nz\n\" style=\"fill:#71ac47;\"/>\n   </g>\n   <g id=\"patch_11\">\n    <path clip-path=\"url(#p76fa20b2cb)\" d=\"M 464.219034 377.836364 \nL 504.800852 377.836364 \nL 504.800852 129.326448 \nL 464.219034 129.326448 \nz\n\" style=\"fill:#48b067;\"/>\n   </g>\n   <g id=\"patch_12\">\n    <path clip-path=\"url(#p76fa20b2cb)\" d=\"M 514.946307 377.836364 \nL 555.528125 377.836364 \nL 555.528125 132.083585 \nL 514.946307 132.083585 \nz\n\" style=\"fill:#49ae87;\"/>\n   </g>\n   <g id=\"patch_13\">\n    <path clip-path=\"url(#p76fa20b2cb)\" d=\"M 565.67358 377.836364 \nL 606.255398 377.836364 \nL 606.255398 103.666697 \nL 565.67358 103.666697 \nz\n\" style=\"fill:#4aac98;\"/>\n   </g>\n   <g id=\"patch_14\">\n    <path clip-path=\"url(#p76fa20b2cb)\" d=\"M 616.400852 377.836364 \nL 656.98267 377.836364 \nL 656.98267 24.849351 \nL 616.400852 24.849351 \nz\n\" style=\"fill:#4baba4;\"/>\n   </g>\n   <g id=\"patch_15\">\n    <path clip-path=\"url(#p76fa20b2cb)\" d=\"M 667.128125 377.836364 \nL 707.709943 377.836364 \nL 707.709943 36.502848 \nL 667.128125 36.502848 \nz\n\" style=\"fill:#4dabb0;\"/>\n   </g>\n   <g id=\"patch_16\">\n    <path clip-path=\"url(#p76fa20b2cb)\" d=\"M 717.855398 377.836364 \nL 758.437216 377.836364 \nL 758.437216 116.496572 \nL 717.855398 116.496572 \nz\n\" style=\"fill:#50acbf;\"/>\n   </g>\n   <g id=\"patch_17\">\n    <path clip-path=\"url(#p76fa20b2cb)\" d=\"M 768.58267 377.836364 \nL 809.164489 377.836364 \nL 809.164489 69.257631 \nL 768.58267 69.257631 \nz\n\" style=\"fill:#54acd3;\"/>\n   </g>\n   <g id=\"patch_18\">\n    <path clip-path=\"url(#p76fa20b2cb)\" d=\"M 819.309943 377.836364 \nL 859.891761 377.836364 \nL 859.891761 207.702652 \nL 819.309943 207.702652 \nz\n\" style=\"fill:#82aee5;\"/>\n   </g>\n   <g id=\"patch_19\">\n    <path clip-path=\"url(#p76fa20b2cb)\" d=\"M 870.037216 377.836364 \nL 910.619034 377.836364 \nL 910.619034 290.747608 \nL 870.037216 290.747608 \nz\n\" style=\"fill:#a9aceb;\"/>\n   </g>\n   <g id=\"patch_20\">\n    <path clip-path=\"url(#p76fa20b2cb)\" d=\"M 920.764489 377.836364 \nL 961.346307 377.836364 \nL 961.346307 312.951748 \nL 920.764489 312.951748 \nz\n\" style=\"fill:#c1a2ea;\"/>\n   </g>\n   <g id=\"patch_21\">\n    <path clip-path=\"url(#p76fa20b2cb)\" d=\"M 971.491761 377.836364 \nL 1012.07358 377.836364 \nL 1012.07358 317.510214 \nL 971.491761 317.510214 \nz\n\" style=\"fill:#d795e8;\"/>\n   </g>\n   <g id=\"patch_22\">\n    <path clip-path=\"url(#p76fa20b2cb)\" d=\"M 1022.219034 377.836364 \nL 1062.800852 377.836364 \nL 1062.800852 326.149242 \nL 1022.219034 326.149242 \nz\n\" style=\"fill:#e78bdd;\"/>\n   </g>\n   <g id=\"patch_23\">\n    <path clip-path=\"url(#p76fa20b2cb)\" d=\"M 1072.946307 377.836364 \nL 1113.528125 377.836364 \nL 1113.528125 328.759332 \nL 1072.946307 328.759332 \nz\n\" style=\"fill:#e88fc9;\"/>\n   </g>\n   <g id=\"patch_24\">\n    <path clip-path=\"url(#p76fa20b2cb)\" d=\"M 1123.67358 377.836364 \nL 1164.255398 377.836364 \nL 1164.255398 352.470707 \nL 1123.67358 352.470707 \nz\n\" style=\"fill:#e993b7;\"/>\n   </g>\n   <g id=\"matplotlib.axis_1\">\n    <g id=\"xtick_1\">\n     <g id=\"line2d_1\">\n      <defs>\n       <path d=\"M 0 0 \nL 0 3.5 \n\" id=\"m8a3ef6d5af\" style=\"stroke:#000000;stroke-width:0.8;\"/>\n      </defs>\n      <g>\n       <use style=\"stroke:#000000;stroke-width:0.8;\" x=\"78.691761\" xlink:href=\"#m8a3ef6d5af\" y=\"377.836364\"/>\n      </g>\n     </g>\n     <g id=\"text_1\">\n      <!-- 0 -->\n      <defs>\n       <path d=\"M 31.78125 66.40625 \nQ 24.171875 66.40625 20.328125 58.90625 \nQ 16.5 51.421875 16.5 36.375 \nQ 16.5 21.390625 20.328125 13.890625 \nQ 24.171875 6.390625 31.78125 6.390625 \nQ 39.453125 6.390625 43.28125 13.890625 \nQ 47.125 21.390625 47.125 36.375 \nQ 47.125 51.421875 43.28125 58.90625 \nQ 39.453125 66.40625 31.78125 66.40625 \nz\nM 31.78125 74.21875 \nQ 44.046875 74.21875 50.515625 64.515625 \nQ 56.984375 54.828125 56.984375 36.375 \nQ 56.984375 17.96875 50.515625 8.265625 \nQ 44.046875 -1.421875 31.78125 -1.421875 \nQ 19.53125 -1.421875 13.0625 8.265625 \nQ 6.59375 17.96875 6.59375 36.375 \nQ 6.59375 54.828125 13.0625 64.515625 \nQ 19.53125 74.21875 31.78125 74.21875 \nz\n\" id=\"DejaVuSans-48\"/>\n      </defs>\n      <g transform=\"translate(75.510511 392.434801)scale(0.1 -0.1)\">\n       <use xlink:href=\"#DejaVuSans-48\"/>\n      </g>\n     </g>\n    </g>\n    <g id=\"xtick_2\">\n     <g id=\"line2d_2\">\n      <g>\n       <use style=\"stroke:#000000;stroke-width:0.8;\" x=\"129.419034\" xlink:href=\"#m8a3ef6d5af\" y=\"377.836364\"/>\n      </g>\n     </g>\n     <g id=\"text_2\">\n      <!-- 3 -->\n      <defs>\n       <path d=\"M 40.578125 39.3125 \nQ 47.65625 37.796875 51.625 33 \nQ 55.609375 28.21875 55.609375 21.1875 \nQ 55.609375 10.40625 48.1875 4.484375 \nQ 40.765625 -1.421875 27.09375 -1.421875 \nQ 22.515625 -1.421875 17.65625 -0.515625 \nQ 12.796875 0.390625 7.625 2.203125 \nL 7.625 11.71875 \nQ 11.71875 9.328125 16.59375 8.109375 \nQ 21.484375 6.890625 26.8125 6.890625 \nQ 36.078125 6.890625 40.9375 10.546875 \nQ 45.796875 14.203125 45.796875 21.1875 \nQ 45.796875 27.640625 41.28125 31.265625 \nQ 36.765625 34.90625 28.71875 34.90625 \nL 20.21875 34.90625 \nL 20.21875 43.015625 \nL 29.109375 43.015625 \nQ 36.375 43.015625 40.234375 45.921875 \nQ 44.09375 48.828125 44.09375 54.296875 \nQ 44.09375 59.90625 40.109375 62.90625 \nQ 36.140625 65.921875 28.71875 65.921875 \nQ 24.65625 65.921875 20.015625 65.03125 \nQ 15.375 64.15625 9.8125 62.3125 \nL 9.8125 71.09375 \nQ 15.4375 72.65625 20.34375 73.4375 \nQ 25.25 74.21875 29.59375 74.21875 \nQ 40.828125 74.21875 47.359375 69.109375 \nQ 53.90625 64.015625 53.90625 55.328125 \nQ 53.90625 49.265625 50.4375 45.09375 \nQ 46.96875 40.921875 40.578125 39.3125 \nz\n\" id=\"DejaVuSans-51\"/>\n      </defs>\n      <g transform=\"translate(126.237784 392.434801)scale(0.1 -0.1)\">\n       <use xlink:href=\"#DejaVuSans-51\"/>\n      </g>\n     </g>\n    </g>\n    <g id=\"xtick_3\">\n     <g id=\"line2d_3\">\n      <g>\n       <use style=\"stroke:#000000;stroke-width:0.8;\" x=\"180.146307\" xlink:href=\"#m8a3ef6d5af\" y=\"377.836364\"/>\n      </g>\n     </g>\n     <g id=\"text_3\">\n      <!-- 4 -->\n      <defs>\n       <path d=\"M 37.796875 64.3125 \nL 12.890625 25.390625 \nL 37.796875 25.390625 \nz\nM 35.203125 72.90625 \nL 47.609375 72.90625 \nL 47.609375 25.390625 \nL 58.015625 25.390625 \nL 58.015625 17.1875 \nL 47.609375 17.1875 \nL 47.609375 0 \nL 37.796875 0 \nL 37.796875 17.1875 \nL 4.890625 17.1875 \nL 4.890625 26.703125 \nz\n\" id=\"DejaVuSans-52\"/>\n      </defs>\n      <g transform=\"translate(176.965057 392.434801)scale(0.1 -0.1)\">\n       <use xlink:href=\"#DejaVuSans-52\"/>\n      </g>\n     </g>\n    </g>\n    <g id=\"xtick_4\">\n     <g id=\"line2d_4\">\n      <g>\n       <use style=\"stroke:#000000;stroke-width:0.8;\" x=\"230.87358\" xlink:href=\"#m8a3ef6d5af\" y=\"377.836364\"/>\n      </g>\n     </g>\n     <g id=\"text_4\">\n      <!-- 5 -->\n      <defs>\n       <path d=\"M 10.796875 72.90625 \nL 49.515625 72.90625 \nL 49.515625 64.59375 \nL 19.828125 64.59375 \nL 19.828125 46.734375 \nQ 21.96875 47.46875 24.109375 47.828125 \nQ 26.265625 48.1875 28.421875 48.1875 \nQ 40.625 48.1875 47.75 41.5 \nQ 54.890625 34.8125 54.890625 23.390625 \nQ 54.890625 11.625 47.5625 5.09375 \nQ 40.234375 -1.421875 26.90625 -1.421875 \nQ 22.3125 -1.421875 17.546875 -0.640625 \nQ 12.796875 0.140625 7.71875 1.703125 \nL 7.71875 11.625 \nQ 12.109375 9.234375 16.796875 8.0625 \nQ 21.484375 6.890625 26.703125 6.890625 \nQ 35.15625 6.890625 40.078125 11.328125 \nQ 45.015625 15.765625 45.015625 23.390625 \nQ 45.015625 31 40.078125 35.4375 \nQ 35.15625 39.890625 26.703125 39.890625 \nQ 22.75 39.890625 18.8125 39.015625 \nQ 14.890625 38.140625 10.796875 36.28125 \nz\n\" id=\"DejaVuSans-53\"/>\n      </defs>\n      <g transform=\"translate(227.69233 392.434801)scale(0.1 -0.1)\">\n       <use xlink:href=\"#DejaVuSans-53\"/>\n      </g>\n     </g>\n    </g>\n    <g id=\"xtick_5\">\n     <g id=\"line2d_5\">\n      <g>\n       <use style=\"stroke:#000000;stroke-width:0.8;\" x=\"281.600852\" xlink:href=\"#m8a3ef6d5af\" y=\"377.836364\"/>\n      </g>\n     </g>\n     <g id=\"text_5\">\n      <!-- 6 -->\n      <defs>\n       <path d=\"M 33.015625 40.375 \nQ 26.375 40.375 22.484375 35.828125 \nQ 18.609375 31.296875 18.609375 23.390625 \nQ 18.609375 15.53125 22.484375 10.953125 \nQ 26.375 6.390625 33.015625 6.390625 \nQ 39.65625 6.390625 43.53125 10.953125 \nQ 47.40625 15.53125 47.40625 23.390625 \nQ 47.40625 31.296875 43.53125 35.828125 \nQ 39.65625 40.375 33.015625 40.375 \nz\nM 52.59375 71.296875 \nL 52.59375 62.3125 \nQ 48.875 64.0625 45.09375 64.984375 \nQ 41.3125 65.921875 37.59375 65.921875 \nQ 27.828125 65.921875 22.671875 59.328125 \nQ 17.53125 52.734375 16.796875 39.40625 \nQ 19.671875 43.65625 24.015625 45.921875 \nQ 28.375 48.1875 33.59375 48.1875 \nQ 44.578125 48.1875 50.953125 41.515625 \nQ 57.328125 34.859375 57.328125 23.390625 \nQ 57.328125 12.15625 50.6875 5.359375 \nQ 44.046875 -1.421875 33.015625 -1.421875 \nQ 20.359375 -1.421875 13.671875 8.265625 \nQ 6.984375 17.96875 6.984375 36.375 \nQ 6.984375 53.65625 15.1875 63.9375 \nQ 23.390625 74.21875 37.203125 74.21875 \nQ 40.921875 74.21875 44.703125 73.484375 \nQ 48.484375 72.75 52.59375 71.296875 \nz\n\" id=\"DejaVuSans-54\"/>\n      </defs>\n      <g transform=\"translate(278.419602 392.434801)scale(0.1 -0.1)\">\n       <use xlink:href=\"#DejaVuSans-54\"/>\n      </g>\n     </g>\n    </g>\n    <g id=\"xtick_6\">\n     <g id=\"line2d_6\">\n      <g>\n       <use style=\"stroke:#000000;stroke-width:0.8;\" x=\"332.328125\" xlink:href=\"#m8a3ef6d5af\" y=\"377.836364\"/>\n      </g>\n     </g>\n     <g id=\"text_6\">\n      <!-- 7 -->\n      <defs>\n       <path d=\"M 8.203125 72.90625 \nL 55.078125 72.90625 \nL 55.078125 68.703125 \nL 28.609375 0 \nL 18.3125 0 \nL 43.21875 64.59375 \nL 8.203125 64.59375 \nz\n\" id=\"DejaVuSans-55\"/>\n      </defs>\n      <g transform=\"translate(329.146875 392.434801)scale(0.1 -0.1)\">\n       <use xlink:href=\"#DejaVuSans-55\"/>\n      </g>\n     </g>\n    </g>\n    <g id=\"xtick_7\">\n     <g id=\"line2d_7\">\n      <g>\n       <use style=\"stroke:#000000;stroke-width:0.8;\" x=\"383.055398\" xlink:href=\"#m8a3ef6d5af\" y=\"377.836364\"/>\n      </g>\n     </g>\n     <g id=\"text_7\">\n      <!-- 8 -->\n      <defs>\n       <path d=\"M 31.78125 34.625 \nQ 24.75 34.625 20.71875 30.859375 \nQ 16.703125 27.09375 16.703125 20.515625 \nQ 16.703125 13.921875 20.71875 10.15625 \nQ 24.75 6.390625 31.78125 6.390625 \nQ 38.8125 6.390625 42.859375 10.171875 \nQ 46.921875 13.96875 46.921875 20.515625 \nQ 46.921875 27.09375 42.890625 30.859375 \nQ 38.875 34.625 31.78125 34.625 \nz\nM 21.921875 38.8125 \nQ 15.578125 40.375 12.03125 44.71875 \nQ 8.5 49.078125 8.5 55.328125 \nQ 8.5 64.0625 14.71875 69.140625 \nQ 20.953125 74.21875 31.78125 74.21875 \nQ 42.671875 74.21875 48.875 69.140625 \nQ 55.078125 64.0625 55.078125 55.328125 \nQ 55.078125 49.078125 51.53125 44.71875 \nQ 48 40.375 41.703125 38.8125 \nQ 48.828125 37.15625 52.796875 32.3125 \nQ 56.78125 27.484375 56.78125 20.515625 \nQ 56.78125 9.90625 50.3125 4.234375 \nQ 43.84375 -1.421875 31.78125 -1.421875 \nQ 19.734375 -1.421875 13.25 4.234375 \nQ 6.78125 9.90625 6.78125 20.515625 \nQ 6.78125 27.484375 10.78125 32.3125 \nQ 14.796875 37.15625 21.921875 38.8125 \nz\nM 18.3125 54.390625 \nQ 18.3125 48.734375 21.84375 45.5625 \nQ 25.390625 42.390625 31.78125 42.390625 \nQ 38.140625 42.390625 41.71875 45.5625 \nQ 45.3125 48.734375 45.3125 54.390625 \nQ 45.3125 60.0625 41.71875 63.234375 \nQ 38.140625 66.40625 31.78125 66.40625 \nQ 25.390625 66.40625 21.84375 63.234375 \nQ 18.3125 60.0625 18.3125 54.390625 \nz\n\" id=\"DejaVuSans-56\"/>\n      </defs>\n      <g transform=\"translate(379.874148 392.434801)scale(0.1 -0.1)\">\n       <use xlink:href=\"#DejaVuSans-56\"/>\n      </g>\n     </g>\n    </g>\n    <g id=\"xtick_8\">\n     <g id=\"line2d_8\">\n      <g>\n       <use style=\"stroke:#000000;stroke-width:0.8;\" x=\"433.78267\" xlink:href=\"#m8a3ef6d5af\" y=\"377.836364\"/>\n      </g>\n     </g>\n     <g id=\"text_8\">\n      <!-- 9 -->\n      <defs>\n       <path d=\"M 10.984375 1.515625 \nL 10.984375 10.5 \nQ 14.703125 8.734375 18.5 7.8125 \nQ 22.3125 6.890625 25.984375 6.890625 \nQ 35.75 6.890625 40.890625 13.453125 \nQ 46.046875 20.015625 46.78125 33.40625 \nQ 43.953125 29.203125 39.59375 26.953125 \nQ 35.25 24.703125 29.984375 24.703125 \nQ 19.046875 24.703125 12.671875 31.3125 \nQ 6.296875 37.9375 6.296875 49.421875 \nQ 6.296875 60.640625 12.9375 67.421875 \nQ 19.578125 74.21875 30.609375 74.21875 \nQ 43.265625 74.21875 49.921875 64.515625 \nQ 56.59375 54.828125 56.59375 36.375 \nQ 56.59375 19.140625 48.40625 8.859375 \nQ 40.234375 -1.421875 26.421875 -1.421875 \nQ 22.703125 -1.421875 18.890625 -0.6875 \nQ 15.09375 0.046875 10.984375 1.515625 \nz\nM 30.609375 32.421875 \nQ 37.25 32.421875 41.125 36.953125 \nQ 45.015625 41.5 45.015625 49.421875 \nQ 45.015625 57.28125 41.125 61.84375 \nQ 37.25 66.40625 30.609375 66.40625 \nQ 23.96875 66.40625 20.09375 61.84375 \nQ 16.21875 57.28125 16.21875 49.421875 \nQ 16.21875 41.5 20.09375 36.953125 \nQ 23.96875 32.421875 30.609375 32.421875 \nz\n\" id=\"DejaVuSans-57\"/>\n      </defs>\n      <g transform=\"translate(430.60142 392.434801)scale(0.1 -0.1)\">\n       <use xlink:href=\"#DejaVuSans-57\"/>\n      </g>\n     </g>\n    </g>\n    <g id=\"xtick_9\">\n     <g id=\"line2d_9\">\n      <g>\n       <use style=\"stroke:#000000;stroke-width:0.8;\" x=\"484.509943\" xlink:href=\"#m8a3ef6d5af\" y=\"377.836364\"/>\n      </g>\n     </g>\n     <g id=\"text_9\">\n      <!-- 10 -->\n      <defs>\n       <path d=\"M 12.40625 8.296875 \nL 28.515625 8.296875 \nL 28.515625 63.921875 \nL 10.984375 60.40625 \nL 10.984375 69.390625 \nL 28.421875 72.90625 \nL 38.28125 72.90625 \nL 38.28125 8.296875 \nL 54.390625 8.296875 \nL 54.390625 0 \nL 12.40625 0 \nz\n\" id=\"DejaVuSans-49\"/>\n      </defs>\n      <g transform=\"translate(478.147443 392.434801)scale(0.1 -0.1)\">\n       <use xlink:href=\"#DejaVuSans-49\"/>\n       <use x=\"63.623047\" xlink:href=\"#DejaVuSans-48\"/>\n      </g>\n     </g>\n    </g>\n    <g id=\"xtick_10\">\n     <g id=\"line2d_10\">\n      <g>\n       <use style=\"stroke:#000000;stroke-width:0.8;\" x=\"535.237216\" xlink:href=\"#m8a3ef6d5af\" y=\"377.836364\"/>\n      </g>\n     </g>\n     <g id=\"text_10\">\n      <!-- 11 -->\n      <g transform=\"translate(528.874716 392.434801)scale(0.1 -0.1)\">\n       <use xlink:href=\"#DejaVuSans-49\"/>\n       <use x=\"63.623047\" xlink:href=\"#DejaVuSans-49\"/>\n      </g>\n     </g>\n    </g>\n    <g id=\"xtick_11\">\n     <g id=\"line2d_11\">\n      <g>\n       <use style=\"stroke:#000000;stroke-width:0.8;\" x=\"585.964489\" xlink:href=\"#m8a3ef6d5af\" y=\"377.836364\"/>\n      </g>\n     </g>\n     <g id=\"text_11\">\n      <!-- 12 -->\n      <defs>\n       <path d=\"M 19.1875 8.296875 \nL 53.609375 8.296875 \nL 53.609375 0 \nL 7.328125 0 \nL 7.328125 8.296875 \nQ 12.9375 14.109375 22.625 23.890625 \nQ 32.328125 33.6875 34.8125 36.53125 \nQ 39.546875 41.84375 41.421875 45.53125 \nQ 43.3125 49.21875 43.3125 52.78125 \nQ 43.3125 58.59375 39.234375 62.25 \nQ 35.15625 65.921875 28.609375 65.921875 \nQ 23.96875 65.921875 18.8125 64.3125 \nQ 13.671875 62.703125 7.8125 59.421875 \nL 7.8125 69.390625 \nQ 13.765625 71.78125 18.9375 73 \nQ 24.125 74.21875 28.421875 74.21875 \nQ 39.75 74.21875 46.484375 68.546875 \nQ 53.21875 62.890625 53.21875 53.421875 \nQ 53.21875 48.921875 51.53125 44.890625 \nQ 49.859375 40.875 45.40625 35.40625 \nQ 44.1875 33.984375 37.640625 27.21875 \nQ 31.109375 20.453125 19.1875 8.296875 \nz\n\" id=\"DejaVuSans-50\"/>\n      </defs>\n      <g transform=\"translate(579.601989 392.434801)scale(0.1 -0.1)\">\n       <use xlink:href=\"#DejaVuSans-49\"/>\n       <use x=\"63.623047\" xlink:href=\"#DejaVuSans-50\"/>\n      </g>\n     </g>\n    </g>\n    <g id=\"xtick_12\">\n     <g id=\"line2d_12\">\n      <g>\n       <use style=\"stroke:#000000;stroke-width:0.8;\" x=\"636.691761\" xlink:href=\"#m8a3ef6d5af\" y=\"377.836364\"/>\n      </g>\n     </g>\n     <g id=\"text_12\">\n      <!-- 13 -->\n      <g transform=\"translate(630.329261 392.434801)scale(0.1 -0.1)\">\n       <use xlink:href=\"#DejaVuSans-49\"/>\n       <use x=\"63.623047\" xlink:href=\"#DejaVuSans-51\"/>\n      </g>\n     </g>\n    </g>\n    <g id=\"xtick_13\">\n     <g id=\"line2d_13\">\n      <g>\n       <use style=\"stroke:#000000;stroke-width:0.8;\" x=\"687.419034\" xlink:href=\"#m8a3ef6d5af\" y=\"377.836364\"/>\n      </g>\n     </g>\n     <g id=\"text_13\">\n      <!-- 14 -->\n      <g transform=\"translate(681.056534 392.434801)scale(0.1 -0.1)\">\n       <use xlink:href=\"#DejaVuSans-49\"/>\n       <use x=\"63.623047\" xlink:href=\"#DejaVuSans-52\"/>\n      </g>\n     </g>\n    </g>\n    <g id=\"xtick_14\">\n     <g id=\"line2d_14\">\n      <g>\n       <use style=\"stroke:#000000;stroke-width:0.8;\" x=\"738.146307\" xlink:href=\"#m8a3ef6d5af\" y=\"377.836364\"/>\n      </g>\n     </g>\n     <g id=\"text_14\">\n      <!-- 15 -->\n      <g transform=\"translate(731.783807 392.434801)scale(0.1 -0.1)\">\n       <use xlink:href=\"#DejaVuSans-49\"/>\n       <use x=\"63.623047\" xlink:href=\"#DejaVuSans-53\"/>\n      </g>\n     </g>\n    </g>\n    <g id=\"xtick_15\">\n     <g id=\"line2d_15\">\n      <g>\n       <use style=\"stroke:#000000;stroke-width:0.8;\" x=\"788.87358\" xlink:href=\"#m8a3ef6d5af\" y=\"377.836364\"/>\n      </g>\n     </g>\n     <g id=\"text_15\">\n      <!-- 16 -->\n      <g transform=\"translate(782.51108 392.434801)scale(0.1 -0.1)\">\n       <use xlink:href=\"#DejaVuSans-49\"/>\n       <use x=\"63.623047\" xlink:href=\"#DejaVuSans-54\"/>\n      </g>\n     </g>\n    </g>\n    <g id=\"xtick_16\">\n     <g id=\"line2d_16\">\n      <g>\n       <use style=\"stroke:#000000;stroke-width:0.8;\" x=\"839.600852\" xlink:href=\"#m8a3ef6d5af\" y=\"377.836364\"/>\n      </g>\n     </g>\n     <g id=\"text_16\">\n      <!-- 17 -->\n      <g transform=\"translate(833.238352 392.434801)scale(0.1 -0.1)\">\n       <use xlink:href=\"#DejaVuSans-49\"/>\n       <use x=\"63.623047\" xlink:href=\"#DejaVuSans-55\"/>\n      </g>\n     </g>\n    </g>\n    <g id=\"xtick_17\">\n     <g id=\"line2d_17\">\n      <g>\n       <use style=\"stroke:#000000;stroke-width:0.8;\" x=\"890.328125\" xlink:href=\"#m8a3ef6d5af\" y=\"377.836364\"/>\n      </g>\n     </g>\n     <g id=\"text_17\">\n      <!-- 18 -->\n      <g transform=\"translate(883.965625 392.434801)scale(0.1 -0.1)\">\n       <use xlink:href=\"#DejaVuSans-49\"/>\n       <use x=\"63.623047\" xlink:href=\"#DejaVuSans-56\"/>\n      </g>\n     </g>\n    </g>\n    <g id=\"xtick_18\">\n     <g id=\"line2d_18\">\n      <g>\n       <use style=\"stroke:#000000;stroke-width:0.8;\" x=\"941.055398\" xlink:href=\"#m8a3ef6d5af\" y=\"377.836364\"/>\n      </g>\n     </g>\n     <g id=\"text_18\">\n      <!-- 19 -->\n      <g transform=\"translate(934.692898 392.434801)scale(0.1 -0.1)\">\n       <use xlink:href=\"#DejaVuSans-49\"/>\n       <use x=\"63.623047\" xlink:href=\"#DejaVuSans-57\"/>\n      </g>\n     </g>\n    </g>\n    <g id=\"xtick_19\">\n     <g id=\"line2d_19\">\n      <g>\n       <use style=\"stroke:#000000;stroke-width:0.8;\" x=\"991.78267\" xlink:href=\"#m8a3ef6d5af\" y=\"377.836364\"/>\n      </g>\n     </g>\n     <g id=\"text_19\">\n      <!-- 20 -->\n      <g transform=\"translate(985.42017 392.434801)scale(0.1 -0.1)\">\n       <use xlink:href=\"#DejaVuSans-50\"/>\n       <use x=\"63.623047\" xlink:href=\"#DejaVuSans-48\"/>\n      </g>\n     </g>\n    </g>\n    <g id=\"xtick_20\">\n     <g id=\"line2d_20\">\n      <g>\n       <use style=\"stroke:#000000;stroke-width:0.8;\" x=\"1042.509943\" xlink:href=\"#m8a3ef6d5af\" y=\"377.836364\"/>\n      </g>\n     </g>\n     <g id=\"text_20\">\n      <!-- 21 -->\n      <g transform=\"translate(1036.147443 392.434801)scale(0.1 -0.1)\">\n       <use xlink:href=\"#DejaVuSans-50\"/>\n       <use x=\"63.623047\" xlink:href=\"#DejaVuSans-49\"/>\n      </g>\n     </g>\n    </g>\n    <g id=\"xtick_21\">\n     <g id=\"line2d_21\">\n      <g>\n       <use style=\"stroke:#000000;stroke-width:0.8;\" x=\"1093.237216\" xlink:href=\"#m8a3ef6d5af\" y=\"377.836364\"/>\n      </g>\n     </g>\n     <g id=\"text_21\">\n      <!-- 22 -->\n      <g transform=\"translate(1086.874716 392.434801)scale(0.1 -0.1)\">\n       <use xlink:href=\"#DejaVuSans-50\"/>\n       <use x=\"63.623047\" xlink:href=\"#DejaVuSans-50\"/>\n      </g>\n     </g>\n    </g>\n    <g id=\"xtick_22\">\n     <g id=\"line2d_22\">\n      <g>\n       <use style=\"stroke:#000000;stroke-width:0.8;\" x=\"1143.964489\" xlink:href=\"#m8a3ef6d5af\" y=\"377.836364\"/>\n      </g>\n     </g>\n     <g id=\"text_22\">\n      <!-- 23 -->\n      <g transform=\"translate(1137.601989 392.434801)scale(0.1 -0.1)\">\n       <use xlink:href=\"#DejaVuSans-50\"/>\n       <use x=\"63.623047\" xlink:href=\"#DejaVuSans-51\"/>\n      </g>\n     </g>\n    </g>\n    <g id=\"text_23\">\n     <!-- hour -->\n     <defs>\n      <path d=\"M 54.890625 33.015625 \nL 54.890625 0 \nL 45.90625 0 \nL 45.90625 32.71875 \nQ 45.90625 40.484375 42.875 44.328125 \nQ 39.84375 48.1875 33.796875 48.1875 \nQ 26.515625 48.1875 22.3125 43.546875 \nQ 18.109375 38.921875 18.109375 30.90625 \nL 18.109375 0 \nL 9.078125 0 \nL 9.078125 75.984375 \nL 18.109375 75.984375 \nL 18.109375 46.1875 \nQ 21.34375 51.125 25.703125 53.5625 \nQ 30.078125 56 35.796875 56 \nQ 45.21875 56 50.046875 50.171875 \nQ 54.890625 44.34375 54.890625 33.015625 \nz\n\" id=\"DejaVuSans-104\"/>\n      <path d=\"M 30.609375 48.390625 \nQ 23.390625 48.390625 19.1875 42.75 \nQ 14.984375 37.109375 14.984375 27.296875 \nQ 14.984375 17.484375 19.15625 11.84375 \nQ 23.34375 6.203125 30.609375 6.203125 \nQ 37.796875 6.203125 41.984375 11.859375 \nQ 46.1875 17.53125 46.1875 27.296875 \nQ 46.1875 37.015625 41.984375 42.703125 \nQ 37.796875 48.390625 30.609375 48.390625 \nz\nM 30.609375 56 \nQ 42.328125 56 49.015625 48.375 \nQ 55.71875 40.765625 55.71875 27.296875 \nQ 55.71875 13.875 49.015625 6.21875 \nQ 42.328125 -1.421875 30.609375 -1.421875 \nQ 18.84375 -1.421875 12.171875 6.21875 \nQ 5.515625 13.875 5.515625 27.296875 \nQ 5.515625 40.765625 12.171875 48.375 \nQ 18.84375 56 30.609375 56 \nz\n\" id=\"DejaVuSans-111\"/>\n      <path d=\"M 8.5 21.578125 \nL 8.5 54.6875 \nL 17.484375 54.6875 \nL 17.484375 21.921875 \nQ 17.484375 14.15625 20.5 10.265625 \nQ 23.53125 6.390625 29.59375 6.390625 \nQ 36.859375 6.390625 41.078125 11.03125 \nQ 45.3125 15.671875 45.3125 23.6875 \nL 45.3125 54.6875 \nL 54.296875 54.6875 \nL 54.296875 0 \nL 45.3125 0 \nL 45.3125 8.40625 \nQ 42.046875 3.421875 37.71875 1 \nQ 33.40625 -1.421875 27.6875 -1.421875 \nQ 18.265625 -1.421875 13.375 4.4375 \nQ 8.5 10.296875 8.5 21.578125 \nz\nM 31.109375 56 \nz\n\" id=\"DejaVuSans-117\"/>\n      <path d=\"M 41.109375 46.296875 \nQ 39.59375 47.171875 37.8125 47.578125 \nQ 36.03125 48 33.890625 48 \nQ 26.265625 48 22.1875 43.046875 \nQ 18.109375 38.09375 18.109375 28.8125 \nL 18.109375 0 \nL 9.078125 0 \nL 9.078125 54.6875 \nL 18.109375 54.6875 \nL 18.109375 46.1875 \nQ 20.953125 51.171875 25.484375 53.578125 \nQ 30.03125 56 36.53125 56 \nQ 37.453125 56 38.578125 55.875 \nQ 39.703125 55.765625 41.0625 55.515625 \nz\n\" id=\"DejaVuSans-114\"/>\n     </defs>\n     <g transform=\"translate(599.875781 406.112926)scale(0.1 -0.1)\">\n      <use xlink:href=\"#DejaVuSans-104\"/>\n      <use x=\"63.378906\" xlink:href=\"#DejaVuSans-111\"/>\n      <use x=\"124.560547\" xlink:href=\"#DejaVuSans-117\"/>\n      <use x=\"187.939453\" xlink:href=\"#DejaVuSans-114\"/>\n     </g>\n    </g>\n   </g>\n   <g id=\"matplotlib.axis_2\">\n    <g id=\"ytick_1\">\n     <g id=\"line2d_23\">\n      <defs>\n       <path d=\"M 0 0 \nL -3.5 0 \n\" id=\"mb463613345\" style=\"stroke:#000000;stroke-width:0.8;\"/>\n      </defs>\n      <g>\n       <use style=\"stroke:#000000;stroke-width:0.8;\" x=\"53.328125\" xlink:href=\"#mb463613345\" y=\"377.836364\"/>\n      </g>\n     </g>\n     <g id=\"text_24\">\n      <!-- 0 -->\n      <g transform=\"translate(39.965625 381.635582)scale(0.1 -0.1)\">\n       <use xlink:href=\"#DejaVuSans-48\"/>\n      </g>\n     </g>\n    </g>\n    <g id=\"ytick_2\">\n     <g id=\"line2d_24\">\n      <g>\n       <use style=\"stroke:#000000;stroke-width:0.8;\" x=\"53.328125\" xlink:href=\"#mb463613345\" y=\"322.693631\"/>\n      </g>\n     </g>\n     <g id=\"text_25\">\n      <!-- 500 -->\n      <g transform=\"translate(27.240625 326.49285)scale(0.1 -0.1)\">\n       <use xlink:href=\"#DejaVuSans-53\"/>\n       <use x=\"63.623047\" xlink:href=\"#DejaVuSans-48\"/>\n       <use x=\"127.246094\" xlink:href=\"#DejaVuSans-48\"/>\n      </g>\n     </g>\n    </g>\n    <g id=\"ytick_3\">\n     <g id=\"line2d_25\">\n      <g>\n       <use style=\"stroke:#000000;stroke-width:0.8;\" x=\"53.328125\" xlink:href=\"#mb463613345\" y=\"267.550898\"/>\n      </g>\n     </g>\n     <g id=\"text_26\">\n      <!-- 1000 -->\n      <g transform=\"translate(20.878125 271.350117)scale(0.1 -0.1)\">\n       <use xlink:href=\"#DejaVuSans-49\"/>\n       <use x=\"63.623047\" xlink:href=\"#DejaVuSans-48\"/>\n       <use x=\"127.246094\" xlink:href=\"#DejaVuSans-48\"/>\n       <use x=\"190.869141\" xlink:href=\"#DejaVuSans-48\"/>\n      </g>\n     </g>\n    </g>\n    <g id=\"ytick_4\">\n     <g id=\"line2d_26\">\n      <g>\n       <use style=\"stroke:#000000;stroke-width:0.8;\" x=\"53.328125\" xlink:href=\"#mb463613345\" y=\"212.408166\"/>\n      </g>\n     </g>\n     <g id=\"text_27\">\n      <!-- 1500 -->\n      <g transform=\"translate(20.878125 216.207384)scale(0.1 -0.1)\">\n       <use xlink:href=\"#DejaVuSans-49\"/>\n       <use x=\"63.623047\" xlink:href=\"#DejaVuSans-53\"/>\n       <use x=\"127.246094\" xlink:href=\"#DejaVuSans-48\"/>\n       <use x=\"190.869141\" xlink:href=\"#DejaVuSans-48\"/>\n      </g>\n     </g>\n    </g>\n    <g id=\"ytick_5\">\n     <g id=\"line2d_27\">\n      <g>\n       <use style=\"stroke:#000000;stroke-width:0.8;\" x=\"53.328125\" xlink:href=\"#mb463613345\" y=\"157.265433\"/>\n      </g>\n     </g>\n     <g id=\"text_28\">\n      <!-- 2000 -->\n      <g transform=\"translate(20.878125 161.064652)scale(0.1 -0.1)\">\n       <use xlink:href=\"#DejaVuSans-50\"/>\n       <use x=\"63.623047\" xlink:href=\"#DejaVuSans-48\"/>\n       <use x=\"127.246094\" xlink:href=\"#DejaVuSans-48\"/>\n       <use x=\"190.869141\" xlink:href=\"#DejaVuSans-48\"/>\n      </g>\n     </g>\n    </g>\n    <g id=\"ytick_6\">\n     <g id=\"line2d_28\">\n      <g>\n       <use style=\"stroke:#000000;stroke-width:0.8;\" x=\"53.328125\" xlink:href=\"#mb463613345\" y=\"102.1227\"/>\n      </g>\n     </g>\n     <g id=\"text_29\">\n      <!-- 2500 -->\n      <g transform=\"translate(20.878125 105.921919)scale(0.1 -0.1)\">\n       <use xlink:href=\"#DejaVuSans-50\"/>\n       <use x=\"63.623047\" xlink:href=\"#DejaVuSans-53\"/>\n       <use x=\"127.246094\" xlink:href=\"#DejaVuSans-48\"/>\n       <use x=\"190.869141\" xlink:href=\"#DejaVuSans-48\"/>\n      </g>\n     </g>\n    </g>\n    <g id=\"ytick_7\">\n     <g id=\"line2d_29\">\n      <g>\n       <use style=\"stroke:#000000;stroke-width:0.8;\" x=\"53.328125\" xlink:href=\"#mb463613345\" y=\"46.979967\"/>\n      </g>\n     </g>\n     <g id=\"text_30\">\n      <!-- 3000 -->\n      <g transform=\"translate(20.878125 50.779186)scale(0.1 -0.1)\">\n       <use xlink:href=\"#DejaVuSans-51\"/>\n       <use x=\"63.623047\" xlink:href=\"#DejaVuSans-48\"/>\n       <use x=\"127.246094\" xlink:href=\"#DejaVuSans-48\"/>\n       <use x=\"190.869141\" xlink:href=\"#DejaVuSans-48\"/>\n      </g>\n     </g>\n    </g>\n    <g id=\"text_31\">\n     <!-- boardings -->\n     <defs>\n      <path d=\"M 48.6875 27.296875 \nQ 48.6875 37.203125 44.609375 42.84375 \nQ 40.53125 48.484375 33.40625 48.484375 \nQ 26.265625 48.484375 22.1875 42.84375 \nQ 18.109375 37.203125 18.109375 27.296875 \nQ 18.109375 17.390625 22.1875 11.75 \nQ 26.265625 6.109375 33.40625 6.109375 \nQ 40.53125 6.109375 44.609375 11.75 \nQ 48.6875 17.390625 48.6875 27.296875 \nz\nM 18.109375 46.390625 \nQ 20.953125 51.265625 25.265625 53.625 \nQ 29.59375 56 35.59375 56 \nQ 45.5625 56 51.78125 48.09375 \nQ 58.015625 40.1875 58.015625 27.296875 \nQ 58.015625 14.40625 51.78125 6.484375 \nQ 45.5625 -1.421875 35.59375 -1.421875 \nQ 29.59375 -1.421875 25.265625 0.953125 \nQ 20.953125 3.328125 18.109375 8.203125 \nL 18.109375 0 \nL 9.078125 0 \nL 9.078125 75.984375 \nL 18.109375 75.984375 \nz\n\" id=\"DejaVuSans-98\"/>\n      <path d=\"M 34.28125 27.484375 \nQ 23.390625 27.484375 19.1875 25 \nQ 14.984375 22.515625 14.984375 16.5 \nQ 14.984375 11.71875 18.140625 8.90625 \nQ 21.296875 6.109375 26.703125 6.109375 \nQ 34.1875 6.109375 38.703125 11.40625 \nQ 43.21875 16.703125 43.21875 25.484375 \nL 43.21875 27.484375 \nz\nM 52.203125 31.203125 \nL 52.203125 0 \nL 43.21875 0 \nL 43.21875 8.296875 \nQ 40.140625 3.328125 35.546875 0.953125 \nQ 30.953125 -1.421875 24.3125 -1.421875 \nQ 15.921875 -1.421875 10.953125 3.296875 \nQ 6 8.015625 6 15.921875 \nQ 6 25.140625 12.171875 29.828125 \nQ 18.359375 34.515625 30.609375 34.515625 \nL 43.21875 34.515625 \nL 43.21875 35.40625 \nQ 43.21875 41.609375 39.140625 45 \nQ 35.0625 48.390625 27.6875 48.390625 \nQ 23 48.390625 18.546875 47.265625 \nQ 14.109375 46.140625 10.015625 43.890625 \nL 10.015625 52.203125 \nQ 14.9375 54.109375 19.578125 55.046875 \nQ 24.21875 56 28.609375 56 \nQ 40.484375 56 46.34375 49.84375 \nQ 52.203125 43.703125 52.203125 31.203125 \nz\n\" id=\"DejaVuSans-97\"/>\n      <path d=\"M 45.40625 46.390625 \nL 45.40625 75.984375 \nL 54.390625 75.984375 \nL 54.390625 0 \nL 45.40625 0 \nL 45.40625 8.203125 \nQ 42.578125 3.328125 38.25 0.953125 \nQ 33.9375 -1.421875 27.875 -1.421875 \nQ 17.96875 -1.421875 11.734375 6.484375 \nQ 5.515625 14.40625 5.515625 27.296875 \nQ 5.515625 40.1875 11.734375 48.09375 \nQ 17.96875 56 27.875 56 \nQ 33.9375 56 38.25 53.625 \nQ 42.578125 51.265625 45.40625 46.390625 \nz\nM 14.796875 27.296875 \nQ 14.796875 17.390625 18.875 11.75 \nQ 22.953125 6.109375 30.078125 6.109375 \nQ 37.203125 6.109375 41.296875 11.75 \nQ 45.40625 17.390625 45.40625 27.296875 \nQ 45.40625 37.203125 41.296875 42.84375 \nQ 37.203125 48.484375 30.078125 48.484375 \nQ 22.953125 48.484375 18.875 42.84375 \nQ 14.796875 37.203125 14.796875 27.296875 \nz\n\" id=\"DejaVuSans-100\"/>\n      <path d=\"M 9.421875 54.6875 \nL 18.40625 54.6875 \nL 18.40625 0 \nL 9.421875 0 \nz\nM 9.421875 75.984375 \nL 18.40625 75.984375 \nL 18.40625 64.59375 \nL 9.421875 64.59375 \nz\n\" id=\"DejaVuSans-105\"/>\n      <path d=\"M 54.890625 33.015625 \nL 54.890625 0 \nL 45.90625 0 \nL 45.90625 32.71875 \nQ 45.90625 40.484375 42.875 44.328125 \nQ 39.84375 48.1875 33.796875 48.1875 \nQ 26.515625 48.1875 22.3125 43.546875 \nQ 18.109375 38.921875 18.109375 30.90625 \nL 18.109375 0 \nL 9.078125 0 \nL 9.078125 54.6875 \nL 18.109375 54.6875 \nL 18.109375 46.1875 \nQ 21.34375 51.125 25.703125 53.5625 \nQ 30.078125 56 35.796875 56 \nQ 45.21875 56 50.046875 50.171875 \nQ 54.890625 44.34375 54.890625 33.015625 \nz\n\" id=\"DejaVuSans-110\"/>\n      <path d=\"M 45.40625 27.984375 \nQ 45.40625 37.75 41.375 43.109375 \nQ 37.359375 48.484375 30.078125 48.484375 \nQ 22.859375 48.484375 18.828125 43.109375 \nQ 14.796875 37.75 14.796875 27.984375 \nQ 14.796875 18.265625 18.828125 12.890625 \nQ 22.859375 7.515625 30.078125 7.515625 \nQ 37.359375 7.515625 41.375 12.890625 \nQ 45.40625 18.265625 45.40625 27.984375 \nz\nM 54.390625 6.78125 \nQ 54.390625 -7.171875 48.1875 -13.984375 \nQ 42 -20.796875 29.203125 -20.796875 \nQ 24.46875 -20.796875 20.265625 -20.09375 \nQ 16.0625 -19.390625 12.109375 -17.921875 \nL 12.109375 -9.1875 \nQ 16.0625 -11.328125 19.921875 -12.34375 \nQ 23.78125 -13.375 27.78125 -13.375 \nQ 36.625 -13.375 41.015625 -8.765625 \nQ 45.40625 -4.15625 45.40625 5.171875 \nL 45.40625 9.625 \nQ 42.625 4.78125 38.28125 2.390625 \nQ 33.9375 0 27.875 0 \nQ 17.828125 0 11.671875 7.65625 \nQ 5.515625 15.328125 5.515625 27.984375 \nQ 5.515625 40.671875 11.671875 48.328125 \nQ 17.828125 56 27.875 56 \nQ 33.9375 56 38.28125 53.609375 \nQ 42.625 51.21875 45.40625 46.390625 \nL 45.40625 54.6875 \nL 54.390625 54.6875 \nz\n\" id=\"DejaVuSans-103\"/>\n      <path d=\"M 44.28125 53.078125 \nL 44.28125 44.578125 \nQ 40.484375 46.53125 36.375 47.5 \nQ 32.28125 48.484375 27.875 48.484375 \nQ 21.1875 48.484375 17.84375 46.4375 \nQ 14.5 44.390625 14.5 40.28125 \nQ 14.5 37.15625 16.890625 35.375 \nQ 19.28125 33.59375 26.515625 31.984375 \nL 29.59375 31.296875 \nQ 39.15625 29.25 43.1875 25.515625 \nQ 47.21875 21.78125 47.21875 15.09375 \nQ 47.21875 7.46875 41.1875 3.015625 \nQ 35.15625 -1.421875 24.609375 -1.421875 \nQ 20.21875 -1.421875 15.453125 -0.5625 \nQ 10.6875 0.296875 5.421875 2 \nL 5.421875 11.28125 \nQ 10.40625 8.6875 15.234375 7.390625 \nQ 20.0625 6.109375 24.8125 6.109375 \nQ 31.15625 6.109375 34.5625 8.28125 \nQ 37.984375 10.453125 37.984375 14.40625 \nQ 37.984375 18.0625 35.515625 20.015625 \nQ 33.0625 21.96875 24.703125 23.78125 \nL 21.578125 24.515625 \nQ 13.234375 26.265625 9.515625 29.90625 \nQ 5.8125 33.546875 5.8125 39.890625 \nQ 5.8125 47.609375 11.28125 51.796875 \nQ 16.75 56 26.8125 56 \nQ 31.78125 56 36.171875 55.265625 \nQ 40.578125 54.546875 44.28125 53.078125 \nz\n\" id=\"DejaVuSans-115\"/>\n     </defs>\n     <g transform=\"translate(14.798437 217.381463)rotate(-90)scale(0.1 -0.1)\">\n      <use xlink:href=\"#DejaVuSans-98\"/>\n      <use x=\"63.476562\" xlink:href=\"#DejaVuSans-111\"/>\n      <use x=\"124.658203\" xlink:href=\"#DejaVuSans-97\"/>\n      <use x=\"185.9375\" xlink:href=\"#DejaVuSans-114\"/>\n      <use x=\"227.035156\" xlink:href=\"#DejaVuSans-100\"/>\n      <use x=\"290.511719\" xlink:href=\"#DejaVuSans-105\"/>\n      <use x=\"318.294922\" xlink:href=\"#DejaVuSans-110\"/>\n      <use x=\"381.673828\" xlink:href=\"#DejaVuSans-103\"/>\n      <use x=\"445.150391\" xlink:href=\"#DejaVuSans-115\"/>\n     </g>\n    </g>\n   </g>\n   <g id=\"patch_25\">\n    <path d=\"M 53.328125 377.836364 \nL 53.328125 7.2 \n\" style=\"fill:none;stroke:#000000;stroke-linecap:square;stroke-linejoin:miter;stroke-width:0.8;\"/>\n   </g>\n   <g id=\"patch_26\">\n    <path d=\"M 1169.328125 377.836364 \nL 1169.328125 7.2 \n\" style=\"fill:none;stroke:#000000;stroke-linecap:square;stroke-linejoin:miter;stroke-width:0.8;\"/>\n   </g>\n   <g id=\"patch_27\">\n    <path d=\"M 53.328125 377.836364 \nL 1169.328125 377.836364 \n\" style=\"fill:none;stroke:#000000;stroke-linecap:square;stroke-linejoin:miter;stroke-width:0.8;\"/>\n   </g>\n   <g id=\"patch_28\">\n    <path d=\"M 53.328125 7.2 \nL 1169.328125 7.2 \n\" style=\"fill:none;stroke:#000000;stroke-linecap:square;stroke-linejoin:miter;stroke-width:0.8;\"/>\n   </g>\n  </g>\n  <g id=\"axes_2\">\n   <g id=\"patch_29\">\n    <path d=\"M 53.328125 822.6 \nL 1169.328125 822.6 \nL 1169.328125 451.963636 \nL 53.328125 451.963636 \nz\n\" style=\"fill:#ffffff;\"/>\n   </g>\n   <g id=\"patch_30\">\n    <path clip-path=\"url(#p1bd9553da2)\" d=\"M 90.528125 822.6 \nL 388.128125 822.6 \nL 388.128125 469.612987 \nL 90.528125 469.612987 \nz\n\" style=\"fill:#3274a1;\"/>\n   </g>\n   <g id=\"patch_31\">\n    <path clip-path=\"url(#p1bd9553da2)\" d=\"M 462.528125 822.6 \nL 760.128125 822.6 \nL 760.128125 618.462689 \nL 462.528125 618.462689 \nz\n\" style=\"fill:#e1812c;\"/>\n   </g>\n   <g id=\"patch_32\">\n    <path clip-path=\"url(#p1bd9553da2)\" d=\"M 834.528125 822.6 \nL 1132.128125 822.6 \nL 1132.128125 741.684036 \nL 834.528125 741.684036 \nz\n\" style=\"fill:#3a923a;\"/>\n   </g>\n   <g id=\"matplotlib.axis_3\">\n    <g id=\"xtick_23\">\n     <g id=\"line2d_30\">\n      <g>\n       <use style=\"stroke:#000000;stroke-width:0.8;\" x=\"239.328125\" xlink:href=\"#m8a3ef6d5af\" y=\"822.6\"/>\n      </g>\n     </g>\n     <g id=\"text_32\">\n      <!-- 46 -->\n      <g transform=\"translate(232.965625 837.198437)scale(0.1 -0.1)\">\n       <use xlink:href=\"#DejaVuSans-52\"/>\n       <use x=\"63.623047\" xlink:href=\"#DejaVuSans-54\"/>\n      </g>\n     </g>\n    </g>\n    <g id=\"xtick_24\">\n     <g id=\"line2d_31\">\n      <g>\n       <use style=\"stroke:#000000;stroke-width:0.8;\" x=\"611.328125\" xlink:href=\"#m8a3ef6d5af\" y=\"822.6\"/>\n      </g>\n     </g>\n     <g id=\"text_33\">\n      <!-- 55 -->\n      <g transform=\"translate(604.965625 837.198437)scale(0.1 -0.1)\">\n       <use xlink:href=\"#DejaVuSans-53\"/>\n       <use x=\"63.623047\" xlink:href=\"#DejaVuSans-53\"/>\n      </g>\n     </g>\n    </g>\n    <g id=\"xtick_25\">\n     <g id=\"line2d_32\">\n      <g>\n       <use style=\"stroke:#000000;stroke-width:0.8;\" x=\"983.328125\" xlink:href=\"#m8a3ef6d5af\" y=\"822.6\"/>\n      </g>\n     </g>\n     <g id=\"text_34\">\n      <!-- 100 -->\n      <g transform=\"translate(973.784375 837.198437)scale(0.1 -0.1)\">\n       <use xlink:href=\"#DejaVuSans-49\"/>\n       <use x=\"63.623047\" xlink:href=\"#DejaVuSans-48\"/>\n       <use x=\"127.246094\" xlink:href=\"#DejaVuSans-48\"/>\n      </g>\n     </g>\n    </g>\n    <g id=\"text_35\">\n     <!-- route_id -->\n     <defs>\n      <path d=\"M 18.3125 70.21875 \nL 18.3125 54.6875 \nL 36.8125 54.6875 \nL 36.8125 47.703125 \nL 18.3125 47.703125 \nL 18.3125 18.015625 \nQ 18.3125 11.328125 20.140625 9.421875 \nQ 21.96875 7.515625 27.59375 7.515625 \nL 36.8125 7.515625 \nL 36.8125 0 \nL 27.59375 0 \nQ 17.1875 0 13.234375 3.875 \nQ 9.28125 7.765625 9.28125 18.015625 \nL 9.28125 47.703125 \nL 2.6875 47.703125 \nL 2.6875 54.6875 \nL 9.28125 54.6875 \nL 9.28125 70.21875 \nz\n\" id=\"DejaVuSans-116\"/>\n      <path d=\"M 56.203125 29.59375 \nL 56.203125 25.203125 \nL 14.890625 25.203125 \nQ 15.484375 15.921875 20.484375 11.0625 \nQ 25.484375 6.203125 34.421875 6.203125 \nQ 39.59375 6.203125 44.453125 7.46875 \nQ 49.3125 8.734375 54.109375 11.28125 \nL 54.109375 2.78125 \nQ 49.265625 0.734375 44.1875 -0.34375 \nQ 39.109375 -1.421875 33.890625 -1.421875 \nQ 20.796875 -1.421875 13.15625 6.1875 \nQ 5.515625 13.8125 5.515625 26.8125 \nQ 5.515625 40.234375 12.765625 48.109375 \nQ 20.015625 56 32.328125 56 \nQ 43.359375 56 49.78125 48.890625 \nQ 56.203125 41.796875 56.203125 29.59375 \nz\nM 47.21875 32.234375 \nQ 47.125 39.59375 43.09375 43.984375 \nQ 39.0625 48.390625 32.421875 48.390625 \nQ 24.90625 48.390625 20.390625 44.140625 \nQ 15.875 39.890625 15.1875 32.171875 \nz\n\" id=\"DejaVuSans-101\"/>\n      <path d=\"M 50.984375 -16.609375 \nL 50.984375 -23.578125 \nL -0.984375 -23.578125 \nL -0.984375 -16.609375 \nz\n\" id=\"DejaVuSans-95\"/>\n     </defs>\n     <g transform=\"translate(590.946094 850.876562)scale(0.1 -0.1)\">\n      <use xlink:href=\"#DejaVuSans-114\"/>\n      <use x=\"41.082031\" xlink:href=\"#DejaVuSans-111\"/>\n      <use x=\"102.263672\" xlink:href=\"#DejaVuSans-117\"/>\n      <use x=\"165.642578\" xlink:href=\"#DejaVuSans-116\"/>\n      <use x=\"204.851562\" xlink:href=\"#DejaVuSans-101\"/>\n      <use x=\"266.375\" xlink:href=\"#DejaVuSans-95\"/>\n      <use x=\"316.375\" xlink:href=\"#DejaVuSans-105\"/>\n      <use x=\"344.158203\" xlink:href=\"#DejaVuSans-100\"/>\n     </g>\n    </g>\n   </g>\n   <g id=\"matplotlib.axis_4\">\n    <g id=\"ytick_8\">\n     <g id=\"line2d_33\">\n      <g>\n       <use style=\"stroke:#000000;stroke-width:0.8;\" x=\"53.328125\" xlink:href=\"#mb463613345\" y=\"822.6\"/>\n      </g>\n     </g>\n     <g id=\"text_36\">\n      <!-- 0 -->\n      <g transform=\"translate(39.965625 826.399219)scale(0.1 -0.1)\">\n       <use xlink:href=\"#DejaVuSans-48\"/>\n      </g>\n     </g>\n    </g>\n    <g id=\"ytick_9\">\n     <g id=\"line2d_34\">\n      <g>\n       <use style=\"stroke:#000000;stroke-width:0.8;\" x=\"53.328125\" xlink:href=\"#mb463613345\" y=\"752.020074\"/>\n      </g>\n     </g>\n     <g id=\"text_37\">\n      <!-- 500 -->\n      <g transform=\"translate(27.240625 755.819293)scale(0.1 -0.1)\">\n       <use xlink:href=\"#DejaVuSans-53\"/>\n       <use x=\"63.623047\" xlink:href=\"#DejaVuSans-48\"/>\n       <use x=\"127.246094\" xlink:href=\"#DejaVuSans-48\"/>\n      </g>\n     </g>\n    </g>\n    <g id=\"ytick_10\">\n     <g id=\"line2d_35\">\n      <g>\n       <use style=\"stroke:#000000;stroke-width:0.8;\" x=\"53.328125\" xlink:href=\"#mb463613345\" y=\"681.440149\"/>\n      </g>\n     </g>\n     <g id=\"text_38\">\n      <!-- 1000 -->\n      <g transform=\"translate(20.878125 685.239367)scale(0.1 -0.1)\">\n       <use xlink:href=\"#DejaVuSans-49\"/>\n       <use x=\"63.623047\" xlink:href=\"#DejaVuSans-48\"/>\n       <use x=\"127.246094\" xlink:href=\"#DejaVuSans-48\"/>\n       <use x=\"190.869141\" xlink:href=\"#DejaVuSans-48\"/>\n      </g>\n     </g>\n    </g>\n    <g id=\"ytick_11\">\n     <g id=\"line2d_36\">\n      <g>\n       <use style=\"stroke:#000000;stroke-width:0.8;\" x=\"53.328125\" xlink:href=\"#mb463613345\" y=\"610.860223\"/>\n      </g>\n     </g>\n     <g id=\"text_39\">\n      <!-- 1500 -->\n      <g transform=\"translate(20.878125 614.659442)scale(0.1 -0.1)\">\n       <use xlink:href=\"#DejaVuSans-49\"/>\n       <use x=\"63.623047\" xlink:href=\"#DejaVuSans-53\"/>\n       <use x=\"127.246094\" xlink:href=\"#DejaVuSans-48\"/>\n       <use x=\"190.869141\" xlink:href=\"#DejaVuSans-48\"/>\n      </g>\n     </g>\n    </g>\n    <g id=\"ytick_12\">\n     <g id=\"line2d_37\">\n      <g>\n       <use style=\"stroke:#000000;stroke-width:0.8;\" x=\"53.328125\" xlink:href=\"#mb463613345\" y=\"540.280297\"/>\n      </g>\n     </g>\n     <g id=\"text_40\">\n      <!-- 2000 -->\n      <g transform=\"translate(20.878125 544.079516)scale(0.1 -0.1)\">\n       <use xlink:href=\"#DejaVuSans-50\"/>\n       <use x=\"63.623047\" xlink:href=\"#DejaVuSans-48\"/>\n       <use x=\"127.246094\" xlink:href=\"#DejaVuSans-48\"/>\n       <use x=\"190.869141\" xlink:href=\"#DejaVuSans-48\"/>\n      </g>\n     </g>\n    </g>\n    <g id=\"ytick_13\">\n     <g id=\"line2d_38\">\n      <g>\n       <use style=\"stroke:#000000;stroke-width:0.8;\" x=\"53.328125\" xlink:href=\"#mb463613345\" y=\"469.700372\"/>\n      </g>\n     </g>\n     <g id=\"text_41\">\n      <!-- 2500 -->\n      <g transform=\"translate(20.878125 473.49959)scale(0.1 -0.1)\">\n       <use xlink:href=\"#DejaVuSans-50\"/>\n       <use x=\"63.623047\" xlink:href=\"#DejaVuSans-53\"/>\n       <use x=\"127.246094\" xlink:href=\"#DejaVuSans-48\"/>\n       <use x=\"190.869141\" xlink:href=\"#DejaVuSans-48\"/>\n      </g>\n     </g>\n    </g>\n    <g id=\"text_42\">\n     <!-- boardings -->\n     <g transform=\"translate(14.798437 662.145099)rotate(-90)scale(0.1 -0.1)\">\n      <use xlink:href=\"#DejaVuSans-98\"/>\n      <use x=\"63.476562\" xlink:href=\"#DejaVuSans-111\"/>\n      <use x=\"124.658203\" xlink:href=\"#DejaVuSans-97\"/>\n      <use x=\"185.9375\" xlink:href=\"#DejaVuSans-114\"/>\n      <use x=\"227.035156\" xlink:href=\"#DejaVuSans-100\"/>\n      <use x=\"290.511719\" xlink:href=\"#DejaVuSans-105\"/>\n      <use x=\"318.294922\" xlink:href=\"#DejaVuSans-110\"/>\n      <use x=\"381.673828\" xlink:href=\"#DejaVuSans-103\"/>\n      <use x=\"445.150391\" xlink:href=\"#DejaVuSans-115\"/>\n     </g>\n    </g>\n   </g>\n   <g id=\"patch_33\">\n    <path d=\"M 53.328125 822.6 \nL 53.328125 451.963636 \n\" style=\"fill:none;stroke:#000000;stroke-linecap:square;stroke-linejoin:miter;stroke-width:0.8;\"/>\n   </g>\n   <g id=\"patch_34\">\n    <path d=\"M 1169.328125 822.6 \nL 1169.328125 451.963636 \n\" style=\"fill:none;stroke:#000000;stroke-linecap:square;stroke-linejoin:miter;stroke-width:0.8;\"/>\n   </g>\n   <g id=\"patch_35\">\n    <path d=\"M 53.328125 822.6 \nL 1169.328125 822.6 \n\" style=\"fill:none;stroke:#000000;stroke-linecap:square;stroke-linejoin:miter;stroke-width:0.8;\"/>\n   </g>\n   <g id=\"patch_36\">\n    <path d=\"M 53.328125 451.963636 \nL 1169.328125 451.963636 \n\" style=\"fill:none;stroke:#000000;stroke-linecap:square;stroke-linejoin:miter;stroke-width:0.8;\"/>\n   </g>\n  </g>\n </g>\n <defs>\n  <clipPath id=\"p76fa20b2cb\">\n   <rect height=\"370.636364\" width=\"1116\" x=\"53.328125\" y=\"7.2\"/>\n  </clipPath>\n  <clipPath id=\"p1bd9553da2\">\n   <rect height=\"370.636364\" width=\"1116\" x=\"53.328125\" y=\"451.963636\"/>\n  </clipPath>\n </defs>\n</svg>\n",
      "image/png": "[encoded data removed]"
     },
     "metadata": {
      "needs_background": "light"
     }
    }
   ],
   "source": [
    "#TOD\n",
    "\n",
    "todroutes=round(janfeb.groupby(['hour','route_id'])[['boardings','alightings']].agg('sum').reset_index(),2)\n",
    "todroutes=todroutes.nlargest(len(todroutes),'boardings')\n",
    "todroutes # to_csv to make record\n",
    "\n",
    "fig, axes = plt.subplots(2, figsize=(20,15))\n",
    "axes[0]=sns.barplot(ax=axes[0],data=todroutes, x='hour',y=\"boardings\",ci=None)\n",
    "axes[1]=sns.barplot(ax=axes[1],data=todroutes, x='route_id',y='boardings',ci=None)\n",
    "plt.show()"
   ]
  },
  {
   "cell_type": "code",
   "execution_count": 93,
   "id": "quarterly-wildlife",
   "metadata": {},
   "outputs": [
    {
     "data": {
      "text/html": [
       "<div>\n",
       "<style scoped>\n",
       "    .dataframe tbody tr th:only-of-type {\n",
       "        vertical-align: middle;\n",
       "    }\n",
       "\n",
       "    .dataframe tbody tr th {\n",
       "        vertical-align: top;\n",
       "    }\n",
       "\n",
       "    .dataframe thead th {\n",
       "        text-align: right;\n",
       "    }\n",
       "</style>\n",
       "<table border=\"1\" class=\"dataframe\">\n",
       "  <thead>\n",
       "    <tr style=\"text-align: right;\">\n",
       "      <th></th>\n",
       "      <th>hour</th>\n",
       "      <th>route</th>\n",
       "      <th>boardings</th>\n",
       "      <th>alightings</th>\n",
       "    </tr>\n",
       "  </thead>\n",
       "  <tbody>\n",
       "    <tr>\n",
       "      <th>36</th>\n",
       "      <td>8</td>\n",
       "      <td>Route 16</td>\n",
       "      <td>3422</td>\n",
       "      <td>3415</td>\n",
       "    </tr>\n",
       "    <tr>\n",
       "      <th>25</th>\n",
       "      <td>7</td>\n",
       "      <td>Route 16</td>\n",
       "      <td>3197</td>\n",
       "      <td>3032</td>\n",
       "    </tr>\n",
       "    <tr>\n",
       "      <th>135</th>\n",
       "      <td>17</td>\n",
       "      <td>Route 16</td>\n",
       "      <td>3004</td>\n",
       "      <td>2957</td>\n",
       "    </tr>\n",
       "    <tr>\n",
       "      <th>124</th>\n",
       "      <td>16</td>\n",
       "      <td>Route 16</td>\n",
       "      <td>3003</td>\n",
       "      <td>3109</td>\n",
       "    </tr>\n",
       "    <tr>\n",
       "      <th>118</th>\n",
       "      <td>15</td>\n",
       "      <td>Route 32</td>\n",
       "      <td>2673</td>\n",
       "      <td>2465</td>\n",
       "    </tr>\n",
       "    <tr>\n",
       "      <th>...</th>\n",
       "      <td>...</td>\n",
       "      <td>...</td>\n",
       "      <td>...</td>\n",
       "      <td>...</td>\n",
       "    </tr>\n",
       "    <tr>\n",
       "      <th>172</th>\n",
       "      <td>20</td>\n",
       "      <td>Route 34</td>\n",
       "      <td>1</td>\n",
       "      <td>2</td>\n",
       "    </tr>\n",
       "    <tr>\n",
       "      <th>0</th>\n",
       "      <td>4</td>\n",
       "      <td>Route 17 (Route 1 Ride)</td>\n",
       "      <td>1</td>\n",
       "      <td>2</td>\n",
       "    </tr>\n",
       "    <tr>\n",
       "      <th>12</th>\n",
       "      <td>5</td>\n",
       "      <td>Route 36</td>\n",
       "      <td>1</td>\n",
       "      <td>0</td>\n",
       "    </tr>\n",
       "    <tr>\n",
       "      <th>1</th>\n",
       "      <td>4</td>\n",
       "      <td>Route 33</td>\n",
       "      <td>0</td>\n",
       "      <td>5</td>\n",
       "    </tr>\n",
       "    <tr>\n",
       "      <th>175</th>\n",
       "      <td>21</td>\n",
       "      <td>Route 33</td>\n",
       "      <td>0</td>\n",
       "      <td>2</td>\n",
       "    </tr>\n",
       "  </tbody>\n",
       "</table>\n",
       "<p>176 rows × 4 columns</p>\n",
       "</div>"
      ],
      "text/plain": [
       "     hour                    route  boardings  alightings\n",
       "36      8                 Route 16       3422        3415\n",
       "25      7                 Route 16       3197        3032\n",
       "135    17                 Route 16       3004        2957\n",
       "124    16                 Route 16       3003        3109\n",
       "118    15                 Route 32       2673        2465\n",
       "..    ...                      ...        ...         ...\n",
       "172    20                 Route 34          1           2\n",
       "0       4  Route 17 (Route 1 Ride)          1           2\n",
       "12      5                 Route 36          1           0\n",
       "1       4                 Route 33          0           5\n",
       "175    21                 Route 33          0           2\n",
       "\n",
       "[176 rows x 4 columns]"
      ]
     },
     "execution_count": 93,
     "metadata": {},
     "output_type": "execute_result"
    }
   ],
   "source": [
    "todroutes.nlargest(len(todroutes),'boardings') # to_csv to make record\n",
    "todroutes.nlargest(len(todroutes),'alightings') # to_csv to make record\n"
   ]
  },
  {
   "cell_type": "code",
   "execution_count": 40,
   "id": "improved-diana",
   "metadata": {},
   "outputs": [
    {
     "output_type": "execute_result",
     "data": {
      "text/plain": [
       "                                   stops  boardings\n",
       "116    ROCKVILLE STATION  & BAY A - WEST     8623.0\n",
       "135  SHADY GROVE STATION  & BAY C - EAST     5132.0\n",
       "40    GERMANTOWN TRANSIT CENTER  & BAY B     5120.0\n",
       "144    TWINBROOK STATION  & BAY A - WEST     5103.0\n",
       "55       MEDICAL CENTER STATION  & BAY D     4733.0\n",
       "..                                   ...        ...\n",
       "92       ROCKVILLE PIKE & LOCUST HILL RD        3.0\n",
       "0                CHAPMAN AVE & BOUIC AVE        3.0\n",
       "143        TUCKERMAN LN & ROCKVILLE PIKE        2.0\n",
       "43                  HUNGERFORD DR & @700        1.0\n",
       "105            ROCKVILLE PIKE & ROSE AVE        1.0\n",
       "\n",
       "[147 rows x 2 columns]"
      ],
      "text/html": "<div>\n<style scoped>\n    .dataframe tbody tr th:only-of-type {\n        vertical-align: middle;\n    }\n\n    .dataframe tbody tr th {\n        vertical-align: top;\n    }\n\n    .dataframe thead th {\n        text-align: right;\n    }\n</style>\n<table border=\"1\" class=\"dataframe\">\n  <thead>\n    <tr style=\"text-align: right;\">\n      <th></th>\n      <th>stops</th>\n      <th>boardings</th>\n    </tr>\n  </thead>\n  <tbody>\n    <tr>\n      <th>116</th>\n      <td>ROCKVILLE STATION  &amp; BAY A - WEST</td>\n      <td>8623.0</td>\n    </tr>\n    <tr>\n      <th>135</th>\n      <td>SHADY GROVE STATION  &amp; BAY C - EAST</td>\n      <td>5132.0</td>\n    </tr>\n    <tr>\n      <th>40</th>\n      <td>GERMANTOWN TRANSIT CENTER  &amp; BAY B</td>\n      <td>5120.0</td>\n    </tr>\n    <tr>\n      <th>144</th>\n      <td>TWINBROOK STATION  &amp; BAY A - WEST</td>\n      <td>5103.0</td>\n    </tr>\n    <tr>\n      <th>55</th>\n      <td>MEDICAL CENTER STATION  &amp; BAY D</td>\n      <td>4733.0</td>\n    </tr>\n    <tr>\n      <th>...</th>\n      <td>...</td>\n      <td>...</td>\n    </tr>\n    <tr>\n      <th>92</th>\n      <td>ROCKVILLE PIKE &amp; LOCUST HILL RD</td>\n      <td>3.0</td>\n    </tr>\n    <tr>\n      <th>0</th>\n      <td>CHAPMAN AVE &amp; BOUIC AVE</td>\n      <td>3.0</td>\n    </tr>\n    <tr>\n      <th>143</th>\n      <td>TUCKERMAN LN &amp; ROCKVILLE PIKE</td>\n      <td>2.0</td>\n    </tr>\n    <tr>\n      <th>43</th>\n      <td>HUNGERFORD DR &amp; @700</td>\n      <td>1.0</td>\n    </tr>\n    <tr>\n      <th>105</th>\n      <td>ROCKVILLE PIKE &amp; ROSE AVE</td>\n      <td>1.0</td>\n    </tr>\n  </tbody>\n</table>\n<p>147 rows × 2 columns</p>\n</div>"
     },
     "metadata": {},
     "execution_count": 40
    }
   ],
   "source": [
    "# BOARDING LOCATIONS\n",
    "\n",
    "boardings=round(janfeb.groupby('stops')['boardings'].agg('sum').reset_index(),2)\n",
    "boardingsordered=boardings.nlargest(len(boardings),'boardings')\n",
    "boardingsordered # to_csv to make record"
   ]
  },
  {
   "cell_type": "code",
   "execution_count": 41,
   "id": "needed-attention",
   "metadata": {},
   "outputs": [
    {
     "output_type": "execute_result",
     "data": {
      "text/plain": [
       "                                   stops  alightings\n",
       "116    ROCKVILLE STATION  & BAY A - WEST      8096.0\n",
       "40    GERMANTOWN TRANSIT CENTER  & BAY B      5095.0\n",
       "144    TWINBROOK STATION  & BAY A - WEST      4558.0\n",
       "48   LAKEFOREST TRANSIT CENTER  & ODENDH      4284.0\n",
       "55       MEDICAL CENTER STATION  & BAY D      4174.0\n",
       "..                                   ...         ...\n",
       "15                    FREDERICK RD & @15        16.0\n",
       "87    ROCKVILLE PIKE & GROSVENOR STATION        15.0\n",
       "92       ROCKVILLE PIKE & LOCUST HILL RD         8.0\n",
       "105            ROCKVILLE PIKE & ROSE AVE         7.0\n",
       "43                  HUNGERFORD DR & @700         3.0\n",
       "\n",
       "[147 rows x 2 columns]"
      ],
      "text/html": "<div>\n<style scoped>\n    .dataframe tbody tr th:only-of-type {\n        vertical-align: middle;\n    }\n\n    .dataframe tbody tr th {\n        vertical-align: top;\n    }\n\n    .dataframe thead th {\n        text-align: right;\n    }\n</style>\n<table border=\"1\" class=\"dataframe\">\n  <thead>\n    <tr style=\"text-align: right;\">\n      <th></th>\n      <th>stops</th>\n      <th>alightings</th>\n    </tr>\n  </thead>\n  <tbody>\n    <tr>\n      <th>116</th>\n      <td>ROCKVILLE STATION  &amp; BAY A - WEST</td>\n      <td>8096.0</td>\n    </tr>\n    <tr>\n      <th>40</th>\n      <td>GERMANTOWN TRANSIT CENTER  &amp; BAY B</td>\n      <td>5095.0</td>\n    </tr>\n    <tr>\n      <th>144</th>\n      <td>TWINBROOK STATION  &amp; BAY A - WEST</td>\n      <td>4558.0</td>\n    </tr>\n    <tr>\n      <th>48</th>\n      <td>LAKEFOREST TRANSIT CENTER  &amp; ODENDH</td>\n      <td>4284.0</td>\n    </tr>\n    <tr>\n      <th>55</th>\n      <td>MEDICAL CENTER STATION  &amp; BAY D</td>\n      <td>4174.0</td>\n    </tr>\n    <tr>\n      <th>...</th>\n      <td>...</td>\n      <td>...</td>\n    </tr>\n    <tr>\n      <th>15</th>\n      <td>FREDERICK RD &amp; @15</td>\n      <td>16.0</td>\n    </tr>\n    <tr>\n      <th>87</th>\n      <td>ROCKVILLE PIKE &amp; GROSVENOR STATION</td>\n      <td>15.0</td>\n    </tr>\n    <tr>\n      <th>92</th>\n      <td>ROCKVILLE PIKE &amp; LOCUST HILL RD</td>\n      <td>8.0</td>\n    </tr>\n    <tr>\n      <th>105</th>\n      <td>ROCKVILLE PIKE &amp; ROSE AVE</td>\n      <td>7.0</td>\n    </tr>\n    <tr>\n      <th>43</th>\n      <td>HUNGERFORD DR &amp; @700</td>\n      <td>3.0</td>\n    </tr>\n  </tbody>\n</table>\n<p>147 rows × 2 columns</p>\n</div>"
     },
     "metadata": {},
     "execution_count": 41
    }
   ],
   "source": [
    "# ALIGHTING LOCATIONS\n",
    "\n",
    "alightings=round(janfeb.groupby('stops')['alightings'].agg('sum').reset_index(),2)\n",
    "alightingsordered=alightings.nlargest(len(alightings),'alightings')\n",
    "alightingsordered # to_csv to make record"
   ]
  },
  {
   "cell_type": "code",
   "execution_count": null,
   "id": "acoustic-beginning",
   "metadata": {},
   "outputs": [],
   "source": []
  },
  {
   "cell_type": "code",
   "execution_count": 108,
   "id": "moral-married",
   "metadata": {},
   "outputs": [
    {
     "data": {
      "image/png": "[encoded data removed]",
      "text/plain": [
       "<Figure size 1440x720 with 2 Axes>"
      ]
     },
     "metadata": {
      "needs_background": "light"
     },
     "output_type": "display_data"
    }
   ],
   "source": [
    "# POPULAR ROUTES/SEGMENTS MAR-MAY\n",
    "\n",
    "routes=round(marmay.groupby('route')[['boardings','alightings']].agg('sum').reset_index(),2)\n",
    "routesordered=routes.nlargest(len(routes),'boardings').reset_index()\n",
    "routesordered=routesordered.drop(labels='index',axis=1)\n",
    "routesordered # to_csv to make record\n",
    "\n",
    "bymonth=round(marmay.groupby('month')[['boardings','alightings']].agg('sum').reset_index(),2)\n",
    "bymonth # to_csv to make record\n",
    "\n",
    "df=pd.DataFrame({\"bymonth\":bymonth['boardings'],\"month\":monthlist[2:5]})\n",
    "\n",
    "fig, axes = plt.subplots(2, figsize=(20,10))\n",
    "sns.barplot(ax=axes[0],data=routesordered, x='route',y=\"boardings\")\n",
    "axes[0].set_ylim(0,routesordered['boardings'].max()+(routesordered['boardings'].max()*0.35))\n",
    "sns.barplot(ax=axes[1],data=df,x='month',y='bymonth')\n",
    "axes[1].set_ylim(0,bymonth['boardings'].max()+(bymonth['boardings'].max()*0.35))\n",
    "plt.show()"
   ]
  },
  {
   "cell_type": "code",
   "execution_count": 110,
   "id": "honest-texas",
   "metadata": {},
   "outputs": [
    {
     "data": {
      "application/vnd.plotly.v1+json": {
       "config": {
        "plotlyServerURL": "https://plot.ly"
       },
       "data": [
        {
         "alignmentgroup": "True",
         "hovertemplate": "boardings=%{x}<br>stop=%{y}<extra></extra>",
         "legendgroup": "",
         "marker": {
          "color": "#636efa"
         },
         "name": "",
         "offsetgroup": "",
         "orientation": "h",
         "showlegend": false,
         "textposition": "auto",
         "type": "bar",
         "x": [
          33,
          26,
          29,
          33,
          94,
          16,
          3,
          166,
          256,
          36
         ],
         "xaxis": "x",
         "y": [
          "10053 Campus Way South",
          "10100 Campus Way S",
          "10147 Campus Way South",
          "10233 Campus Way South",
          "1100 Owens Rd",
          "1400 Merchantile Ln",
          "1441 McCormick Dr",
          "28th Ave at Keating St",
          "28th Ave at Keith St",
          "28th Ave at Kenton Pl"
         ],
         "yaxis": "y"
        }
       ],
       "layout": {
        "barmode": "relative",
        "height": 400,
        "legend": {
         "tracegroupgap": 0
        },
        "template": {
         "data": {
          "bar": [
           {
            "error_x": {
             "color": "#2a3f5f"
            },
            "error_y": {
             "color": "#2a3f5f"
            },
            "marker": {
             "line": {
              "color": "#E5ECF6",
              "width": 0.5
             }
            },
            "type": "bar"
           }
          ],
          "barpolar": [
           {
            "marker": {
             "line": {
              "color": "#E5ECF6",
              "width": 0.5
             }
            },
            "type": "barpolar"
           }
          ],
          "carpet": [
           {
            "aaxis": {
             "endlinecolor": "#2a3f5f",
             "gridcolor": "white",
             "linecolor": "white",
             "minorgridcolor": "white",
             "startlinecolor": "#2a3f5f"
            },
            "baxis": {
             "endlinecolor": "#2a3f5f",
             "gridcolor": "white",
             "linecolor": "white",
             "minorgridcolor": "white",
             "startlinecolor": "#2a3f5f"
            },
            "type": "carpet"
           }
          ],
          "choropleth": [
           {
            "colorbar": {
             "outlinewidth": 0,
             "ticks": ""
            },
            "type": "choropleth"
           }
          ],
          "contour": [
           {
            "colorbar": {
             "outlinewidth": 0,
             "ticks": ""
            },
            "colorscale": [
             [
              0,
              "#0d0887"
             ],
             [
              0.1111111111111111,
              "#46039f"
             ],
             [
              0.2222222222222222,
              "#7201a8"
             ],
             [
              0.3333333333333333,
              "#9c179e"
             ],
             [
              0.4444444444444444,
              "#bd3786"
             ],
             [
              0.5555555555555556,
              "#d8576b"
             ],
             [
              0.6666666666666666,
              "#ed7953"
             ],
             [
              0.7777777777777778,
              "#fb9f3a"
             ],
             [
              0.8888888888888888,
              "#fdca26"
             ],
             [
              1,
              "#f0f921"
             ]
            ],
            "type": "contour"
           }
          ],
          "contourcarpet": [
           {
            "colorbar": {
             "outlinewidth": 0,
             "ticks": ""
            },
            "type": "contourcarpet"
           }
          ],
          "heatmap": [
           {
            "colorbar": {
             "outlinewidth": 0,
             "ticks": ""
            },
            "colorscale": [
             [
              0,
              "#0d0887"
             ],
             [
              0.1111111111111111,
              "#46039f"
             ],
             [
              0.2222222222222222,
              "#7201a8"
             ],
             [
              0.3333333333333333,
              "#9c179e"
             ],
             [
              0.4444444444444444,
              "#bd3786"
             ],
             [
              0.5555555555555556,
              "#d8576b"
             ],
             [
              0.6666666666666666,
              "#ed7953"
             ],
             [
              0.7777777777777778,
              "#fb9f3a"
             ],
             [
              0.8888888888888888,
              "#fdca26"
             ],
             [
              1,
              "#f0f921"
             ]
            ],
            "type": "heatmap"
           }
          ],
          "heatmapgl": [
           {
            "colorbar": {
             "outlinewidth": 0,
             "ticks": ""
            },
            "colorscale": [
             [
              0,
              "#0d0887"
             ],
             [
              0.1111111111111111,
              "#46039f"
             ],
             [
              0.2222222222222222,
              "#7201a8"
             ],
             [
              0.3333333333333333,
              "#9c179e"
             ],
             [
              0.4444444444444444,
              "#bd3786"
             ],
             [
              0.5555555555555556,
              "#d8576b"
             ],
             [
              0.6666666666666666,
              "#ed7953"
             ],
             [
              0.7777777777777778,
              "#fb9f3a"
             ],
             [
              0.8888888888888888,
              "#fdca26"
             ],
             [
              1,
              "#f0f921"
             ]
            ],
            "type": "heatmapgl"
           }
          ],
          "histogram": [
           {
            "marker": {
             "colorbar": {
              "outlinewidth": 0,
              "ticks": ""
             }
            },
            "type": "histogram"
           }
          ],
          "histogram2d": [
           {
            "colorbar": {
             "outlinewidth": 0,
             "ticks": ""
            },
            "colorscale": [
             [
              0,
              "#0d0887"
             ],
             [
              0.1111111111111111,
              "#46039f"
             ],
             [
              0.2222222222222222,
              "#7201a8"
             ],
             [
              0.3333333333333333,
              "#9c179e"
             ],
             [
              0.4444444444444444,
              "#bd3786"
             ],
             [
              0.5555555555555556,
              "#d8576b"
             ],
             [
              0.6666666666666666,
              "#ed7953"
             ],
             [
              0.7777777777777778,
              "#fb9f3a"
             ],
             [
              0.8888888888888888,
              "#fdca26"
             ],
             [
              1,
              "#f0f921"
             ]
            ],
            "type": "histogram2d"
           }
          ],
          "histogram2dcontour": [
           {
            "colorbar": {
             "outlinewidth": 0,
             "ticks": ""
            },
            "colorscale": [
             [
              0,
              "#0d0887"
             ],
             [
              0.1111111111111111,
              "#46039f"
             ],
             [
              0.2222222222222222,
              "#7201a8"
             ],
             [
              0.3333333333333333,
              "#9c179e"
             ],
             [
              0.4444444444444444,
              "#bd3786"
             ],
             [
              0.5555555555555556,
              "#d8576b"
             ],
             [
              0.6666666666666666,
              "#ed7953"
             ],
             [
              0.7777777777777778,
              "#fb9f3a"
             ],
             [
              0.8888888888888888,
              "#fdca26"
             ],
             [
              1,
              "#f0f921"
             ]
            ],
            "type": "histogram2dcontour"
           }
          ],
          "mesh3d": [
           {
            "colorbar": {
             "outlinewidth": 0,
             "ticks": ""
            },
            "type": "mesh3d"
           }
          ],
          "parcoords": [
           {
            "line": {
             "colorbar": {
              "outlinewidth": 0,
              "ticks": ""
             }
            },
            "type": "parcoords"
           }
          ],
          "pie": [
           {
            "automargin": true,
            "type": "pie"
           }
          ],
          "scatter": [
           {
            "marker": {
             "colorbar": {
              "outlinewidth": 0,
              "ticks": ""
             }
            },
            "type": "scatter"
           }
          ],
          "scatter3d": [
           {
            "line": {
             "colorbar": {
              "outlinewidth": 0,
              "ticks": ""
             }
            },
            "marker": {
             "colorbar": {
              "outlinewidth": 0,
              "ticks": ""
             }
            },
            "type": "scatter3d"
           }
          ],
          "scattercarpet": [
           {
            "marker": {
             "colorbar": {
              "outlinewidth": 0,
              "ticks": ""
             }
            },
            "type": "scattercarpet"
           }
          ],
          "scattergeo": [
           {
            "marker": {
             "colorbar": {
              "outlinewidth": 0,
              "ticks": ""
             }
            },
            "type": "scattergeo"
           }
          ],
          "scattergl": [
           {
            "marker": {
             "colorbar": {
              "outlinewidth": 0,
              "ticks": ""
             }
            },
            "type": "scattergl"
           }
          ],
          "scattermapbox": [
           {
            "marker": {
             "colorbar": {
              "outlinewidth": 0,
              "ticks": ""
             }
            },
            "type": "scattermapbox"
           }
          ],
          "scatterpolar": [
           {
            "marker": {
             "colorbar": {
              "outlinewidth": 0,
              "ticks": ""
             }
            },
            "type": "scatterpolar"
           }
          ],
          "scatterpolargl": [
           {
            "marker": {
             "colorbar": {
              "outlinewidth": 0,
              "ticks": ""
             }
            },
            "type": "scatterpolargl"
           }
          ],
          "scatterternary": [
           {
            "marker": {
             "colorbar": {
              "outlinewidth": 0,
              "ticks": ""
             }
            },
            "type": "scatterternary"
           }
          ],
          "surface": [
           {
            "colorbar": {
             "outlinewidth": 0,
             "ticks": ""
            },
            "colorscale": [
             [
              0,
              "#0d0887"
             ],
             [
              0.1111111111111111,
              "#46039f"
             ],
             [
              0.2222222222222222,
              "#7201a8"
             ],
             [
              0.3333333333333333,
              "#9c179e"
             ],
             [
              0.4444444444444444,
              "#bd3786"
             ],
             [
              0.5555555555555556,
              "#d8576b"
             ],
             [
              0.6666666666666666,
              "#ed7953"
             ],
             [
              0.7777777777777778,
              "#fb9f3a"
             ],
             [
              0.8888888888888888,
              "#fdca26"
             ],
             [
              1,
              "#f0f921"
             ]
            ],
            "type": "surface"
           }
          ],
          "table": [
           {
            "cells": {
             "fill": {
              "color": "#EBF0F8"
             },
             "line": {
              "color": "white"
             }
            },
            "header": {
             "fill": {
              "color": "#C8D4E3"
             },
             "line": {
              "color": "white"
             }
            },
            "type": "table"
           }
          ]
         },
         "layout": {
          "annotationdefaults": {
           "arrowcolor": "#2a3f5f",
           "arrowhead": 0,
           "arrowwidth": 1
          },
          "autotypenumbers": "strict",
          "coloraxis": {
           "colorbar": {
            "outlinewidth": 0,
            "ticks": ""
           }
          },
          "colorscale": {
           "diverging": [
            [
             0,
             "#8e0152"
            ],
            [
             0.1,
             "#c51b7d"
            ],
            [
             0.2,
             "#de77ae"
            ],
            [
             0.3,
             "#f1b6da"
            ],
            [
             0.4,
             "#fde0ef"
            ],
            [
             0.5,
             "#f7f7f7"
            ],
            [
             0.6,
             "#e6f5d0"
            ],
            [
             0.7,
             "#b8e186"
            ],
            [
             0.8,
             "#7fbc41"
            ],
            [
             0.9,
             "#4d9221"
            ],
            [
             1,
             "#276419"
            ]
           ],
           "sequential": [
            [
             0,
             "#0d0887"
            ],
            [
             0.1111111111111111,
             "#46039f"
            ],
            [
             0.2222222222222222,
             "#7201a8"
            ],
            [
             0.3333333333333333,
             "#9c179e"
            ],
            [
             0.4444444444444444,
             "#bd3786"
            ],
            [
             0.5555555555555556,
             "#d8576b"
            ],
            [
             0.6666666666666666,
             "#ed7953"
            ],
            [
             0.7777777777777778,
             "#fb9f3a"
            ],
            [
             0.8888888888888888,
             "#fdca26"
            ],
            [
             1,
             "#f0f921"
            ]
           ],
           "sequentialminus": [
            [
             0,
             "#0d0887"
            ],
            [
             0.1111111111111111,
             "#46039f"
            ],
            [
             0.2222222222222222,
             "#7201a8"
            ],
            [
             0.3333333333333333,
             "#9c179e"
            ],
            [
             0.4444444444444444,
             "#bd3786"
            ],
            [
             0.5555555555555556,
             "#d8576b"
            ],
            [
             0.6666666666666666,
             "#ed7953"
            ],
            [
             0.7777777777777778,
             "#fb9f3a"
            ],
            [
             0.8888888888888888,
             "#fdca26"
            ],
            [
             1,
             "#f0f921"
            ]
           ]
          },
          "colorway": [
           "#636efa",
           "#EF553B",
           "#00cc96",
           "#ab63fa",
           "#FFA15A",
           "#19d3f3",
           "#FF6692",
           "#B6E880",
           "#FF97FF",
           "#FECB52"
          ],
          "font": {
           "color": "#2a3f5f"
          },
          "geo": {
           "bgcolor": "white",
           "lakecolor": "white",
           "landcolor": "#E5ECF6",
           "showlakes": true,
           "showland": true,
           "subunitcolor": "white"
          },
          "hoverlabel": {
           "align": "left"
          },
          "hovermode": "closest",
          "mapbox": {
           "style": "light"
          },
          "paper_bgcolor": "white",
          "plot_bgcolor": "#E5ECF6",
          "polar": {
           "angularaxis": {
            "gridcolor": "white",
            "linecolor": "white",
            "ticks": ""
           },
           "bgcolor": "#E5ECF6",
           "radialaxis": {
            "gridcolor": "white",
            "linecolor": "white",
            "ticks": ""
           }
          },
          "scene": {
           "xaxis": {
            "backgroundcolor": "#E5ECF6",
            "gridcolor": "white",
            "gridwidth": 2,
            "linecolor": "white",
            "showbackground": true,
            "ticks": "",
            "zerolinecolor": "white"
           },
           "yaxis": {
            "backgroundcolor": "#E5ECF6",
            "gridcolor": "white",
            "gridwidth": 2,
            "linecolor": "white",
            "showbackground": true,
            "ticks": "",
            "zerolinecolor": "white"
           },
           "zaxis": {
            "backgroundcolor": "#E5ECF6",
            "gridcolor": "white",
            "gridwidth": 2,
            "linecolor": "white",
            "showbackground": true,
            "ticks": "",
            "zerolinecolor": "white"
           }
          },
          "shapedefaults": {
           "line": {
            "color": "#2a3f5f"
           }
          },
          "ternary": {
           "aaxis": {
            "gridcolor": "white",
            "linecolor": "white",
            "ticks": ""
           },
           "baxis": {
            "gridcolor": "white",
            "linecolor": "white",
            "ticks": ""
           },
           "bgcolor": "#E5ECF6",
           "caxis": {
            "gridcolor": "white",
            "linecolor": "white",
            "ticks": ""
           }
          },
          "title": {
           "x": 0.05
          },
          "xaxis": {
           "automargin": true,
           "gridcolor": "white",
           "linecolor": "white",
           "ticks": "",
           "title": {
            "standoff": 15
           },
           "zerolinecolor": "white",
           "zerolinewidth": 2
          },
          "yaxis": {
           "automargin": true,
           "gridcolor": "white",
           "linecolor": "white",
           "ticks": "",
           "title": {
            "standoff": 15
           },
           "zerolinecolor": "white",
           "zerolinewidth": 2
          }
         }
        },
        "title": {
         "text": "TOP BOARDINGS BY STOP 2020"
        },
        "xaxis": {
         "anchor": "y",
         "domain": [
          0,
          1
         ],
         "title": {
          "text": "boardings"
         }
        },
        "yaxis": {
         "anchor": "x",
         "domain": [
          0,
          1
         ],
         "title": {
          "text": "stop"
         }
        }
       }
      },
      "text/html": [
       "<div>                            <div id=\"f66291a0-a2d4-4c64-b2a4-d8edb6321d54\" class=\"plotly-graph-div\" style=\"height:400px; width:100%;\"></div>            <script type=\"text/javascript\">                require([\"plotly\"], function(Plotly) {                    window.PLOTLYENV=window.PLOTLYENV || {};                                    if (document.getElementById(\"f66291a0-a2d4-4c64-b2a4-d8edb6321d54\")) {                    Plotly.newPlot(                        \"f66291a0-a2d4-4c64-b2a4-d8edb6321d54\",                        [{\"alignmentgroup\": \"True\", \"hovertemplate\": \"boardings=%{x}<br>stop=%{y}<extra></extra>\", \"legendgroup\": \"\", \"marker\": {\"color\": \"#636efa\"}, \"name\": \"\", \"offsetgroup\": \"\", \"orientation\": \"h\", \"showlegend\": false, \"textposition\": \"auto\", \"type\": \"bar\", \"x\": [33, 26, 29, 33, 94, 16, 3, 166, 256, 36], \"xaxis\": \"x\", \"y\": [\"10053 Campus Way South\", \"10100 Campus Way S\", \"10147 Campus Way South\", \"10233 Campus Way South\", \"1100 Owens Rd\", \"1400 Merchantile Ln\", \"1441 McCormick Dr\", \"28th Ave at Keating St\", \"28th Ave at Keith St\", \"28th Ave at Kenton Pl\"], \"yaxis\": \"y\"}],                        {\"barmode\": \"relative\", \"height\": 400, \"legend\": {\"tracegroupgap\": 0}, \"template\": {\"data\": {\"bar\": [{\"error_x\": {\"color\": \"#2a3f5f\"}, \"error_y\": {\"color\": \"#2a3f5f\"}, \"marker\": {\"line\": {\"color\": \"#E5ECF6\", \"width\": 0.5}}, \"type\": \"bar\"}], \"barpolar\": [{\"marker\": {\"line\": {\"color\": \"#E5ECF6\", \"width\": 0.5}}, \"type\": \"barpolar\"}], \"carpet\": [{\"aaxis\": {\"endlinecolor\": \"#2a3f5f\", \"gridcolor\": \"white\", \"linecolor\": \"white\", \"minorgridcolor\": \"white\", \"startlinecolor\": \"#2a3f5f\"}, \"baxis\": {\"endlinecolor\": \"#2a3f5f\", \"gridcolor\": \"white\", \"linecolor\": \"white\", \"minorgridcolor\": \"white\", \"startlinecolor\": \"#2a3f5f\"}, \"type\": \"carpet\"}], \"choropleth\": [{\"colorbar\": {\"outlinewidth\": 0, \"ticks\": \"\"}, \"type\": \"choropleth\"}], \"contour\": [{\"colorbar\": {\"outlinewidth\": 0, \"ticks\": \"\"}, \"colorscale\": [[0.0, \"#0d0887\"], [0.1111111111111111, \"#46039f\"], [0.2222222222222222, \"#7201a8\"], [0.3333333333333333, \"#9c179e\"], [0.4444444444444444, \"#bd3786\"], [0.5555555555555556, \"#d8576b\"], [0.6666666666666666, \"#ed7953\"], [0.7777777777777778, \"#fb9f3a\"], [0.8888888888888888, \"#fdca26\"], [1.0, \"#f0f921\"]], \"type\": \"contour\"}], \"contourcarpet\": [{\"colorbar\": {\"outlinewidth\": 0, \"ticks\": \"\"}, \"type\": \"contourcarpet\"}], \"heatmap\": [{\"colorbar\": {\"outlinewidth\": 0, \"ticks\": \"\"}, \"colorscale\": [[0.0, \"#0d0887\"], [0.1111111111111111, \"#46039f\"], [0.2222222222222222, \"#7201a8\"], [0.3333333333333333, \"#9c179e\"], [0.4444444444444444, \"#bd3786\"], [0.5555555555555556, \"#d8576b\"], [0.6666666666666666, \"#ed7953\"], [0.7777777777777778, \"#fb9f3a\"], [0.8888888888888888, \"#fdca26\"], [1.0, \"#f0f921\"]], \"type\": \"heatmap\"}], \"heatmapgl\": [{\"colorbar\": {\"outlinewidth\": 0, \"ticks\": \"\"}, \"colorscale\": [[0.0, \"#0d0887\"], [0.1111111111111111, \"#46039f\"], [0.2222222222222222, \"#7201a8\"], [0.3333333333333333, \"#9c179e\"], [0.4444444444444444, \"#bd3786\"], [0.5555555555555556, \"#d8576b\"], [0.6666666666666666, \"#ed7953\"], [0.7777777777777778, \"#fb9f3a\"], [0.8888888888888888, \"#fdca26\"], [1.0, \"#f0f921\"]], \"type\": \"heatmapgl\"}], \"histogram\": [{\"marker\": {\"colorbar\": {\"outlinewidth\": 0, \"ticks\": \"\"}}, \"type\": \"histogram\"}], \"histogram2d\": [{\"colorbar\": {\"outlinewidth\": 0, \"ticks\": \"\"}, \"colorscale\": [[0.0, \"#0d0887\"], [0.1111111111111111, \"#46039f\"], [0.2222222222222222, \"#7201a8\"], [0.3333333333333333, \"#9c179e\"], [0.4444444444444444, \"#bd3786\"], [0.5555555555555556, \"#d8576b\"], [0.6666666666666666, \"#ed7953\"], [0.7777777777777778, \"#fb9f3a\"], [0.8888888888888888, \"#fdca26\"], [1.0, \"#f0f921\"]], \"type\": \"histogram2d\"}], \"histogram2dcontour\": [{\"colorbar\": {\"outlinewidth\": 0, \"ticks\": \"\"}, \"colorscale\": [[0.0, \"#0d0887\"], [0.1111111111111111, \"#46039f\"], [0.2222222222222222, \"#7201a8\"], [0.3333333333333333, \"#9c179e\"], [0.4444444444444444, \"#bd3786\"], [0.5555555555555556, \"#d8576b\"], [0.6666666666666666, \"#ed7953\"], [0.7777777777777778, \"#fb9f3a\"], [0.8888888888888888, \"#fdca26\"], [1.0, \"#f0f921\"]], \"type\": \"histogram2dcontour\"}], \"mesh3d\": [{\"colorbar\": {\"outlinewidth\": 0, \"ticks\": \"\"}, \"type\": \"mesh3d\"}], \"parcoords\": [{\"line\": {\"colorbar\": {\"outlinewidth\": 0, \"ticks\": \"\"}}, \"type\": \"parcoords\"}], \"pie\": [{\"automargin\": true, \"type\": \"pie\"}], \"scatter\": [{\"marker\": {\"colorbar\": {\"outlinewidth\": 0, \"ticks\": \"\"}}, \"type\": \"scatter\"}], \"scatter3d\": [{\"line\": {\"colorbar\": {\"outlinewidth\": 0, \"ticks\": \"\"}}, \"marker\": {\"colorbar\": {\"outlinewidth\": 0, \"ticks\": \"\"}}, \"type\": \"scatter3d\"}], \"scattercarpet\": [{\"marker\": {\"colorbar\": {\"outlinewidth\": 0, \"ticks\": \"\"}}, \"type\": \"scattercarpet\"}], \"scattergeo\": [{\"marker\": {\"colorbar\": {\"outlinewidth\": 0, \"ticks\": \"\"}}, \"type\": \"scattergeo\"}], \"scattergl\": [{\"marker\": {\"colorbar\": {\"outlinewidth\": 0, \"ticks\": \"\"}}, \"type\": \"scattergl\"}], \"scattermapbox\": [{\"marker\": {\"colorbar\": {\"outlinewidth\": 0, \"ticks\": \"\"}}, \"type\": \"scattermapbox\"}], \"scatterpolar\": [{\"marker\": {\"colorbar\": {\"outlinewidth\": 0, \"ticks\": \"\"}}, \"type\": \"scatterpolar\"}], \"scatterpolargl\": [{\"marker\": {\"colorbar\": {\"outlinewidth\": 0, \"ticks\": \"\"}}, \"type\": \"scatterpolargl\"}], \"scatterternary\": [{\"marker\": {\"colorbar\": {\"outlinewidth\": 0, \"ticks\": \"\"}}, \"type\": \"scatterternary\"}], \"surface\": [{\"colorbar\": {\"outlinewidth\": 0, \"ticks\": \"\"}, \"colorscale\": [[0.0, \"#0d0887\"], [0.1111111111111111, \"#46039f\"], [0.2222222222222222, \"#7201a8\"], [0.3333333333333333, \"#9c179e\"], [0.4444444444444444, \"#bd3786\"], [0.5555555555555556, \"#d8576b\"], [0.6666666666666666, \"#ed7953\"], [0.7777777777777778, \"#fb9f3a\"], [0.8888888888888888, \"#fdca26\"], [1.0, \"#f0f921\"]], \"type\": \"surface\"}], \"table\": [{\"cells\": {\"fill\": {\"color\": \"#EBF0F8\"}, \"line\": {\"color\": \"white\"}}, \"header\": {\"fill\": {\"color\": \"#C8D4E3\"}, \"line\": {\"color\": \"white\"}}, \"type\": \"table\"}]}, \"layout\": {\"annotationdefaults\": {\"arrowcolor\": \"#2a3f5f\", \"arrowhead\": 0, \"arrowwidth\": 1}, \"autotypenumbers\": \"strict\", \"coloraxis\": {\"colorbar\": {\"outlinewidth\": 0, \"ticks\": \"\"}}, \"colorscale\": {\"diverging\": [[0, \"#8e0152\"], [0.1, \"#c51b7d\"], [0.2, \"#de77ae\"], [0.3, \"#f1b6da\"], [0.4, \"#fde0ef\"], [0.5, \"#f7f7f7\"], [0.6, \"#e6f5d0\"], [0.7, \"#b8e186\"], [0.8, \"#7fbc41\"], [0.9, \"#4d9221\"], [1, \"#276419\"]], \"sequential\": [[0.0, \"#0d0887\"], [0.1111111111111111, \"#46039f\"], [0.2222222222222222, \"#7201a8\"], [0.3333333333333333, \"#9c179e\"], [0.4444444444444444, \"#bd3786\"], [0.5555555555555556, \"#d8576b\"], [0.6666666666666666, \"#ed7953\"], [0.7777777777777778, \"#fb9f3a\"], [0.8888888888888888, \"#fdca26\"], [1.0, \"#f0f921\"]], \"sequentialminus\": [[0.0, \"#0d0887\"], [0.1111111111111111, \"#46039f\"], [0.2222222222222222, \"#7201a8\"], [0.3333333333333333, \"#9c179e\"], [0.4444444444444444, \"#bd3786\"], [0.5555555555555556, \"#d8576b\"], [0.6666666666666666, \"#ed7953\"], [0.7777777777777778, \"#fb9f3a\"], [0.8888888888888888, \"#fdca26\"], [1.0, \"#f0f921\"]]}, \"colorway\": [\"#636efa\", \"#EF553B\", \"#00cc96\", \"#ab63fa\", \"#FFA15A\", \"#19d3f3\", \"#FF6692\", \"#B6E880\", \"#FF97FF\", \"#FECB52\"], \"font\": {\"color\": \"#2a3f5f\"}, \"geo\": {\"bgcolor\": \"white\", \"lakecolor\": \"white\", \"landcolor\": \"#E5ECF6\", \"showlakes\": true, \"showland\": true, \"subunitcolor\": \"white\"}, \"hoverlabel\": {\"align\": \"left\"}, \"hovermode\": \"closest\", \"mapbox\": {\"style\": \"light\"}, \"paper_bgcolor\": \"white\", \"plot_bgcolor\": \"#E5ECF6\", \"polar\": {\"angularaxis\": {\"gridcolor\": \"white\", \"linecolor\": \"white\", \"ticks\": \"\"}, \"bgcolor\": \"#E5ECF6\", \"radialaxis\": {\"gridcolor\": \"white\", \"linecolor\": \"white\", \"ticks\": \"\"}}, \"scene\": {\"xaxis\": {\"backgroundcolor\": \"#E5ECF6\", \"gridcolor\": \"white\", \"gridwidth\": 2, \"linecolor\": \"white\", \"showbackground\": true, \"ticks\": \"\", \"zerolinecolor\": \"white\"}, \"yaxis\": {\"backgroundcolor\": \"#E5ECF6\", \"gridcolor\": \"white\", \"gridwidth\": 2, \"linecolor\": \"white\", \"showbackground\": true, \"ticks\": \"\", \"zerolinecolor\": \"white\"}, \"zaxis\": {\"backgroundcolor\": \"#E5ECF6\", \"gridcolor\": \"white\", \"gridwidth\": 2, \"linecolor\": \"white\", \"showbackground\": true, \"ticks\": \"\", \"zerolinecolor\": \"white\"}}, \"shapedefaults\": {\"line\": {\"color\": \"#2a3f5f\"}}, \"ternary\": {\"aaxis\": {\"gridcolor\": \"white\", \"linecolor\": \"white\", \"ticks\": \"\"}, \"baxis\": {\"gridcolor\": \"white\", \"linecolor\": \"white\", \"ticks\": \"\"}, \"bgcolor\": \"#E5ECF6\", \"caxis\": {\"gridcolor\": \"white\", \"linecolor\": \"white\", \"ticks\": \"\"}}, \"title\": {\"x\": 0.05}, \"xaxis\": {\"automargin\": true, \"gridcolor\": \"white\", \"linecolor\": \"white\", \"ticks\": \"\", \"title\": {\"standoff\": 15}, \"zerolinecolor\": \"white\", \"zerolinewidth\": 2}, \"yaxis\": {\"automargin\": true, \"gridcolor\": \"white\", \"linecolor\": \"white\", \"ticks\": \"\", \"title\": {\"standoff\": 15}, \"zerolinecolor\": \"white\", \"zerolinewidth\": 2}}}, \"title\": {\"text\": \"TOP BOARDINGS BY STOP 2020\"}, \"xaxis\": {\"anchor\": \"y\", \"domain\": [0.0, 1.0], \"title\": {\"text\": \"boardings\"}}, \"yaxis\": {\"anchor\": \"x\", \"domain\": [0.0, 1.0], \"title\": {\"text\": \"stop\"}}},                        {\"responsive\": true}                    ).then(function(){\n",
       "                            \n",
       "var gd = document.getElementById('f66291a0-a2d4-4c64-b2a4-d8edb6321d54');\n",
       "var x = new MutationObserver(function (mutations, observer) {{\n",
       "        var display = window.getComputedStyle(gd).display;\n",
       "        if (!display || display === 'none') {{\n",
       "            console.log([gd, 'removed!']);\n",
       "            Plotly.purge(gd);\n",
       "            observer.disconnect();\n",
       "        }}\n",
       "}});\n",
       "\n",
       "// Listen for the removal of the full notebook cells\n",
       "var notebookContainer = gd.closest('#notebook-container');\n",
       "if (notebookContainer) {{\n",
       "    x.observe(notebookContainer, {childList: true});\n",
       "}}\n",
       "\n",
       "// Listen for the clearing of the current output cell\n",
       "var outputEl = gd.closest('.output');\n",
       "if (outputEl) {{\n",
       "    x.observe(outputEl, {childList: true});\n",
       "}}\n",
       "\n",
       "                        })                };                });            </script>        </div>"
      ]
     },
     "metadata": {},
     "output_type": "display_data"
    }
   ],
   "source": [
    "stops=round(marmay.groupby('stop')[['boardings','alightings']].agg('sum').reset_index(),2)\n",
    "stops\n",
    "\n",
    "fig = px.bar(stops.iloc[0:10], x=\"boardings\", y=\"stop\",  orientation='h', #color='Route',\n",
    "hover_data=[\"boardings\"],height=400,title='TOP BOARDINGS BY STOP 2020')\n",
    "fig.show()"
   ]
  },
  {
   "cell_type": "code",
   "execution_count": 111,
   "id": "collective-freedom",
   "metadata": {},
   "outputs": [
    {
     "data": {
      "text/html": [
       "<div>\n",
       "<style scoped>\n",
       "    .dataframe tbody tr th:only-of-type {\n",
       "        vertical-align: middle;\n",
       "    }\n",
       "\n",
       "    .dataframe tbody tr th {\n",
       "        vertical-align: top;\n",
       "    }\n",
       "\n",
       "    .dataframe thead th {\n",
       "        text-align: right;\n",
       "    }\n",
       "</style>\n",
       "<table border=\"1\" class=\"dataframe\">\n",
       "  <thead>\n",
       "    <tr style=\"text-align: right;\">\n",
       "      <th></th>\n",
       "      <th>stop</th>\n",
       "      <th>boardings</th>\n",
       "      <th>alightings</th>\n",
       "    </tr>\n",
       "  </thead>\n",
       "  <tbody>\n",
       "    <tr>\n",
       "      <th>344</th>\n",
       "      <td>Naylor Rd Station Bay H</td>\n",
       "      <td>4578</td>\n",
       "      <td>4004</td>\n",
       "    </tr>\n",
       "    <tr>\n",
       "      <th>457</th>\n",
       "      <td>Southern Ave Station Bay E - Arrival</td>\n",
       "      <td>13</td>\n",
       "      <td>3448</td>\n",
       "    </tr>\n",
       "    <tr>\n",
       "      <th>152</th>\n",
       "      <td>Branch Ave Station - Arrival</td>\n",
       "      <td>57</td>\n",
       "      <td>3445</td>\n",
       "    </tr>\n",
       "    <tr>\n",
       "      <th>347</th>\n",
       "      <td>New Carrollton Station - Arrival</td>\n",
       "      <td>37</td>\n",
       "      <td>2989</td>\n",
       "    </tr>\n",
       "    <tr>\n",
       "      <th>545</th>\n",
       "      <td>Woody Terrace at Woodyard Rd</td>\n",
       "      <td>1322</td>\n",
       "      <td>2958</td>\n",
       "    </tr>\n",
       "    <tr>\n",
       "      <th>...</th>\n",
       "      <td>...</td>\n",
       "      <td>...</td>\n",
       "      <td>...</td>\n",
       "    </tr>\n",
       "    <tr>\n",
       "      <th>190</th>\n",
       "      <td>Brinkley Rd at Lujean Ln</td>\n",
       "      <td>19</td>\n",
       "      <td>2</td>\n",
       "    </tr>\n",
       "    <tr>\n",
       "      <th>209</th>\n",
       "      <td>Campus Drive (EB) at Baltimore Ave</td>\n",
       "      <td>0</td>\n",
       "      <td>1</td>\n",
       "    </tr>\n",
       "    <tr>\n",
       "      <th>95</th>\n",
       "      <td>Arena Dr at Shoppers Way (Campus Way)</td>\n",
       "      <td>4</td>\n",
       "      <td>1</td>\n",
       "    </tr>\n",
       "    <tr>\n",
       "      <th>476</th>\n",
       "      <td>Springhill Dr at 6027 Springhill Dr</td>\n",
       "      <td>3</td>\n",
       "      <td>0</td>\n",
       "    </tr>\n",
       "    <tr>\n",
       "      <th>554</th>\n",
       "      <td>cps_t8_s</td>\n",
       "      <td>3</td>\n",
       "      <td>0</td>\n",
       "    </tr>\n",
       "  </tbody>\n",
       "</table>\n",
       "<p>555 rows × 3 columns</p>\n",
       "</div>"
      ],
      "text/plain": [
       "                                      stop  boardings  alightings\n",
       "344                Naylor Rd Station Bay H       4578        4004\n",
       "457   Southern Ave Station Bay E - Arrival         13        3448\n",
       "152           Branch Ave Station - Arrival         57        3445\n",
       "347       New Carrollton Station - Arrival         37        2989\n",
       "545           Woody Terrace at Woodyard Rd       1322        2958\n",
       "..                                     ...        ...         ...\n",
       "190               Brinkley Rd at Lujean Ln         19           2\n",
       "209     Campus Drive (EB) at Baltimore Ave          0           1\n",
       "95   Arena Dr at Shoppers Way (Campus Way)          4           1\n",
       "476    Springhill Dr at 6027 Springhill Dr          3           0\n",
       "554                               cps_t8_s          3           0\n",
       "\n",
       "[555 rows x 3 columns]"
      ]
     },
     "execution_count": 111,
     "metadata": {},
     "output_type": "execute_result"
    }
   ],
   "source": [
    "stops.nlargest(len(stops),'boardings') # to_csv to make record\n",
    "stops.nlargest(len(stops),'alightings') # to_csv to make record"
   ]
  },
  {
   "cell_type": "code",
   "execution_count": 112,
   "id": "engaging-sterling",
   "metadata": {},
   "outputs": [
    {
     "data": {
      "image/png": "[encoded data removed]",
      "text/plain": [
       "<Figure size 1440x1080 with 2 Axes>"
      ]
     },
     "metadata": {
      "needs_background": "light"
     },
     "output_type": "display_data"
    }
   ],
   "source": [
    "#TOD\n",
    "\n",
    "todroutes=round(marmay.groupby(['hour','route'])[['boardings','alightings']].agg('sum').reset_index(),2)\n",
    "todroutes=todroutes.nlargest(len(todroutes),'boardings')\n",
    "todroutes # to_csv to make record\n",
    "\n",
    "fig, axes = plt.subplots(2, figsize=(20,15))\n",
    "axes[0]=sns.barplot(ax=axes[0],data=todroutes, x='hour',y=\"boardings\",ci=None)\n",
    "axes[1]=sns.barplot(ax=axes[1],data=todroutes, x='route',y='boardings',ci=None)\n",
    "plt.show()"
   ]
  },
  {
   "cell_type": "code",
   "execution_count": 113,
   "id": "large-chapel",
   "metadata": {},
   "outputs": [
    {
     "data": {
      "text/html": [
       "<div>\n",
       "<style scoped>\n",
       "    .dataframe tbody tr th:only-of-type {\n",
       "        vertical-align: middle;\n",
       "    }\n",
       "\n",
       "    .dataframe tbody tr th {\n",
       "        vertical-align: top;\n",
       "    }\n",
       "\n",
       "    .dataframe thead th {\n",
       "        text-align: right;\n",
       "    }\n",
       "</style>\n",
       "<table border=\"1\" class=\"dataframe\">\n",
       "  <thead>\n",
       "    <tr style=\"text-align: right;\">\n",
       "      <th></th>\n",
       "      <th>hour</th>\n",
       "      <th>route</th>\n",
       "      <th>boardings</th>\n",
       "      <th>alightings</th>\n",
       "    </tr>\n",
       "  </thead>\n",
       "  <tbody>\n",
       "    <tr>\n",
       "      <th>23</th>\n",
       "      <td>7</td>\n",
       "      <td>Route 16</td>\n",
       "      <td>1867</td>\n",
       "      <td>1799</td>\n",
       "    </tr>\n",
       "    <tr>\n",
       "      <th>116</th>\n",
       "      <td>15</td>\n",
       "      <td>Route 32</td>\n",
       "      <td>1696</td>\n",
       "      <td>1735</td>\n",
       "    </tr>\n",
       "    <tr>\n",
       "      <th>127</th>\n",
       "      <td>16</td>\n",
       "      <td>Route 32</td>\n",
       "      <td>1627</td>\n",
       "      <td>1582</td>\n",
       "    </tr>\n",
       "    <tr>\n",
       "      <th>122</th>\n",
       "      <td>16</td>\n",
       "      <td>Route 16</td>\n",
       "      <td>1476</td>\n",
       "      <td>1573</td>\n",
       "    </tr>\n",
       "    <tr>\n",
       "      <th>133</th>\n",
       "      <td>17</td>\n",
       "      <td>Route 16</td>\n",
       "      <td>1583</td>\n",
       "      <td>1522</td>\n",
       "    </tr>\n",
       "    <tr>\n",
       "      <th>...</th>\n",
       "      <td>...</td>\n",
       "      <td>...</td>\n",
       "      <td>...</td>\n",
       "      <td>...</td>\n",
       "    </tr>\n",
       "    <tr>\n",
       "      <th>3</th>\n",
       "      <td>5</td>\n",
       "      <td>Route 26</td>\n",
       "      <td>9</td>\n",
       "      <td>8</td>\n",
       "    </tr>\n",
       "    <tr>\n",
       "      <th>166</th>\n",
       "      <td>20</td>\n",
       "      <td>Route 17 (Route 1 Ride)</td>\n",
       "      <td>2</td>\n",
       "      <td>7</td>\n",
       "    </tr>\n",
       "    <tr>\n",
       "      <th>167</th>\n",
       "      <td>20</td>\n",
       "      <td>Route 26</td>\n",
       "      <td>0</td>\n",
       "      <td>7</td>\n",
       "    </tr>\n",
       "    <tr>\n",
       "      <th>7</th>\n",
       "      <td>5</td>\n",
       "      <td>Route 33</td>\n",
       "      <td>4</td>\n",
       "      <td>5</td>\n",
       "    </tr>\n",
       "    <tr>\n",
       "      <th>170</th>\n",
       "      <td>20</td>\n",
       "      <td>Route 34</td>\n",
       "      <td>3</td>\n",
       "      <td>5</td>\n",
       "    </tr>\n",
       "  </tbody>\n",
       "</table>\n",
       "<p>172 rows × 4 columns</p>\n",
       "</div>"
      ],
      "text/plain": [
       "     hour                    route  boardings  alightings\n",
       "23      7                 Route 16       1867        1799\n",
       "116    15                 Route 32       1696        1735\n",
       "127    16                 Route 32       1627        1582\n",
       "122    16                 Route 16       1476        1573\n",
       "133    17                 Route 16       1583        1522\n",
       "..    ...                      ...        ...         ...\n",
       "3       5                 Route 26          9           8\n",
       "166    20  Route 17 (Route 1 Ride)          2           7\n",
       "167    20                 Route 26          0           7\n",
       "7       5                 Route 33          4           5\n",
       "170    20                 Route 34          3           5\n",
       "\n",
       "[172 rows x 4 columns]"
      ]
     },
     "execution_count": 113,
     "metadata": {},
     "output_type": "execute_result"
    }
   ],
   "source": [
    "todroutes.nlargest(len(todroutes),'boardings') # to_csv to make record\n",
    "todroutes.nlargest(len(todroutes),'alightings') # to_csv to make record"
   ]
  },
  {
   "cell_type": "code",
   "execution_count": 114,
   "id": "wrapped-hazard",
   "metadata": {},
   "outputs": [
    {
     "data": {
      "text/html": [
       "<div>\n",
       "<style scoped>\n",
       "    .dataframe tbody tr th:only-of-type {\n",
       "        vertical-align: middle;\n",
       "    }\n",
       "\n",
       "    .dataframe tbody tr th {\n",
       "        vertical-align: top;\n",
       "    }\n",
       "\n",
       "    .dataframe thead th {\n",
       "        text-align: right;\n",
       "    }\n",
       "</style>\n",
       "<table border=\"1\" class=\"dataframe\">\n",
       "  <thead>\n",
       "    <tr style=\"text-align: right;\">\n",
       "      <th></th>\n",
       "      <th>stop</th>\n",
       "      <th>boardings</th>\n",
       "    </tr>\n",
       "  </thead>\n",
       "  <tbody>\n",
       "    <tr>\n",
       "      <th>344</th>\n",
       "      <td>Naylor Rd Station Bay H</td>\n",
       "      <td>4578</td>\n",
       "    </tr>\n",
       "    <tr>\n",
       "      <th>153</th>\n",
       "      <td>Branch Ave Station Bus Bay J</td>\n",
       "      <td>3846</td>\n",
       "    </tr>\n",
       "    <tr>\n",
       "      <th>456</th>\n",
       "      <td>Southern Ave Station Bay E</td>\n",
       "      <td>3324</td>\n",
       "    </tr>\n",
       "    <tr>\n",
       "      <th>502</th>\n",
       "      <td>Suitland Metrorail Station Bay D</td>\n",
       "      <td>2766</td>\n",
       "    </tr>\n",
       "    <tr>\n",
       "      <th>230</th>\n",
       "      <td>Clinton Fringe Lot</td>\n",
       "      <td>2606</td>\n",
       "    </tr>\n",
       "    <tr>\n",
       "      <th>...</th>\n",
       "      <td>...</td>\n",
       "      <td>...</td>\n",
       "    </tr>\n",
       "    <tr>\n",
       "      <th>333</th>\n",
       "      <td>McCormick Dr at Caraway Ct</td>\n",
       "      <td>1</td>\n",
       "    </tr>\n",
       "    <tr>\n",
       "      <th>283</th>\n",
       "      <td>Hanover Pkwy at Lake Park Dr</td>\n",
       "      <td>1</td>\n",
       "    </tr>\n",
       "    <tr>\n",
       "      <th>391</th>\n",
       "      <td>Oxon Hill Rd at Oxon Hill Fringe Parking Lot</td>\n",
       "      <td>0</td>\n",
       "    </tr>\n",
       "    <tr>\n",
       "      <th>209</th>\n",
       "      <td>Campus Drive (EB) at Baltimore Ave</td>\n",
       "      <td>0</td>\n",
       "    </tr>\n",
       "    <tr>\n",
       "      <th>506</th>\n",
       "      <td>Suitland Rd at Opposite Prem. #4211</td>\n",
       "      <td>0</td>\n",
       "    </tr>\n",
       "  </tbody>\n",
       "</table>\n",
       "<p>555 rows × 2 columns</p>\n",
       "</div>"
      ],
      "text/plain": [
       "                                             stop  boardings\n",
       "344                       Naylor Rd Station Bay H       4578\n",
       "153                  Branch Ave Station Bus Bay J       3846\n",
       "456                    Southern Ave Station Bay E       3324\n",
       "502              Suitland Metrorail Station Bay D       2766\n",
       "230                            Clinton Fringe Lot       2606\n",
       "..                                            ...        ...\n",
       "333                    McCormick Dr at Caraway Ct          1\n",
       "283                  Hanover Pkwy at Lake Park Dr          1\n",
       "391  Oxon Hill Rd at Oxon Hill Fringe Parking Lot          0\n",
       "209            Campus Drive (EB) at Baltimore Ave          0\n",
       "506           Suitland Rd at Opposite Prem. #4211          0\n",
       "\n",
       "[555 rows x 2 columns]"
      ]
     },
     "execution_count": 114,
     "metadata": {},
     "output_type": "execute_result"
    }
   ],
   "source": [
    "# BOARDING LOCATIONS\n",
    "\n",
    "boardings=round(marmay.groupby('stop')['boardings'].agg('sum').reset_index(),2)\n",
    "boardingsordered=boardings.nlargest(len(boardings),'boardings')\n",
    "boardingsordered # to_csv to make record"
   ]
  },
  {
   "cell_type": "code",
   "execution_count": 115,
   "id": "horizontal-milwaukee",
   "metadata": {},
   "outputs": [
    {
     "data": {
      "text/html": [
       "<div>\n",
       "<style scoped>\n",
       "    .dataframe tbody tr th:only-of-type {\n",
       "        vertical-align: middle;\n",
       "    }\n",
       "\n",
       "    .dataframe tbody tr th {\n",
       "        vertical-align: top;\n",
       "    }\n",
       "\n",
       "    .dataframe thead th {\n",
       "        text-align: right;\n",
       "    }\n",
       "</style>\n",
       "<table border=\"1\" class=\"dataframe\">\n",
       "  <thead>\n",
       "    <tr style=\"text-align: right;\">\n",
       "      <th></th>\n",
       "      <th>stop</th>\n",
       "      <th>alightings</th>\n",
       "    </tr>\n",
       "  </thead>\n",
       "  <tbody>\n",
       "    <tr>\n",
       "      <th>344</th>\n",
       "      <td>Naylor Rd Station Bay H</td>\n",
       "      <td>4004</td>\n",
       "    </tr>\n",
       "    <tr>\n",
       "      <th>457</th>\n",
       "      <td>Southern Ave Station Bay E - Arrival</td>\n",
       "      <td>3448</td>\n",
       "    </tr>\n",
       "    <tr>\n",
       "      <th>152</th>\n",
       "      <td>Branch Ave Station - Arrival</td>\n",
       "      <td>3445</td>\n",
       "    </tr>\n",
       "    <tr>\n",
       "      <th>347</th>\n",
       "      <td>New Carrollton Station - Arrival</td>\n",
       "      <td>2989</td>\n",
       "    </tr>\n",
       "    <tr>\n",
       "      <th>545</th>\n",
       "      <td>Woody Terrace at Woodyard Rd</td>\n",
       "      <td>2958</td>\n",
       "    </tr>\n",
       "    <tr>\n",
       "      <th>...</th>\n",
       "      <td>...</td>\n",
       "      <td>...</td>\n",
       "    </tr>\n",
       "    <tr>\n",
       "      <th>190</th>\n",
       "      <td>Brinkley Rd at Lujean Ln</td>\n",
       "      <td>2</td>\n",
       "    </tr>\n",
       "    <tr>\n",
       "      <th>209</th>\n",
       "      <td>Campus Drive (EB) at Baltimore Ave</td>\n",
       "      <td>1</td>\n",
       "    </tr>\n",
       "    <tr>\n",
       "      <th>95</th>\n",
       "      <td>Arena Dr at Shoppers Way (Campus Way)</td>\n",
       "      <td>1</td>\n",
       "    </tr>\n",
       "    <tr>\n",
       "      <th>476</th>\n",
       "      <td>Springhill Dr at 6027 Springhill Dr</td>\n",
       "      <td>0</td>\n",
       "    </tr>\n",
       "    <tr>\n",
       "      <th>554</th>\n",
       "      <td>cps_t8_s</td>\n",
       "      <td>0</td>\n",
       "    </tr>\n",
       "  </tbody>\n",
       "</table>\n",
       "<p>555 rows × 2 columns</p>\n",
       "</div>"
      ],
      "text/plain": [
       "                                      stop  alightings\n",
       "344                Naylor Rd Station Bay H        4004\n",
       "457   Southern Ave Station Bay E - Arrival        3448\n",
       "152           Branch Ave Station - Arrival        3445\n",
       "347       New Carrollton Station - Arrival        2989\n",
       "545           Woody Terrace at Woodyard Rd        2958\n",
       "..                                     ...         ...\n",
       "190               Brinkley Rd at Lujean Ln           2\n",
       "209     Campus Drive (EB) at Baltimore Ave           1\n",
       "95   Arena Dr at Shoppers Way (Campus Way)           1\n",
       "476    Springhill Dr at 6027 Springhill Dr           0\n",
       "554                               cps_t8_s           0\n",
       "\n",
       "[555 rows x 2 columns]"
      ]
     },
     "execution_count": 115,
     "metadata": {},
     "output_type": "execute_result"
    }
   ],
   "source": [
    "# ALIGHTING LOCATIONS\n",
    "\n",
    "alightings=round(marmay.groupby('stop')['alightings'].agg('sum').reset_index(),2)\n",
    "alightingsordered=alightings.nlargest(len(alightings),'alightings')\n",
    "alightingsordered # to_csv to make record"
   ]
  },
  {
   "cell_type": "code",
   "execution_count": null,
   "id": "south-hello",
   "metadata": {},
   "outputs": [],
   "source": []
  },
  {
   "cell_type": "code",
   "execution_count": 118,
   "id": "silver-workplace",
   "metadata": {},
   "outputs": [
    {
     "data": {
      "image/png": "[encoded data removed]",
      "text/plain": [
       "<Figure size 1440x1080 with 2 Axes>"
      ]
     },
     "metadata": {
      "needs_background": "light"
     },
     "output_type": "display_data"
    }
   ],
   "source": [
    "# POPULAR ROUTES/SEGMENTS AUG-JAN\n",
    "\n",
    "routes=round(augjan.groupby('route')[['boardings','alightings']].agg('sum').reset_index(),2)\n",
    "routesordered=routes.nlargest(len(routes),'boardings').reset_index()\n",
    "routesordered=routesordered.drop(labels='index',axis=1)\n",
    "routesordered # to_csv to make record\n",
    "\n",
    "bymonth=round(augjan.groupby('month')[['boardings','alightings']].agg('sum').reset_index(),2)\n",
    "bymonth # to_csv to make record\n",
    "\n",
    "df=pd.DataFrame({\"bymonth\":bymonth['boardings'],\"month\":monthlist[5:]})\n",
    "\n",
    "fig, axes = plt.subplots(2, figsize=(20,15))\n",
    "sns.barplot(ax=axes[0],data=routesordered, x='route',y=\"boardings\")\n",
    "axes[0].set_ylim(0,routesordered['boardings'].max()+(routesordered['boardings'].max()*0.35))\n",
    "sns.barplot(ax=axes[1],data=df,x='month',y='bymonth')\n",
    "axes[1].set_ylim(0,bymonth['boardings'].max()+(bymonth['boardings'].max()*0.35))\n",
    "plt.show()"
   ]
  },
  {
   "cell_type": "code",
   "execution_count": 119,
   "id": "boring-genesis",
   "metadata": {},
   "outputs": [
    {
     "data": {
      "application/vnd.plotly.v1+json": {
       "config": {
        "plotlyServerURL": "https://plot.ly"
       },
       "data": [
        {
         "alignmentgroup": "True",
         "hovertemplate": "boardings=%{x}<br>stop=%{y}<extra></extra>",
         "legendgroup": "",
         "marker": {
          "color": "#636efa"
         },
         "name": "",
         "offsetgroup": "",
         "orientation": "h",
         "showlegend": false,
         "textposition": "auto",
         "type": "bar",
         "x": [
          95,
          18,
          103,
          50,
          198,
          35,
          4,
          146,
          341,
          26
         ],
         "xaxis": "x",
         "y": [
          "10053 Campus Way South",
          "10100 Campus Way S",
          "10147 Campus Way South",
          "10233 Campus Way South",
          "1100 Owens Rd",
          "1400 Merchantile Ln",
          "1441 McCormick Dr",
          "28th Ave at Keating St",
          "28th Ave at Keith St",
          "28th Ave at Kenton Pl"
         ],
         "yaxis": "y"
        }
       ],
       "layout": {
        "barmode": "relative",
        "height": 400,
        "legend": {
         "tracegroupgap": 0
        },
        "template": {
         "data": {
          "bar": [
           {
            "error_x": {
             "color": "#2a3f5f"
            },
            "error_y": {
             "color": "#2a3f5f"
            },
            "marker": {
             "line": {
              "color": "#E5ECF6",
              "width": 0.5
             }
            },
            "type": "bar"
           }
          ],
          "barpolar": [
           {
            "marker": {
             "line": {
              "color": "#E5ECF6",
              "width": 0.5
             }
            },
            "type": "barpolar"
           }
          ],
          "carpet": [
           {
            "aaxis": {
             "endlinecolor": "#2a3f5f",
             "gridcolor": "white",
             "linecolor": "white",
             "minorgridcolor": "white",
             "startlinecolor": "#2a3f5f"
            },
            "baxis": {
             "endlinecolor": "#2a3f5f",
             "gridcolor": "white",
             "linecolor": "white",
             "minorgridcolor": "white",
             "startlinecolor": "#2a3f5f"
            },
            "type": "carpet"
           }
          ],
          "choropleth": [
           {
            "colorbar": {
             "outlinewidth": 0,
             "ticks": ""
            },
            "type": "choropleth"
           }
          ],
          "contour": [
           {
            "colorbar": {
             "outlinewidth": 0,
             "ticks": ""
            },
            "colorscale": [
             [
              0,
              "#0d0887"
             ],
             [
              0.1111111111111111,
              "#46039f"
             ],
             [
              0.2222222222222222,
              "#7201a8"
             ],
             [
              0.3333333333333333,
              "#9c179e"
             ],
             [
              0.4444444444444444,
              "#bd3786"
             ],
             [
              0.5555555555555556,
              "#d8576b"
             ],
             [
              0.6666666666666666,
              "#ed7953"
             ],
             [
              0.7777777777777778,
              "#fb9f3a"
             ],
             [
              0.8888888888888888,
              "#fdca26"
             ],
             [
              1,
              "#f0f921"
             ]
            ],
            "type": "contour"
           }
          ],
          "contourcarpet": [
           {
            "colorbar": {
             "outlinewidth": 0,
             "ticks": ""
            },
            "type": "contourcarpet"
           }
          ],
          "heatmap": [
           {
            "colorbar": {
             "outlinewidth": 0,
             "ticks": ""
            },
            "colorscale": [
             [
              0,
              "#0d0887"
             ],
             [
              0.1111111111111111,
              "#46039f"
             ],
             [
              0.2222222222222222,
              "#7201a8"
             ],
             [
              0.3333333333333333,
              "#9c179e"
             ],
             [
              0.4444444444444444,
              "#bd3786"
             ],
             [
              0.5555555555555556,
              "#d8576b"
             ],
             [
              0.6666666666666666,
              "#ed7953"
             ],
             [
              0.7777777777777778,
              "#fb9f3a"
             ],
             [
              0.8888888888888888,
              "#fdca26"
             ],
             [
              1,
              "#f0f921"
             ]
            ],
            "type": "heatmap"
           }
          ],
          "heatmapgl": [
           {
            "colorbar": {
             "outlinewidth": 0,
             "ticks": ""
            },
            "colorscale": [
             [
              0,
              "#0d0887"
             ],
             [
              0.1111111111111111,
              "#46039f"
             ],
             [
              0.2222222222222222,
              "#7201a8"
             ],
             [
              0.3333333333333333,
              "#9c179e"
             ],
             [
              0.4444444444444444,
              "#bd3786"
             ],
             [
              0.5555555555555556,
              "#d8576b"
             ],
             [
              0.6666666666666666,
              "#ed7953"
             ],
             [
              0.7777777777777778,
              "#fb9f3a"
             ],
             [
              0.8888888888888888,
              "#fdca26"
             ],
             [
              1,
              "#f0f921"
             ]
            ],
            "type": "heatmapgl"
           }
          ],
          "histogram": [
           {
            "marker": {
             "colorbar": {
              "outlinewidth": 0,
              "ticks": ""
             }
            },
            "type": "histogram"
           }
          ],
          "histogram2d": [
           {
            "colorbar": {
             "outlinewidth": 0,
             "ticks": ""
            },
            "colorscale": [
             [
              0,
              "#0d0887"
             ],
             [
              0.1111111111111111,
              "#46039f"
             ],
             [
              0.2222222222222222,
              "#7201a8"
             ],
             [
              0.3333333333333333,
              "#9c179e"
             ],
             [
              0.4444444444444444,
              "#bd3786"
             ],
             [
              0.5555555555555556,
              "#d8576b"
             ],
             [
              0.6666666666666666,
              "#ed7953"
             ],
             [
              0.7777777777777778,
              "#fb9f3a"
             ],
             [
              0.8888888888888888,
              "#fdca26"
             ],
             [
              1,
              "#f0f921"
             ]
            ],
            "type": "histogram2d"
           }
          ],
          "histogram2dcontour": [
           {
            "colorbar": {
             "outlinewidth": 0,
             "ticks": ""
            },
            "colorscale": [
             [
              0,
              "#0d0887"
             ],
             [
              0.1111111111111111,
              "#46039f"
             ],
             [
              0.2222222222222222,
              "#7201a8"
             ],
             [
              0.3333333333333333,
              "#9c179e"
             ],
             [
              0.4444444444444444,
              "#bd3786"
             ],
             [
              0.5555555555555556,
              "#d8576b"
             ],
             [
              0.6666666666666666,
              "#ed7953"
             ],
             [
              0.7777777777777778,
              "#fb9f3a"
             ],
             [
              0.8888888888888888,
              "#fdca26"
             ],
             [
              1,
              "#f0f921"
             ]
            ],
            "type": "histogram2dcontour"
           }
          ],
          "mesh3d": [
           {
            "colorbar": {
             "outlinewidth": 0,
             "ticks": ""
            },
            "type": "mesh3d"
           }
          ],
          "parcoords": [
           {
            "line": {
             "colorbar": {
              "outlinewidth": 0,
              "ticks": ""
             }
            },
            "type": "parcoords"
           }
          ],
          "pie": [
           {
            "automargin": true,
            "type": "pie"
           }
          ],
          "scatter": [
           {
            "marker": {
             "colorbar": {
              "outlinewidth": 0,
              "ticks": ""
             }
            },
            "type": "scatter"
           }
          ],
          "scatter3d": [
           {
            "line": {
             "colorbar": {
              "outlinewidth": 0,
              "ticks": ""
             }
            },
            "marker": {
             "colorbar": {
              "outlinewidth": 0,
              "ticks": ""
             }
            },
            "type": "scatter3d"
           }
          ],
          "scattercarpet": [
           {
            "marker": {
             "colorbar": {
              "outlinewidth": 0,
              "ticks": ""
             }
            },
            "type": "scattercarpet"
           }
          ],
          "scattergeo": [
           {
            "marker": {
             "colorbar": {
              "outlinewidth": 0,
              "ticks": ""
             }
            },
            "type": "scattergeo"
           }
          ],
          "scattergl": [
           {
            "marker": {
             "colorbar": {
              "outlinewidth": 0,
              "ticks": ""
             }
            },
            "type": "scattergl"
           }
          ],
          "scattermapbox": [
           {
            "marker": {
             "colorbar": {
              "outlinewidth": 0,
              "ticks": ""
             }
            },
            "type": "scattermapbox"
           }
          ],
          "scatterpolar": [
           {
            "marker": {
             "colorbar": {
              "outlinewidth": 0,
              "ticks": ""
             }
            },
            "type": "scatterpolar"
           }
          ],
          "scatterpolargl": [
           {
            "marker": {
             "colorbar": {
              "outlinewidth": 0,
              "ticks": ""
             }
            },
            "type": "scatterpolargl"
           }
          ],
          "scatterternary": [
           {
            "marker": {
             "colorbar": {
              "outlinewidth": 0,
              "ticks": ""
             }
            },
            "type": "scatterternary"
           }
          ],
          "surface": [
           {
            "colorbar": {
             "outlinewidth": 0,
             "ticks": ""
            },
            "colorscale": [
             [
              0,
              "#0d0887"
             ],
             [
              0.1111111111111111,
              "#46039f"
             ],
             [
              0.2222222222222222,
              "#7201a8"
             ],
             [
              0.3333333333333333,
              "#9c179e"
             ],
             [
              0.4444444444444444,
              "#bd3786"
             ],
             [
              0.5555555555555556,
              "#d8576b"
             ],
             [
              0.6666666666666666,
              "#ed7953"
             ],
             [
              0.7777777777777778,
              "#fb9f3a"
             ],
             [
              0.8888888888888888,
              "#fdca26"
             ],
             [
              1,
              "#f0f921"
             ]
            ],
            "type": "surface"
           }
          ],
          "table": [
           {
            "cells": {
             "fill": {
              "color": "#EBF0F8"
             },
             "line": {
              "color": "white"
             }
            },
            "header": {
             "fill": {
              "color": "#C8D4E3"
             },
             "line": {
              "color": "white"
             }
            },
            "type": "table"
           }
          ]
         },
         "layout": {
          "annotationdefaults": {
           "arrowcolor": "#2a3f5f",
           "arrowhead": 0,
           "arrowwidth": 1
          },
          "autotypenumbers": "strict",
          "coloraxis": {
           "colorbar": {
            "outlinewidth": 0,
            "ticks": ""
           }
          },
          "colorscale": {
           "diverging": [
            [
             0,
             "#8e0152"
            ],
            [
             0.1,
             "#c51b7d"
            ],
            [
             0.2,
             "#de77ae"
            ],
            [
             0.3,
             "#f1b6da"
            ],
            [
             0.4,
             "#fde0ef"
            ],
            [
             0.5,
             "#f7f7f7"
            ],
            [
             0.6,
             "#e6f5d0"
            ],
            [
             0.7,
             "#b8e186"
            ],
            [
             0.8,
             "#7fbc41"
            ],
            [
             0.9,
             "#4d9221"
            ],
            [
             1,
             "#276419"
            ]
           ],
           "sequential": [
            [
             0,
             "#0d0887"
            ],
            [
             0.1111111111111111,
             "#46039f"
            ],
            [
             0.2222222222222222,
             "#7201a8"
            ],
            [
             0.3333333333333333,
             "#9c179e"
            ],
            [
             0.4444444444444444,
             "#bd3786"
            ],
            [
             0.5555555555555556,
             "#d8576b"
            ],
            [
             0.6666666666666666,
             "#ed7953"
            ],
            [
             0.7777777777777778,
             "#fb9f3a"
            ],
            [
             0.8888888888888888,
             "#fdca26"
            ],
            [
             1,
             "#f0f921"
            ]
           ],
           "sequentialminus": [
            [
             0,
             "#0d0887"
            ],
            [
             0.1111111111111111,
             "#46039f"
            ],
            [
             0.2222222222222222,
             "#7201a8"
            ],
            [
             0.3333333333333333,
             "#9c179e"
            ],
            [
             0.4444444444444444,
             "#bd3786"
            ],
            [
             0.5555555555555556,
             "#d8576b"
            ],
            [
             0.6666666666666666,
             "#ed7953"
            ],
            [
             0.7777777777777778,
             "#fb9f3a"
            ],
            [
             0.8888888888888888,
             "#fdca26"
            ],
            [
             1,
             "#f0f921"
            ]
           ]
          },
          "colorway": [
           "#636efa",
           "#EF553B",
           "#00cc96",
           "#ab63fa",
           "#FFA15A",
           "#19d3f3",
           "#FF6692",
           "#B6E880",
           "#FF97FF",
           "#FECB52"
          ],
          "font": {
           "color": "#2a3f5f"
          },
          "geo": {
           "bgcolor": "white",
           "lakecolor": "white",
           "landcolor": "#E5ECF6",
           "showlakes": true,
           "showland": true,
           "subunitcolor": "white"
          },
          "hoverlabel": {
           "align": "left"
          },
          "hovermode": "closest",
          "mapbox": {
           "style": "light"
          },
          "paper_bgcolor": "white",
          "plot_bgcolor": "#E5ECF6",
          "polar": {
           "angularaxis": {
            "gridcolor": "white",
            "linecolor": "white",
            "ticks": ""
           },
           "bgcolor": "#E5ECF6",
           "radialaxis": {
            "gridcolor": "white",
            "linecolor": "white",
            "ticks": ""
           }
          },
          "scene": {
           "xaxis": {
            "backgroundcolor": "#E5ECF6",
            "gridcolor": "white",
            "gridwidth": 2,
            "linecolor": "white",
            "showbackground": true,
            "ticks": "",
            "zerolinecolor": "white"
           },
           "yaxis": {
            "backgroundcolor": "#E5ECF6",
            "gridcolor": "white",
            "gridwidth": 2,
            "linecolor": "white",
            "showbackground": true,
            "ticks": "",
            "zerolinecolor": "white"
           },
           "zaxis": {
            "backgroundcolor": "#E5ECF6",
            "gridcolor": "white",
            "gridwidth": 2,
            "linecolor": "white",
            "showbackground": true,
            "ticks": "",
            "zerolinecolor": "white"
           }
          },
          "shapedefaults": {
           "line": {
            "color": "#2a3f5f"
           }
          },
          "ternary": {
           "aaxis": {
            "gridcolor": "white",
            "linecolor": "white",
            "ticks": ""
           },
           "baxis": {
            "gridcolor": "white",
            "linecolor": "white",
            "ticks": ""
           },
           "bgcolor": "#E5ECF6",
           "caxis": {
            "gridcolor": "white",
            "linecolor": "white",
            "ticks": ""
           }
          },
          "title": {
           "x": 0.05
          },
          "xaxis": {
           "automargin": true,
           "gridcolor": "white",
           "linecolor": "white",
           "ticks": "",
           "title": {
            "standoff": 15
           },
           "zerolinecolor": "white",
           "zerolinewidth": 2
          },
          "yaxis": {
           "automargin": true,
           "gridcolor": "white",
           "linecolor": "white",
           "ticks": "",
           "title": {
            "standoff": 15
           },
           "zerolinecolor": "white",
           "zerolinewidth": 2
          }
         }
        },
        "title": {
         "text": "TOP BOARDINGS BY STOP 2020"
        },
        "xaxis": {
         "anchor": "y",
         "domain": [
          0,
          1
         ],
         "title": {
          "text": "boardings"
         }
        },
        "yaxis": {
         "anchor": "x",
         "domain": [
          0,
          1
         ],
         "title": {
          "text": "stop"
         }
        }
       }
      },
      "text/html": [
       "<div>                            <div id=\"7404d049-8f98-4c95-bafc-9ec3e86afa98\" class=\"plotly-graph-div\" style=\"height:400px; width:100%;\"></div>            <script type=\"text/javascript\">                require([\"plotly\"], function(Plotly) {                    window.PLOTLYENV=window.PLOTLYENV || {};                                    if (document.getElementById(\"7404d049-8f98-4c95-bafc-9ec3e86afa98\")) {                    Plotly.newPlot(                        \"7404d049-8f98-4c95-bafc-9ec3e86afa98\",                        [{\"alignmentgroup\": \"True\", \"hovertemplate\": \"boardings=%{x}<br>stop=%{y}<extra></extra>\", \"legendgroup\": \"\", \"marker\": {\"color\": \"#636efa\"}, \"name\": \"\", \"offsetgroup\": \"\", \"orientation\": \"h\", \"showlegend\": false, \"textposition\": \"auto\", \"type\": \"bar\", \"x\": [95, 18, 103, 50, 198, 35, 4, 146, 341, 26], \"xaxis\": \"x\", \"y\": [\"10053 Campus Way South\", \"10100 Campus Way S\", \"10147 Campus Way South\", \"10233 Campus Way South\", \"1100 Owens Rd\", \"1400 Merchantile Ln\", \"1441 McCormick Dr\", \"28th Ave at Keating St\", \"28th Ave at Keith St\", \"28th Ave at Kenton Pl\"], \"yaxis\": \"y\"}],                        {\"barmode\": \"relative\", \"height\": 400, \"legend\": {\"tracegroupgap\": 0}, \"template\": {\"data\": {\"bar\": [{\"error_x\": {\"color\": \"#2a3f5f\"}, \"error_y\": {\"color\": \"#2a3f5f\"}, \"marker\": {\"line\": {\"color\": \"#E5ECF6\", \"width\": 0.5}}, \"type\": \"bar\"}], \"barpolar\": [{\"marker\": {\"line\": {\"color\": \"#E5ECF6\", \"width\": 0.5}}, \"type\": \"barpolar\"}], \"carpet\": [{\"aaxis\": {\"endlinecolor\": \"#2a3f5f\", \"gridcolor\": \"white\", \"linecolor\": \"white\", \"minorgridcolor\": \"white\", \"startlinecolor\": \"#2a3f5f\"}, \"baxis\": {\"endlinecolor\": \"#2a3f5f\", \"gridcolor\": \"white\", \"linecolor\": \"white\", \"minorgridcolor\": \"white\", \"startlinecolor\": \"#2a3f5f\"}, \"type\": \"carpet\"}], \"choropleth\": [{\"colorbar\": {\"outlinewidth\": 0, \"ticks\": \"\"}, \"type\": \"choropleth\"}], \"contour\": [{\"colorbar\": {\"outlinewidth\": 0, \"ticks\": \"\"}, \"colorscale\": [[0.0, \"#0d0887\"], [0.1111111111111111, \"#46039f\"], [0.2222222222222222, \"#7201a8\"], [0.3333333333333333, \"#9c179e\"], [0.4444444444444444, \"#bd3786\"], [0.5555555555555556, \"#d8576b\"], [0.6666666666666666, \"#ed7953\"], [0.7777777777777778, \"#fb9f3a\"], [0.8888888888888888, \"#fdca26\"], [1.0, \"#f0f921\"]], \"type\": \"contour\"}], \"contourcarpet\": [{\"colorbar\": {\"outlinewidth\": 0, \"ticks\": \"\"}, \"type\": \"contourcarpet\"}], \"heatmap\": [{\"colorbar\": {\"outlinewidth\": 0, \"ticks\": \"\"}, \"colorscale\": [[0.0, \"#0d0887\"], [0.1111111111111111, \"#46039f\"], [0.2222222222222222, \"#7201a8\"], [0.3333333333333333, \"#9c179e\"], [0.4444444444444444, \"#bd3786\"], [0.5555555555555556, \"#d8576b\"], [0.6666666666666666, \"#ed7953\"], [0.7777777777777778, \"#fb9f3a\"], [0.8888888888888888, \"#fdca26\"], [1.0, \"#f0f921\"]], \"type\": \"heatmap\"}], \"heatmapgl\": [{\"colorbar\": {\"outlinewidth\": 0, \"ticks\": \"\"}, \"colorscale\": [[0.0, \"#0d0887\"], [0.1111111111111111, \"#46039f\"], [0.2222222222222222, \"#7201a8\"], [0.3333333333333333, \"#9c179e\"], [0.4444444444444444, \"#bd3786\"], [0.5555555555555556, \"#d8576b\"], [0.6666666666666666, \"#ed7953\"], [0.7777777777777778, \"#fb9f3a\"], [0.8888888888888888, \"#fdca26\"], [1.0, \"#f0f921\"]], \"type\": \"heatmapgl\"}], \"histogram\": [{\"marker\": {\"colorbar\": {\"outlinewidth\": 0, \"ticks\": \"\"}}, \"type\": \"histogram\"}], \"histogram2d\": [{\"colorbar\": {\"outlinewidth\": 0, \"ticks\": \"\"}, \"colorscale\": [[0.0, \"#0d0887\"], [0.1111111111111111, \"#46039f\"], [0.2222222222222222, \"#7201a8\"], [0.3333333333333333, \"#9c179e\"], [0.4444444444444444, \"#bd3786\"], [0.5555555555555556, \"#d8576b\"], [0.6666666666666666, \"#ed7953\"], [0.7777777777777778, \"#fb9f3a\"], [0.8888888888888888, \"#fdca26\"], [1.0, \"#f0f921\"]], \"type\": \"histogram2d\"}], \"histogram2dcontour\": [{\"colorbar\": {\"outlinewidth\": 0, \"ticks\": \"\"}, \"colorscale\": [[0.0, \"#0d0887\"], [0.1111111111111111, \"#46039f\"], [0.2222222222222222, \"#7201a8\"], [0.3333333333333333, \"#9c179e\"], [0.4444444444444444, \"#bd3786\"], [0.5555555555555556, \"#d8576b\"], [0.6666666666666666, \"#ed7953\"], [0.7777777777777778, \"#fb9f3a\"], [0.8888888888888888, \"#fdca26\"], [1.0, \"#f0f921\"]], \"type\": \"histogram2dcontour\"}], \"mesh3d\": [{\"colorbar\": {\"outlinewidth\": 0, \"ticks\": \"\"}, \"type\": \"mesh3d\"}], \"parcoords\": [{\"line\": {\"colorbar\": {\"outlinewidth\": 0, \"ticks\": \"\"}}, \"type\": \"parcoords\"}], \"pie\": [{\"automargin\": true, \"type\": \"pie\"}], \"scatter\": [{\"marker\": {\"colorbar\": {\"outlinewidth\": 0, \"ticks\": \"\"}}, \"type\": \"scatter\"}], \"scatter3d\": [{\"line\": {\"colorbar\": {\"outlinewidth\": 0, \"ticks\": \"\"}}, \"marker\": {\"colorbar\": {\"outlinewidth\": 0, \"ticks\": \"\"}}, \"type\": \"scatter3d\"}], \"scattercarpet\": [{\"marker\": {\"colorbar\": {\"outlinewidth\": 0, \"ticks\": \"\"}}, \"type\": \"scattercarpet\"}], \"scattergeo\": [{\"marker\": {\"colorbar\": {\"outlinewidth\": 0, \"ticks\": \"\"}}, \"type\": \"scattergeo\"}], \"scattergl\": [{\"marker\": {\"colorbar\": {\"outlinewidth\": 0, \"ticks\": \"\"}}, \"type\": \"scattergl\"}], \"scattermapbox\": [{\"marker\": {\"colorbar\": {\"outlinewidth\": 0, \"ticks\": \"\"}}, \"type\": \"scattermapbox\"}], \"scatterpolar\": [{\"marker\": {\"colorbar\": {\"outlinewidth\": 0, \"ticks\": \"\"}}, \"type\": \"scatterpolar\"}], \"scatterpolargl\": [{\"marker\": {\"colorbar\": {\"outlinewidth\": 0, \"ticks\": \"\"}}, \"type\": \"scatterpolargl\"}], \"scatterternary\": [{\"marker\": {\"colorbar\": {\"outlinewidth\": 0, \"ticks\": \"\"}}, \"type\": \"scatterternary\"}], \"surface\": [{\"colorbar\": {\"outlinewidth\": 0, \"ticks\": \"\"}, \"colorscale\": [[0.0, \"#0d0887\"], [0.1111111111111111, \"#46039f\"], [0.2222222222222222, \"#7201a8\"], [0.3333333333333333, \"#9c179e\"], [0.4444444444444444, \"#bd3786\"], [0.5555555555555556, \"#d8576b\"], [0.6666666666666666, \"#ed7953\"], [0.7777777777777778, \"#fb9f3a\"], [0.8888888888888888, \"#fdca26\"], [1.0, \"#f0f921\"]], \"type\": \"surface\"}], \"table\": [{\"cells\": {\"fill\": {\"color\": \"#EBF0F8\"}, \"line\": {\"color\": \"white\"}}, \"header\": {\"fill\": {\"color\": \"#C8D4E3\"}, \"line\": {\"color\": \"white\"}}, \"type\": \"table\"}]}, \"layout\": {\"annotationdefaults\": {\"arrowcolor\": \"#2a3f5f\", \"arrowhead\": 0, \"arrowwidth\": 1}, \"autotypenumbers\": \"strict\", \"coloraxis\": {\"colorbar\": {\"outlinewidth\": 0, \"ticks\": \"\"}}, \"colorscale\": {\"diverging\": [[0, \"#8e0152\"], [0.1, \"#c51b7d\"], [0.2, \"#de77ae\"], [0.3, \"#f1b6da\"], [0.4, \"#fde0ef\"], [0.5, \"#f7f7f7\"], [0.6, \"#e6f5d0\"], [0.7, \"#b8e186\"], [0.8, \"#7fbc41\"], [0.9, \"#4d9221\"], [1, \"#276419\"]], \"sequential\": [[0.0, \"#0d0887\"], [0.1111111111111111, \"#46039f\"], [0.2222222222222222, \"#7201a8\"], [0.3333333333333333, \"#9c179e\"], [0.4444444444444444, \"#bd3786\"], [0.5555555555555556, \"#d8576b\"], [0.6666666666666666, \"#ed7953\"], [0.7777777777777778, \"#fb9f3a\"], [0.8888888888888888, \"#fdca26\"], [1.0, \"#f0f921\"]], \"sequentialminus\": [[0.0, \"#0d0887\"], [0.1111111111111111, \"#46039f\"], [0.2222222222222222, \"#7201a8\"], [0.3333333333333333, \"#9c179e\"], [0.4444444444444444, \"#bd3786\"], [0.5555555555555556, \"#d8576b\"], [0.6666666666666666, \"#ed7953\"], [0.7777777777777778, \"#fb9f3a\"], [0.8888888888888888, \"#fdca26\"], [1.0, \"#f0f921\"]]}, \"colorway\": [\"#636efa\", \"#EF553B\", \"#00cc96\", \"#ab63fa\", \"#FFA15A\", \"#19d3f3\", \"#FF6692\", \"#B6E880\", \"#FF97FF\", \"#FECB52\"], \"font\": {\"color\": \"#2a3f5f\"}, \"geo\": {\"bgcolor\": \"white\", \"lakecolor\": \"white\", \"landcolor\": \"#E5ECF6\", \"showlakes\": true, \"showland\": true, \"subunitcolor\": \"white\"}, \"hoverlabel\": {\"align\": \"left\"}, \"hovermode\": \"closest\", \"mapbox\": {\"style\": \"light\"}, \"paper_bgcolor\": \"white\", \"plot_bgcolor\": \"#E5ECF6\", \"polar\": {\"angularaxis\": {\"gridcolor\": \"white\", \"linecolor\": \"white\", \"ticks\": \"\"}, \"bgcolor\": \"#E5ECF6\", \"radialaxis\": {\"gridcolor\": \"white\", \"linecolor\": \"white\", \"ticks\": \"\"}}, \"scene\": {\"xaxis\": {\"backgroundcolor\": \"#E5ECF6\", \"gridcolor\": \"white\", \"gridwidth\": 2, \"linecolor\": \"white\", \"showbackground\": true, \"ticks\": \"\", \"zerolinecolor\": \"white\"}, \"yaxis\": {\"backgroundcolor\": \"#E5ECF6\", \"gridcolor\": \"white\", \"gridwidth\": 2, \"linecolor\": \"white\", \"showbackground\": true, \"ticks\": \"\", \"zerolinecolor\": \"white\"}, \"zaxis\": {\"backgroundcolor\": \"#E5ECF6\", \"gridcolor\": \"white\", \"gridwidth\": 2, \"linecolor\": \"white\", \"showbackground\": true, \"ticks\": \"\", \"zerolinecolor\": \"white\"}}, \"shapedefaults\": {\"line\": {\"color\": \"#2a3f5f\"}}, \"ternary\": {\"aaxis\": {\"gridcolor\": \"white\", \"linecolor\": \"white\", \"ticks\": \"\"}, \"baxis\": {\"gridcolor\": \"white\", \"linecolor\": \"white\", \"ticks\": \"\"}, \"bgcolor\": \"#E5ECF6\", \"caxis\": {\"gridcolor\": \"white\", \"linecolor\": \"white\", \"ticks\": \"\"}}, \"title\": {\"x\": 0.05}, \"xaxis\": {\"automargin\": true, \"gridcolor\": \"white\", \"linecolor\": \"white\", \"ticks\": \"\", \"title\": {\"standoff\": 15}, \"zerolinecolor\": \"white\", \"zerolinewidth\": 2}, \"yaxis\": {\"automargin\": true, \"gridcolor\": \"white\", \"linecolor\": \"white\", \"ticks\": \"\", \"title\": {\"standoff\": 15}, \"zerolinecolor\": \"white\", \"zerolinewidth\": 2}}}, \"title\": {\"text\": \"TOP BOARDINGS BY STOP 2020\"}, \"xaxis\": {\"anchor\": \"y\", \"domain\": [0.0, 1.0], \"title\": {\"text\": \"boardings\"}}, \"yaxis\": {\"anchor\": \"x\", \"domain\": [0.0, 1.0], \"title\": {\"text\": \"stop\"}}},                        {\"responsive\": true}                    ).then(function(){\n",
       "                            \n",
       "var gd = document.getElementById('7404d049-8f98-4c95-bafc-9ec3e86afa98');\n",
       "var x = new MutationObserver(function (mutations, observer) {{\n",
       "        var display = window.getComputedStyle(gd).display;\n",
       "        if (!display || display === 'none') {{\n",
       "            console.log([gd, 'removed!']);\n",
       "            Plotly.purge(gd);\n",
       "            observer.disconnect();\n",
       "        }}\n",
       "}});\n",
       "\n",
       "// Listen for the removal of the full notebook cells\n",
       "var notebookContainer = gd.closest('#notebook-container');\n",
       "if (notebookContainer) {{\n",
       "    x.observe(notebookContainer, {childList: true});\n",
       "}}\n",
       "\n",
       "// Listen for the clearing of the current output cell\n",
       "var outputEl = gd.closest('.output');\n",
       "if (outputEl) {{\n",
       "    x.observe(outputEl, {childList: true});\n",
       "}}\n",
       "\n",
       "                        })                };                });            </script>        </div>"
      ]
     },
     "metadata": {},
     "output_type": "display_data"
    }
   ],
   "source": [
    "stops=round(augjan.groupby('stop')[['boardings','alightings']].agg('sum').reset_index(),2)\n",
    "stops\n",
    "\n",
    "fig = px.bar(stops.iloc[0:10], x=\"boardings\", y=\"stop\",  orientation='h', #color='Route',\n",
    "hover_data=[\"boardings\"],height=400,title='TOP BOARDINGS BY STOP 2020')\n",
    "fig.show()"
   ]
  },
  {
   "cell_type": "code",
   "execution_count": 120,
   "id": "apparent-medication",
   "metadata": {},
   "outputs": [
    {
     "data": {
      "text/html": [
       "<div>\n",
       "<style scoped>\n",
       "    .dataframe tbody tr th:only-of-type {\n",
       "        vertical-align: middle;\n",
       "    }\n",
       "\n",
       "    .dataframe tbody tr th {\n",
       "        vertical-align: top;\n",
       "    }\n",
       "\n",
       "    .dataframe thead th {\n",
       "        text-align: right;\n",
       "    }\n",
       "</style>\n",
       "<table border=\"1\" class=\"dataframe\">\n",
       "  <thead>\n",
       "    <tr style=\"text-align: right;\">\n",
       "      <th></th>\n",
       "      <th>stop</th>\n",
       "      <th>boardings</th>\n",
       "      <th>alightings</th>\n",
       "    </tr>\n",
       "  </thead>\n",
       "  <tbody>\n",
       "    <tr>\n",
       "      <th>376</th>\n",
       "      <td>Naylor Rd Station Bay H</td>\n",
       "      <td>6946</td>\n",
       "      <td>6065</td>\n",
       "    </tr>\n",
       "    <tr>\n",
       "      <th>379</th>\n",
       "      <td>New Carrollton Station - Arrival</td>\n",
       "      <td>132</td>\n",
       "      <td>5249</td>\n",
       "    </tr>\n",
       "    <tr>\n",
       "      <th>277</th>\n",
       "      <td>Greenbelt Metro Station (Arrival)</td>\n",
       "      <td>718</td>\n",
       "      <td>5072</td>\n",
       "    </tr>\n",
       "    <tr>\n",
       "      <th>491</th>\n",
       "      <td>Southern Ave Station Bay E - Arrival</td>\n",
       "      <td>35</td>\n",
       "      <td>5049</td>\n",
       "    </tr>\n",
       "    <tr>\n",
       "      <th>584</th>\n",
       "      <td>Woody Terrace at Woodyard Rd</td>\n",
       "      <td>2143</td>\n",
       "      <td>4547</td>\n",
       "    </tr>\n",
       "    <tr>\n",
       "      <th>...</th>\n",
       "      <td>...</td>\n",
       "      <td>...</td>\n",
       "      <td>...</td>\n",
       "    </tr>\n",
       "    <tr>\n",
       "      <th>328</th>\n",
       "      <td>John Rogers Blvd at Courtland Ln</td>\n",
       "      <td>2</td>\n",
       "      <td>0</td>\n",
       "    </tr>\n",
       "    <tr>\n",
       "      <th>211</th>\n",
       "      <td>Brown Station Rd at Dille Dr</td>\n",
       "      <td>63</td>\n",
       "      <td>0</td>\n",
       "    </tr>\n",
       "    <tr>\n",
       "      <th>98</th>\n",
       "      <td>Apollo Dr at Mercantile Ln</td>\n",
       "      <td>4</td>\n",
       "      <td>0</td>\n",
       "    </tr>\n",
       "    <tr>\n",
       "      <th>436</th>\n",
       "      <td>Piscataway Rd at Gwynndale Dr</td>\n",
       "      <td>2</td>\n",
       "      <td>0</td>\n",
       "    </tr>\n",
       "    <tr>\n",
       "      <th>251</th>\n",
       "      <td>Equestrian Center Lot 1</td>\n",
       "      <td>14</td>\n",
       "      <td>0</td>\n",
       "    </tr>\n",
       "  </tbody>\n",
       "</table>\n",
       "<p>592 rows × 3 columns</p>\n",
       "</div>"
      ],
      "text/plain": [
       "                                     stop  boardings  alightings\n",
       "376               Naylor Rd Station Bay H       6946        6065\n",
       "379      New Carrollton Station - Arrival        132        5249\n",
       "277     Greenbelt Metro Station (Arrival)        718        5072\n",
       "491  Southern Ave Station Bay E - Arrival         35        5049\n",
       "584          Woody Terrace at Woodyard Rd       2143        4547\n",
       "..                                    ...        ...         ...\n",
       "328      John Rogers Blvd at Courtland Ln          2           0\n",
       "211          Brown Station Rd at Dille Dr         63           0\n",
       "98             Apollo Dr at Mercantile Ln          4           0\n",
       "436         Piscataway Rd at Gwynndale Dr          2           0\n",
       "251               Equestrian Center Lot 1         14           0\n",
       "\n",
       "[592 rows x 3 columns]"
      ]
     },
     "execution_count": 120,
     "metadata": {},
     "output_type": "execute_result"
    }
   ],
   "source": [
    "stops.nlargest(len(stops),'boardings') # to_csv to make record\n",
    "stops.nlargest(len(stops),'alightings') # to_csv to make record"
   ]
  },
  {
   "cell_type": "code",
   "execution_count": 121,
   "id": "daily-marble",
   "metadata": {},
   "outputs": [
    {
     "data": {
      "image/png": "[encoded data removed]",
      "text/plain": [
       "<Figure size 1440x1080 with 2 Axes>"
      ]
     },
     "metadata": {
      "needs_background": "light"
     },
     "output_type": "display_data"
    }
   ],
   "source": [
    "#TOD\n",
    "\n",
    "todroutes=round(augjan.groupby(['hour','route'])[['boardings','alightings']].agg('sum').reset_index(),2)\n",
    "todroutes=todroutes.nlargest(len(todroutes),'boardings')\n",
    "todroutes # to_csv to make record\n",
    "\n",
    "fig, axes = plt.subplots(2, figsize=(20,15))\n",
    "axes[0]=sns.barplot(ax=axes[0],data=todroutes, x='hour',y=\"boardings\",ci=None)\n",
    "axes[1]=sns.barplot(ax=axes[1],data=todroutes, x='route',y='boardings',ci=None)\n",
    "plt.show()"
   ]
  },
  {
   "cell_type": "code",
   "execution_count": 122,
   "id": "cheap-reggae",
   "metadata": {},
   "outputs": [
    {
     "data": {
      "text/html": [
       "<div>\n",
       "<style scoped>\n",
       "    .dataframe tbody tr th:only-of-type {\n",
       "        vertical-align: middle;\n",
       "    }\n",
       "\n",
       "    .dataframe tbody tr th {\n",
       "        vertical-align: top;\n",
       "    }\n",
       "\n",
       "    .dataframe thead th {\n",
       "        text-align: right;\n",
       "    }\n",
       "</style>\n",
       "<table border=\"1\" class=\"dataframe\">\n",
       "  <thead>\n",
       "    <tr style=\"text-align: right;\">\n",
       "      <th></th>\n",
       "      <th>hour</th>\n",
       "      <th>route</th>\n",
       "      <th>boardings</th>\n",
       "      <th>alightings</th>\n",
       "    </tr>\n",
       "  </thead>\n",
       "  <tbody>\n",
       "    <tr>\n",
       "      <th>47</th>\n",
       "      <td>8</td>\n",
       "      <td>Route 32</td>\n",
       "      <td>2256</td>\n",
       "      <td>2467</td>\n",
       "    </tr>\n",
       "    <tr>\n",
       "      <th>167</th>\n",
       "      <td>17</td>\n",
       "      <td>Route 16</td>\n",
       "      <td>2515</td>\n",
       "      <td>2460</td>\n",
       "    </tr>\n",
       "    <tr>\n",
       "      <th>33</th>\n",
       "      <td>7</td>\n",
       "      <td>Route 32</td>\n",
       "      <td>2378</td>\n",
       "      <td>2460</td>\n",
       "    </tr>\n",
       "    <tr>\n",
       "      <th>158</th>\n",
       "      <td>16</td>\n",
       "      <td>Route 32</td>\n",
       "      <td>2464</td>\n",
       "      <td>2450</td>\n",
       "    </tr>\n",
       "    <tr>\n",
       "      <th>172</th>\n",
       "      <td>17</td>\n",
       "      <td>Route 32</td>\n",
       "      <td>2298</td>\n",
       "      <td>2390</td>\n",
       "    </tr>\n",
       "    <tr>\n",
       "      <th>...</th>\n",
       "      <td>...</td>\n",
       "      <td>...</td>\n",
       "      <td>...</td>\n",
       "      <td>...</td>\n",
       "    </tr>\n",
       "    <tr>\n",
       "      <th>151</th>\n",
       "      <td>15</td>\n",
       "      <td>Route 51 Loop X</td>\n",
       "      <td>2</td>\n",
       "      <td>3</td>\n",
       "    </tr>\n",
       "    <tr>\n",
       "      <th>201</th>\n",
       "      <td>19</td>\n",
       "      <td>Route 33</td>\n",
       "      <td>1</td>\n",
       "      <td>3</td>\n",
       "    </tr>\n",
       "    <tr>\n",
       "      <th>5</th>\n",
       "      <td>5</td>\n",
       "      <td>Route 28</td>\n",
       "      <td>2</td>\n",
       "      <td>2</td>\n",
       "    </tr>\n",
       "    <tr>\n",
       "      <th>192</th>\n",
       "      <td>18</td>\n",
       "      <td>Route 51 Loop B</td>\n",
       "      <td>1</td>\n",
       "      <td>1</td>\n",
       "    </tr>\n",
       "    <tr>\n",
       "      <th>12</th>\n",
       "      <td>5</td>\n",
       "      <td>Route 51 Loop B</td>\n",
       "      <td>1</td>\n",
       "      <td>1</td>\n",
       "    </tr>\n",
       "  </tbody>\n",
       "</table>\n",
       "<p>204 rows × 4 columns</p>\n",
       "</div>"
      ],
      "text/plain": [
       "     hour            route  boardings  alightings\n",
       "47      8         Route 32       2256        2467\n",
       "167    17         Route 16       2515        2460\n",
       "33      7         Route 32       2378        2460\n",
       "158    16         Route 32       2464        2450\n",
       "172    17         Route 32       2298        2390\n",
       "..    ...              ...        ...         ...\n",
       "151    15  Route 51 Loop X          2           3\n",
       "201    19         Route 33          1           3\n",
       "5       5         Route 28          2           2\n",
       "192    18  Route 51 Loop B          1           1\n",
       "12      5  Route 51 Loop B          1           1\n",
       "\n",
       "[204 rows x 4 columns]"
      ]
     },
     "execution_count": 122,
     "metadata": {},
     "output_type": "execute_result"
    }
   ],
   "source": [
    "todroutes.nlargest(len(todroutes),'boardings') # to_csv to make record\n",
    "todroutes.nlargest(len(todroutes),'alightings') # to_csv to make record"
   ]
  },
  {
   "cell_type": "code",
   "execution_count": 123,
   "id": "recreational-corps",
   "metadata": {},
   "outputs": [
    {
     "data": {
      "text/html": [
       "<div>\n",
       "<style scoped>\n",
       "    .dataframe tbody tr th:only-of-type {\n",
       "        vertical-align: middle;\n",
       "    }\n",
       "\n",
       "    .dataframe tbody tr th {\n",
       "        vertical-align: top;\n",
       "    }\n",
       "\n",
       "    .dataframe thead th {\n",
       "        text-align: right;\n",
       "    }\n",
       "</style>\n",
       "<table border=\"1\" class=\"dataframe\">\n",
       "  <thead>\n",
       "    <tr style=\"text-align: right;\">\n",
       "      <th></th>\n",
       "      <th>stop</th>\n",
       "      <th>boardings</th>\n",
       "    </tr>\n",
       "  </thead>\n",
       "  <tbody>\n",
       "    <tr>\n",
       "      <th>376</th>\n",
       "      <td>Naylor Rd Station Bay H</td>\n",
       "      <td>6946</td>\n",
       "    </tr>\n",
       "    <tr>\n",
       "      <th>158</th>\n",
       "      <td>Branch Ave Station Bus Bay J</td>\n",
       "      <td>5642</td>\n",
       "    </tr>\n",
       "    <tr>\n",
       "      <th>372</th>\n",
       "      <td>Morgan Blvd Metro Station</td>\n",
       "      <td>4989</td>\n",
       "    </tr>\n",
       "    <tr>\n",
       "      <th>378</th>\n",
       "      <td>New Carrollton Station</td>\n",
       "      <td>4861</td>\n",
       "    </tr>\n",
       "    <tr>\n",
       "      <th>490</th>\n",
       "      <td>Southern Ave Station Bay E</td>\n",
       "      <td>4568</td>\n",
       "    </tr>\n",
       "    <tr>\n",
       "      <th>...</th>\n",
       "      <td>...</td>\n",
       "      <td>...</td>\n",
       "    </tr>\n",
       "    <tr>\n",
       "      <th>330</th>\n",
       "      <td>John Rogers Blvd at Governor's Grove</td>\n",
       "      <td>0</td>\n",
       "    </tr>\n",
       "    <tr>\n",
       "      <th>16</th>\n",
       "      <td>3807 Old Crain Hwy - opposite</td>\n",
       "      <td>0</td>\n",
       "    </tr>\n",
       "    <tr>\n",
       "      <th>252</th>\n",
       "      <td>Equestrian Center Lot 1 (Hidden Arrival)</td>\n",
       "      <td>0</td>\n",
       "    </tr>\n",
       "    <tr>\n",
       "      <th>427</th>\n",
       "      <td>Oxon Hill Rd at Oxon Hill Fringe Parking Lot</td>\n",
       "      <td>0</td>\n",
       "    </tr>\n",
       "    <tr>\n",
       "      <th>540</th>\n",
       "      <td>Suitland Rd at Opposite Prem. #4211</td>\n",
       "      <td>0</td>\n",
       "    </tr>\n",
       "  </tbody>\n",
       "</table>\n",
       "<p>592 rows × 2 columns</p>\n",
       "</div>"
      ],
      "text/plain": [
       "                                             stop  boardings\n",
       "376                       Naylor Rd Station Bay H       6946\n",
       "158                  Branch Ave Station Bus Bay J       5642\n",
       "372                     Morgan Blvd Metro Station       4989\n",
       "378                        New Carrollton Station       4861\n",
       "490                    Southern Ave Station Bay E       4568\n",
       "..                                            ...        ...\n",
       "330          John Rogers Blvd at Governor's Grove          0\n",
       "16                  3807 Old Crain Hwy - opposite          0\n",
       "252      Equestrian Center Lot 1 (Hidden Arrival)          0\n",
       "427  Oxon Hill Rd at Oxon Hill Fringe Parking Lot          0\n",
       "540           Suitland Rd at Opposite Prem. #4211          0\n",
       "\n",
       "[592 rows x 2 columns]"
      ]
     },
     "execution_count": 123,
     "metadata": {},
     "output_type": "execute_result"
    }
   ],
   "source": [
    "# BOARDING LOCATIONS\n",
    "\n",
    "boardings=round(augjan.groupby('stop')['boardings'].agg('sum').reset_index(),2)\n",
    "boardingsordered=boardings.nlargest(len(boardings),'boardings')\n",
    "boardingsordered # to_csv to make record"
   ]
  },
  {
   "cell_type": "code",
   "execution_count": 124,
   "id": "faced-comparative",
   "metadata": {},
   "outputs": [
    {
     "data": {
      "text/html": [
       "<div>\n",
       "<style scoped>\n",
       "    .dataframe tbody tr th:only-of-type {\n",
       "        vertical-align: middle;\n",
       "    }\n",
       "\n",
       "    .dataframe tbody tr th {\n",
       "        vertical-align: top;\n",
       "    }\n",
       "\n",
       "    .dataframe thead th {\n",
       "        text-align: right;\n",
       "    }\n",
       "</style>\n",
       "<table border=\"1\" class=\"dataframe\">\n",
       "  <thead>\n",
       "    <tr style=\"text-align: right;\">\n",
       "      <th></th>\n",
       "      <th>stop</th>\n",
       "      <th>alightings</th>\n",
       "    </tr>\n",
       "  </thead>\n",
       "  <tbody>\n",
       "    <tr>\n",
       "      <th>376</th>\n",
       "      <td>Naylor Rd Station Bay H</td>\n",
       "      <td>6065</td>\n",
       "    </tr>\n",
       "    <tr>\n",
       "      <th>379</th>\n",
       "      <td>New Carrollton Station - Arrival</td>\n",
       "      <td>5249</td>\n",
       "    </tr>\n",
       "    <tr>\n",
       "      <th>277</th>\n",
       "      <td>Greenbelt Metro Station (Arrival)</td>\n",
       "      <td>5072</td>\n",
       "    </tr>\n",
       "    <tr>\n",
       "      <th>491</th>\n",
       "      <td>Southern Ave Station Bay E - Arrival</td>\n",
       "      <td>5049</td>\n",
       "    </tr>\n",
       "    <tr>\n",
       "      <th>584</th>\n",
       "      <td>Woody Terrace at Woodyard Rd</td>\n",
       "      <td>4547</td>\n",
       "    </tr>\n",
       "    <tr>\n",
       "      <th>...</th>\n",
       "      <td>...</td>\n",
       "      <td>...</td>\n",
       "    </tr>\n",
       "    <tr>\n",
       "      <th>328</th>\n",
       "      <td>John Rogers Blvd at Courtland Ln</td>\n",
       "      <td>0</td>\n",
       "    </tr>\n",
       "    <tr>\n",
       "      <th>211</th>\n",
       "      <td>Brown Station Rd at Dille Dr</td>\n",
       "      <td>0</td>\n",
       "    </tr>\n",
       "    <tr>\n",
       "      <th>98</th>\n",
       "      <td>Apollo Dr at Mercantile Ln</td>\n",
       "      <td>0</td>\n",
       "    </tr>\n",
       "    <tr>\n",
       "      <th>436</th>\n",
       "      <td>Piscataway Rd at Gwynndale Dr</td>\n",
       "      <td>0</td>\n",
       "    </tr>\n",
       "    <tr>\n",
       "      <th>251</th>\n",
       "      <td>Equestrian Center Lot 1</td>\n",
       "      <td>0</td>\n",
       "    </tr>\n",
       "  </tbody>\n",
       "</table>\n",
       "<p>592 rows × 2 columns</p>\n",
       "</div>"
      ],
      "text/plain": [
       "                                     stop  alightings\n",
       "376               Naylor Rd Station Bay H        6065\n",
       "379      New Carrollton Station - Arrival        5249\n",
       "277     Greenbelt Metro Station (Arrival)        5072\n",
       "491  Southern Ave Station Bay E - Arrival        5049\n",
       "584          Woody Terrace at Woodyard Rd        4547\n",
       "..                                    ...         ...\n",
       "328      John Rogers Blvd at Courtland Ln           0\n",
       "211          Brown Station Rd at Dille Dr           0\n",
       "98             Apollo Dr at Mercantile Ln           0\n",
       "436         Piscataway Rd at Gwynndale Dr           0\n",
       "251               Equestrian Center Lot 1           0\n",
       "\n",
       "[592 rows x 2 columns]"
      ]
     },
     "execution_count": 124,
     "metadata": {},
     "output_type": "execute_result"
    }
   ],
   "source": [
    "# ALIGHTING LOCATIONS\n",
    "\n",
    "alightings=round(augjan.groupby('stop')['alightings'].agg('sum').reset_index(),2)\n",
    "alightingsordered=alightings.nlargest(len(alightings),'alightings')\n",
    "alightingsordered # to_csv to make record"
   ]
  },
  {
   "cell_type": "code",
   "execution_count": null,
   "id": "modified-basement",
   "metadata": {},
   "outputs": [],
   "source": []
  }
 ],
 "metadata": {
  "kernelspec": {
   "name": "python37464biteb8b20bfa42647119bf8c2c896cb2602",
   "display_name": "Python 3.7.4 64-bit ('3.7')"
  },
  "language_info": {
   "codemirror_mode": {
    "name": "ipython",
    "version": 3
   },
   "file_extension": ".py",
   "mimetype": "text/x-python",
   "name": "python",
   "nbconvert_exporter": "python",
   "pygments_lexer": "ipython3",
   "version": "3.7.4"
  },
  "metadata": {
   "interpreter": {
    "hash": "e534e48711db4d1e1c48977d0d14ff85b1f16d41bcc4fdfd88268a329b3c9d66"
   }
  }
 },
 "nbformat": 4,
 "nbformat_minor": 5
}